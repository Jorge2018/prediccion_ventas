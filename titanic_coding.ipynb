{
  "nbformat": 4,
  "nbformat_minor": 0,
  "metadata": {
    "colab": {
      "name": "Untitled8.ipynb",
      "provenance": [],
      "authorship_tag": "ABX9TyNb9Bd8ZIL2KvaMcJvZ3jYA",
      "include_colab_link": true
    },
    "kernelspec": {
      "name": "python3",
      "display_name": "Python 3"
    },
    "language_info": {
      "name": "python"
    }
  },
  "cells": [
    {
      "cell_type": "markdown",
      "metadata": {
        "id": "view-in-github",
        "colab_type": "text"
      },
      "source": [
        "<a href=\"https://colab.research.google.com/github/Jorge2018/prediccion_ventas/blob/main/titanic_coding.ipynb\" target=\"_parent\"><img src=\"https://colab.research.google.com/assets/colab-badge.svg\" alt=\"Open In Colab\"/></a>"
      ]
    },
    {
      "cell_type": "code",
      "execution_count": 43,
      "metadata": {
        "colab": {
          "base_uri": "https://localhost:8080/"
        },
        "id": "zb8g3Zic8UGQ",
        "outputId": "98e2d076-8bac-430b-8bb0-cfdbbe1724ca"
      },
      "outputs": [
        {
          "output_type": "stream",
          "name": "stdout",
          "text": [
            "el porcentaje de supervivientes es 38.38383838383838\n",
            "la cantidad de supervivientes por sexo es  Sex\n",
            "female    233\n",
            "male      109\n",
            "Name: Survived, dtype: int64\n",
            "el porcentaje de supervivientes que pagaron menos de 10 son: 7.788064179104477\n",
            "el promedio de edad de los no supervivientes es 30.62617924528302\n",
            "el promedio de edad de los supervivientes es 28.343689655172415\n",
            "el promedio de edad de todos los pasajero agrupados por sexo es Sex\n",
            "female    27.915709\n",
            "male      30.726645\n",
            "Name: Age, dtype: float64\n"
          ]
        }
      ],
      "source": [
        "import numpy as np\n",
        "import pandas as pd\n",
        "titanic_df= pd.read_csv(r'https://raw.githubusercontent.com/Jorge2018/prediccion_ventas/main/titanic.csv')\n",
        "\n",
        "#titanic_df #pto 1\n",
        "titanic_dfSurvived=titanic_df.loc[(titanic_df['Survived'] == 1)]# & (df['Flow_ID'] ==7)]\n",
        "print('el porcentaje de supervivientes es' ,titanic_df['Survived'].mean() * 100) # pto 2\n",
        "print('la cantidad de supervivientes por sexo es ',titanic_dfSurvived.groupby(['Sex'])['Survived'].count()) # pto 3\n",
        "cond = titanic_dfSurvived['Fare'].values\n",
        "men10 = cond < 10.0\n",
        "titanic = cond[men10].mean()\n",
        "print('el porcentaje de supervivientes que pagaron menos de 10 son:',titanic) # pto 4\n",
        "titanic_dfNoSurvived=titanic_df.loc[(titanic_df['Survived'] != 1)]\n",
        "print('el promedio de edad de los no supervivientes es' ,titanic_dfNoSurvived['Age'].mean()) # pto 5\n",
        "print('el promedio de edad de los supervivientes es' ,titanic_dfSurvived['Age'].mean()) # pto 6\n",
        "print('el promedio de edad de todos los pasajero agrupados por sexo es',titanic_df.groupby(['Sex'])['Age'].mean()) # group by\n",
        "\n"
      ]
    }
  ]
}