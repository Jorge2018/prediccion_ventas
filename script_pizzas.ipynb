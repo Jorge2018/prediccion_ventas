{
  "nbformat": 4,
  "nbformat_minor": 0,
  "metadata": {
    "colab": {
      "name": "Untitled2.ipynb",
      "provenance": [],
      "authorship_tag": "ABX9TyPnm1wV8BHPoWJyiTfA9pwO",
      "include_colab_link": true
    },
    "kernelspec": {
      "name": "python3",
      "display_name": "Python 3"
    },
    "language_info": {
      "name": "python"
    }
  },
  "cells": [
    {
      "cell_type": "markdown",
      "metadata": {
        "id": "view-in-github",
        "colab_type": "text"
      },
      "source": [
        "<a href=\"https://colab.research.google.com/github/Jorge2018/prediccion_ventas/blob/main/script_pizzas.ipynb\" target=\"_parent\"><img src=\"https://colab.research.google.com/assets/colab-badge.svg\" alt=\"Open In Colab\"/></a>"
      ]
    },
    {
      "cell_type": "code",
      "execution_count": 100,
      "metadata": {
        "colab": {
          "base_uri": "https://localhost:8080/"
        },
        "id": "sC9KZy-JrYNJ",
        "outputId": "ebff2a2d-494e-4526-acd6-831242af5093"
      },
      "outputs": [
        {
          "output_type": "stream",
          "name": "stdout",
          "text": [
            "-----------------------------------\n",
            "Escoge tipo de Pizza: 1 -> Vegeteriana 2 -> No Vegetariana, 0 (cero) para salir:\n",
            "1\n",
            "-----------------------------------\n",
            "Escoge tipo de Pizza: 1 -> Vegeteriana 2 -> No Vegetariana, 0 (cero) para salir:\n",
            "1\n",
            "-----------------------------------\n",
            "Escoge tipo de Pizza: 1 -> Vegeteriana 2 -> No Vegetariana, 0 (cero) para salir:\n",
            "0\n",
            "-----------------------------------\n",
            "Los Ingredientes de las pízzas vegetarianas son: 1 Pimiento 2 tofu escoge solo uno\n",
            "2\n",
            "-----------------------------------\n",
            "Los Ingredientes de las pízzas vegetarianas son: 1 Pimiento 2 tofu escoge solo uno\n",
            "2\n",
            "-----------------------------------\n",
            "La pizza(s) 2  seleccionada(s) es vegetariana y los ingredientes son: ['mozzarella', 'tomate'] y ['tofu', 'tofu'] -> A cancelar  10 dolares\n"
          ]
        }
      ],
      "source": [
        "num =1000\n",
        "acum=0\n",
        "lista_1=[]\n",
        "lista_1A=[]\n",
        "lista_1B=[]\n",
        "lista_2B=[]\n",
        "lista_2A=[]\n",
        "lista_2=[]\n",
        "ingre_1=['Pimiento','tofu']\n",
        "ingre_2=['Peperoni','Jamon','Salmon']\n",
        "ingre_top=['mozzarella','tomate']\n",
        "tipo=['Vegetarina','No Vegetarina']\n",
        "acum=0\n",
        "acum2=0\n",
        "\n",
        "while num != 0:\n",
        "  print(\"-----------------------------------\")\n",
        "  print(\"Escoge tipo de Pizza: 1 -> Vegeteriana 2 -> No Vegetariana, 0 (cero) para salir:\") \n",
        "  num=input()\n",
        "  num=int(num)  \n",
        "  if num==1:    \n",
        "    lista_1.append(num)\n",
        "  if num==0 and len(lista_1) > 0:\n",
        "    for i in range(len(lista_1)):\n",
        "      print(\"-----------------------------------\")\n",
        "      print(\"Los Ingredientes de las pízzas vegetarianas son:\",\"1\",ingre_1[0],\"2\",ingre_1[1],\"escoge solo uno\")  \n",
        "      num_1=input()      \n",
        "      lista_1A.append(num_1)\n",
        "    for i in range(len(lista_1A)):      \n",
        "      if lista_1A[i]==\"1\":\n",
        "        acum=acum + 7\n",
        "      else:\n",
        "        acum=acum + 5\n",
        "      largo=len(lista_1A)\n",
        "      indice=lista_1A.index(lista_1A[0])\n",
        "    while largo > indice:\n",
        "      if lista_1A[indice]==\"1\":\n",
        "        lista_1B.append(ingre_1[0])\n",
        "      elif lista_1A[indice]!=1:\n",
        "        lista_1B.append(ingre_1[1])\n",
        "      indice +=1  \n",
        "    print(\"-----------------------------------\")\n",
        "    print(\"La pizza(s)\",len(lista_1A),\" seleccionada(s) es vegetariana y los ingredientes son:\",ingre_top,\"y\",lista_1B,\"-> A cancelar \",acum,\"dolares\")\n",
        "\n",
        "  if num==2:    \n",
        "    lista_2.append(num)  \n",
        "  if num==0 and len(lista_2) > 0:\n",
        "    for i in range(len(lista_2)):\n",
        "      print(\"-----------------------------------\")\n",
        "      print(\"Los Ingredientes de las pízzas no vegetarianas son :\",\"1\",ingre_2[0],\"2\",ingre_2[1],\"3\",ingre_2[2],\"escoge solo uno\")  \n",
        "      num_2=input()      \n",
        "      lista_2A.append(num_2)\n",
        "    for i in range(len(lista_2A)):      \n",
        "      if lista_2A[i]==\"1\":\n",
        "        acum2=acum2 + 7\n",
        "      elif lista_2A[i]==\"2\":\n",
        "        acum2=acum2 + 4\n",
        "      else:\n",
        "        acum2=acum2 + 10 \n",
        "      largo=len(lista_2A)\n",
        "      indice=lista_2A.index(lista_2A[0])\n",
        "    while largo > indice:\n",
        "      if lista_2A[indice]==\"1\":\n",
        "        lista_2B.append(ingre_2[0])\n",
        "      elif lista_2A[indice]==\"2\":\n",
        "        lista_2B.append(ingre_2[1])\n",
        "      else:\n",
        "        lista_2B.append(ingre_2[2])\n",
        "      indice +=1  \n",
        "    print(\"-----------------------------------\") \n",
        "    print(\"La pizza(s)\",len(lista_2A),\" seleccionada(s) no es vegetariana y los ingredientes son:\",ingre_top,\"y\",lista_2B,\"-> A cancelar \",acum2,\"dolares\")\n",
        "\n",
        "    if acum > 0 and acum2 > 0:\n",
        "      print(\" \")\n",
        "      print(\"Total a cancelar es: \", acum + acum2,\" dolares\")\n",
        "    elif acum > 0 and acum2 ==0:\n",
        "      print(\" \")  \n",
        "      print(\"Total a cancelar es: \", acum,\" dolares\" )\n",
        "    else:\n",
        "      print(\" \")\n",
        "      print(\"Total a cancelar es: \", acum2,\" dolares\" )\n",
        "\n",
        "  if num==0 and len(lista_1)==0 and len(lista_2)==0:\n",
        "    break\n",
        "   \n",
        "  "
      ]
    }
  ]
}