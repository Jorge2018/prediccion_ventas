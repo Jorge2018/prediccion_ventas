{
  "nbformat": 4,
  "nbformat_minor": 0,
  "metadata": {
    "colab": {
      "name": "Untitled2.ipynb",
      "provenance": [],
      "authorship_tag": "ABX9TyPQIAZvJ7cY7klBC3UOlSyc",
      "include_colab_link": true
    },
    "kernelspec": {
      "name": "python3",
      "display_name": "Python 3"
    },
    "language_info": {
      "name": "python"
    }
  },
  "cells": [
    {
      "cell_type": "markdown",
      "metadata": {
        "id": "view-in-github",
        "colab_type": "text"
      },
      "source": [
        "<a href=\"https://colab.research.google.com/github/Jorge2018/prediccion_ventas/blob/main/script_pizzas.ipynb\" target=\"_parent\"><img src=\"https://colab.research.google.com/assets/colab-badge.svg\" alt=\"Open In Colab\"/></a>"
      ]
    },
    {
      "cell_type": "code",
      "execution_count": 5,
      "metadata": {
        "colab": {
          "base_uri": "https://localhost:8080/"
        },
        "id": "sC9KZy-JrYNJ",
        "outputId": "36ff5f84-14b5-44d2-cdaa-42c25e9874d3"
      },
      "outputs": [
        {
          "output_type": "stream",
          "name": "stdout",
          "text": [
            "Escoge tipo de Pizza: 1 -> Vegeteriana 2 -> No Vegetariana, 0 (cero) para salir:\n",
            "2\n",
            "Los Ingredientes son : 1 Peperoni 2 Jamon 3 Salmon escoge solo uno\n",
            "2\n",
            "La pizza seleccionada es no es vegetriana y los ingredientes son: ['mozzarella', 'tomate'] y Jamon el valor es de 4 dolares\n"
          ]
        }
      ],
      "source": [
        "\n",
        "\n",
        "\n",
        "print(\"Escoge tipo de Pizza: 1 -> Vegeteriana 2 -> No Vegetariana, 0 (cero) para salir:\") \n",
        "num=input()\n",
        "num=str(num)\n",
        "\n",
        "ingre_1=['Pimiento','tofu']\n",
        "ingre_2=['Peperoni','Jamon','Salmon']\n",
        "ingre_top=['mozzarella','tomate']\n",
        "\n",
        "\n",
        "\n",
        "if num=='0':\n",
        "  exit()\n",
        "\n",
        "if num > '2':\n",
        "  print(\"error\")\n",
        "  exit()\n",
        "elif num =='1':\n",
        "  print(\"Los Ingredientes son :\",\"1\",ingre_1[0],\"2\",ingre_1[1],\"escoge solo uno\")\n",
        "  num_1=input()\n",
        "  num_1=str(num_1)\n",
        "  if num_1=='1':\n",
        "    print(\"La pizza seleccionada es vegetriana y los ingredientes son:\",ingre_top,\"y\",ingre_1[0],\"el valor es de 5 dolares\")\n",
        "  if num_1=='2':\n",
        "    print(\"La pizza seleccionada es vegetriana y los ingredientes son:\",ingre_top,\"y\",ingre_1[1],\"el valor es de 7 dolares\")\n",
        "\n",
        "\n",
        "elif num =='2':\n",
        "  print(\"Los Ingredientes son :\",\"1\",ingre_2[0],\"2\",ingre_2[1],\"3\",ingre_2[2],\"escoge solo uno\")\n",
        "  num_2=input()\n",
        "  num_2=str(num_2)\n",
        "  if num_2=='1':\n",
        "    print(\"La pizza seleccionada es no es vegetriana y los ingredientes son:\",ingre_top,\"y\",ingre_2[0],\"el valor es de 7 dolares\")\n",
        "  if num_2=='2':\n",
        "    print(\"La pizza seleccionada es no es vegetriana y los ingredientes son:\",ingre_top,\"y\",ingre_2[1],\"el valor es de 4 dolares\")\n",
        "  if num_2=='3':\n",
        "    print(\"La pizza seleccionada es no es vegetriana y los ingredientes son:\",ingre_top,\"y\",ingre_2[2],\"el valor es de 10 dolares\")\n",
        "\n"
      ]
    }
  ]
}