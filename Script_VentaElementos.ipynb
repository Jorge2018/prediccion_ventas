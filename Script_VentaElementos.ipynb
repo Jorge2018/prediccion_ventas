{
  "nbformat": 4,
  "nbformat_minor": 0,
  "metadata": {
    "colab": {
      "name": "Untitled4.ipynb",
      "provenance": [],
      "authorship_tag": "ABX9TyP4dMuSYVqXJ1cmGD/3I4Zg",
      "include_colab_link": true
    },
    "kernelspec": {
      "name": "python3",
      "display_name": "Python 3"
    },
    "language_info": {
      "name": "python"
    }
  },
  "cells": [
    {
      "cell_type": "markdown",
      "metadata": {
        "id": "view-in-github",
        "colab_type": "text"
      },
      "source": [
        "<a href=\"https://colab.research.google.com/github/Jorge2018/prediccion_ventas/blob/main/Script_VentaElementos.ipynb\" target=\"_parent\"><img src=\"https://colab.research.google.com/assets/colab-badge.svg\" alt=\"Open In Colab\"/></a>"
      ]
    },
    {
      "cell_type": "code",
      "execution_count": null,
      "metadata": {
        "colab": {
          "base_uri": "https://localhost:8080/"
        },
        "id": "4vWUs2E9B5Su",
        "outputId": "1d037990-ea42-4808-ff39-973600afc3db"
      },
      "outputs": [
        {
          "output_type": "stream",
          "name": "stdout",
          "text": [
            "ingresa contraseña \n",
            "jesus\n",
            "No es valido\n",
            "ingresa contraseña \n",
            "2022\n",
            "No es valido\n",
            "ingresa contraseña \n",
            "K52_2022\n",
            "No es valido\n",
            "ingresa contraseña \n",
            "k52_2022\n",
            "Correcto\n"
          ]
        }
      ],
      "source": [
        "contra=('k52_2022')\n",
        "x=input(\"ingresa contraseña \\n\")\n",
        "while contra != x:\n",
        "  print(\"No es valido\")\n",
        "  x=input(\"ingresa contraseña \\n\")\n",
        "if contra == x:\n",
        "  print('Correcto')\n"
      ]
    },
    {
      "cell_type": "code",
      "source": [
        "gu"
      ],
      "metadata": {
        "id": "YdUy-o96dHqW"
      },
      "execution_count": null,
      "outputs": []
    },
    {
      "cell_type": "code",
      "source": [
        "x='s'\n",
        "elem_precio=[]\n",
        "elem_precio_2=[]\n",
        "tot=0\n",
        "acum=0\n",
        "while (x!='F'):\n",
        "  x=input(\"Ingresa los elementos para finalizar ingresa F:\")\n",
        "  if x !='F':\n",
        "    elem_precio.append(x)\n",
        "  if x=='F':\n",
        "    break\n",
        "  else:    \n",
        "    print(\"Ingresa el valor de:\",elem_precio[-1])\n",
        "    y=input(\"$:\")\n",
        "    \n",
        "    if y.isdigit()==False or int(y) < 0:\n",
        "      print(\"El valor no es valido\")\n",
        "      print(\"Ingresa el valor de:\",elem_precio[-1])\n",
        "      y=input(\"$:\")\n",
        "      elem_precio_2.append(int(y))\n",
        "    else:\n",
        "      elem_precio_2.append(int(y))\n",
        "print(\"\")\n",
        "print(\"*** Lista de precios ***\")\n",
        "print(\"\")\n",
        "for i in range(len(elem_precio)):\n",
        "  print(\"producto:\",elem_precio[i],\"valor:\",elem_precio_2[i])\n",
        "\n",
        "j='s'\n",
        "elem_venta=[]\n",
        "elem_venta_2=[]\n",
        "while (j!='F'):\n",
        "  print(\"\")\n",
        "  print(\"Ingresa Productos a vender. -> para finalizar ingresa F:\")\n",
        "  val=1\n",
        "  for i in range(len(elem_precio)):\n",
        "    print(\"\")\n",
        "    print(\"ingresa\",val,\"para:\",elem_precio[i])\n",
        "    print(\"\")\n",
        "    val +=1\n",
        "    q=int(input(\":\"))\n",
        "    if q < 0 or q > len(elem_precio):\n",
        "      print(\"Ingreso incorrecto\")\n",
        "  q -= 1\n",
        "  elem_venta.append(q)\n",
        "  valor2=elem_precio_2[q]\n",
        "  print(\"Ingresa cantidad de :\",elem_precio[q])\n",
        "  r=int(input())\n",
        "  elem_venta_2.append(r)\n",
        "  for i in range(len(elem_venta_2)):\n",
        "    valor1=elem_venta_2[i] # cantidad de elementos vendidos\n",
        "    tot=(valor1 * valor2)\n",
        "    w=int(input(\"Desea otro producto 1. SI 2. NO:\"))\n",
        "  acum=acum + tot  \n",
        "  if w==2:\n",
        "     break\n",
        "   \n",
        "print(\"El valor a pagar es:\", acum)\n",
        "\n",
        "  \n",
        " \n",
        "\n",
        "\n",
        "\n",
        "\n",
        " "
      ],
      "metadata": {
        "colab": {
          "base_uri": "https://localhost:8080/",
          "height": 826
        },
        "id": "XbwHa8MJDrdy",
        "outputId": "730ed02a-ebe4-4b24-ea6d-1b4d5b1b659a"
      },
      "execution_count": 30,
      "outputs": [
        {
          "output_type": "stream",
          "name": "stdout",
          "text": [
            "Ingresa los elementos para finalizar ingresa F:agua\n",
            "Ingresa el valor de: agua\n",
            "$:100\n",
            "Ingresa los elementos para finalizar ingresa F:arroz\n",
            "Ingresa el valor de: arroz\n",
            "$:200\n",
            "Ingresa los elementos para finalizar ingresa F:F\n",
            "\n",
            "*** Lista de precios ***\n",
            "\n",
            "producto: agua valor: 100\n",
            "producto: arroz valor: 200\n",
            "\n",
            "Ingresa Productos a vender. -> para finalizar ingresa F:\n",
            "\n",
            "ingresa 1 para: agua\n",
            "\n",
            "\n",
            "ingresa 2 para: arroz\n",
            "\n",
            ":1\n",
            "Ingresa cantidad de : agua\n",
            "10\n",
            "Desea otro producto 1. SI 2. NO:1\n",
            "\n",
            "Ingresa Productos a vender. -> para finalizar ingresa F:\n",
            "\n",
            "ingresa 1 para: agua\n",
            "\n",
            "\n",
            "ingresa 2 para: arroz\n",
            "\n",
            ":100\n",
            "Ingreso incorrecto\n"
          ]
        },
        {
          "output_type": "error",
          "ename": "IndexError",
          "evalue": "ignored",
          "traceback": [
            "\u001b[0;31m---------------------------------------------------------------------------\u001b[0m",
            "\u001b[0;31mIndexError\u001b[0m                                Traceback (most recent call last)",
            "\u001b[0;32m<ipython-input-30-c3ee3670124f>\u001b[0m in \u001b[0;36m<module>\u001b[0;34m()\u001b[0m\n\u001b[1;32m     44\u001b[0m   \u001b[0mq\u001b[0m \u001b[0;34m-=\u001b[0m \u001b[0;36m1\u001b[0m\u001b[0;34m\u001b[0m\u001b[0;34m\u001b[0m\u001b[0m\n\u001b[1;32m     45\u001b[0m   \u001b[0melem_venta\u001b[0m\u001b[0;34m.\u001b[0m\u001b[0mappend\u001b[0m\u001b[0;34m(\u001b[0m\u001b[0mq\u001b[0m\u001b[0;34m)\u001b[0m\u001b[0;34m\u001b[0m\u001b[0;34m\u001b[0m\u001b[0m\n\u001b[0;32m---> 46\u001b[0;31m   \u001b[0mvalor2\u001b[0m\u001b[0;34m=\u001b[0m\u001b[0melem_precio_2\u001b[0m\u001b[0;34m[\u001b[0m\u001b[0mq\u001b[0m\u001b[0;34m]\u001b[0m\u001b[0;34m\u001b[0m\u001b[0;34m\u001b[0m\u001b[0m\n\u001b[0m\u001b[1;32m     47\u001b[0m   \u001b[0mprint\u001b[0m\u001b[0;34m(\u001b[0m\u001b[0;34m\"Ingresa cantidad de :\"\u001b[0m\u001b[0;34m,\u001b[0m\u001b[0melem_precio\u001b[0m\u001b[0;34m[\u001b[0m\u001b[0mq\u001b[0m\u001b[0;34m]\u001b[0m\u001b[0;34m)\u001b[0m\u001b[0;34m\u001b[0m\u001b[0;34m\u001b[0m\u001b[0m\n\u001b[1;32m     48\u001b[0m   \u001b[0mr\u001b[0m\u001b[0;34m=\u001b[0m\u001b[0mint\u001b[0m\u001b[0;34m(\u001b[0m\u001b[0minput\u001b[0m\u001b[0;34m(\u001b[0m\u001b[0;34m)\u001b[0m\u001b[0;34m)\u001b[0m\u001b[0;34m\u001b[0m\u001b[0;34m\u001b[0m\u001b[0m\n",
            "\u001b[0;31mIndexError\u001b[0m: list index out of range"
          ]
        }
      ]
    },
    {
      "cell_type": "code",
      "source": [
        "*for i in range(len(elem_venta_2)):\n",
        "  valor1=elem_venta_2[i]\n",
        "  valor2=elem_precio_2[i]\n",
        "print(type(valor1),valor1,type(valor2),valor2)\n",
        "  "
      ],
      "metadata": {
        "id": "-Vaa4kQwgLcU",
        "outputId": "8e8ddac1-119c-44ff-972a-f58b7431ca30",
        "colab": {
          "base_uri": "https://localhost:8080/"
        }
      },
      "execution_count": null,
      "outputs": [
        {
          "output_type": "stream",
          "name": "stdout",
          "text": [
            "<class 'str'> 100 <class 'list'> ['200']\n"
          ]
        }
      ]
    }
  ]
}