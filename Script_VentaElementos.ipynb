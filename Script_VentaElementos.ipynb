{
  "nbformat": 4,
  "nbformat_minor": 0,
  "metadata": {
    "colab": {
      "name": "Untitled4.ipynb",
      "provenance": [],
      "authorship_tag": "ABX9TyNRHIR/F+fc+5FqsbFQt2ir",
      "include_colab_link": true
    },
    "kernelspec": {
      "name": "python3",
      "display_name": "Python 3"
    },
    "language_info": {
      "name": "python"
    }
  },
  "cells": [
    {
      "cell_type": "markdown",
      "metadata": {
        "id": "view-in-github",
        "colab_type": "text"
      },
      "source": [
        "<a href=\"https://colab.research.google.com/github/Jorge2018/prediccion_ventas/blob/main/Script_VentaElementos.ipynb\" target=\"_parent\"><img src=\"https://colab.research.google.com/assets/colab-badge.svg\" alt=\"Open In Colab\"/></a>"
      ]
    },
    {
      "cell_type": "code",
      "execution_count": 4,
      "metadata": {
        "colab": {
          "base_uri": "https://localhost:8080/"
        },
        "id": "4vWUs2E9B5Su",
        "outputId": "1d037990-ea42-4808-ff39-973600afc3db"
      },
      "outputs": [
        {
          "output_type": "stream",
          "name": "stdout",
          "text": [
            "ingresa contraseña \n",
            "jesus\n",
            "No es valido\n",
            "ingresa contraseña \n",
            "2022\n",
            "No es valido\n",
            "ingresa contraseña \n",
            "K52_2022\n",
            "No es valido\n",
            "ingresa contraseña \n",
            "k52_2022\n",
            "Correcto\n"
          ]
        }
      ],
      "source": [
        "contra=('k52_2022')\n",
        "x=input(\"ingresa contraseña \\n\")\n",
        "while contra != x:\n",
        "  print(\"No es valido\")\n",
        "  x=input(\"ingresa contraseña \\n\")\n",
        "if contra == x:\n",
        "  print('Correcto')\n"
      ]
    },
    {
      "cell_type": "code",
      "source": [
        "x=input(\"Ingresa los elementos y precios (separados por un coma) vender para finalizar ingresa X:\")\n",
        "elem_precio=[]\n",
        "while (x!='F'):\n",
        "  elem_precio.append([x])\n",
        "  x=input(\"Ingresa los elementos y precios (separados por un coma) vender para finalizar ingresa X:\")\n",
        "\n",
        "\n"
      ],
      "metadata": {
        "colab": {
          "base_uri": "https://localhost:8080/"
        },
        "id": "XbwHa8MJDrdy",
        "outputId": "d3c229c6-270a-44b3-9964-ac2f51b80250"
      },
      "execution_count": 9,
      "outputs": [
        {
          "name": "stdout",
          "output_type": "stream",
          "text": [
            "Ingresa los elementos y precios (separados por un coma) vender para finalizar ingresa X:arroz,100\n",
            "Ingresa los elementos y precios (separados por un coma) vender para finalizar ingresa X:jabon,30\n",
            "Ingresa los elementos y precios (separados por un coma) vender para finalizar ingresa X:leche,10\n",
            "Ingresa los elementos y precios (separados por un coma) vender para finalizar ingresa X:F\n"
          ]
        },
        {
          "output_type": "execute_result",
          "data": {
            "text/plain": [
              "[['arroz,100'], ['jabon,30'], ['leche,10']]"
            ]
          },
          "metadata": {},
          "execution_count": 9
        }
      ]
    }
  ]
}