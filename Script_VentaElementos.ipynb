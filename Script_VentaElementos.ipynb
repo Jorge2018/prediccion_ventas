{
  "nbformat": 4,
  "nbformat_minor": 0,
  "metadata": {
    "colab": {
      "name": "Untitled4.ipynb",
      "provenance": [],
      "authorship_tag": "ABX9TyNyfY21L/iA8aljN5eBh8KM",
      "include_colab_link": true
    },
    "kernelspec": {
      "name": "python3",
      "display_name": "Python 3"
    },
    "language_info": {
      "name": "python"
    }
  },
  "cells": [
    {
      "cell_type": "markdown",
      "metadata": {
        "id": "view-in-github",
        "colab_type": "text"
      },
      "source": [
        "<a href=\"https://colab.research.google.com/github/Jorge2018/prediccion_ventas/blob/main/Script_VentaElementos.ipynb\" target=\"_parent\"><img src=\"https://colab.research.google.com/assets/colab-badge.svg\" alt=\"Open In Colab\"/></a>"
      ]
    },
    {
      "cell_type": "code",
      "execution_count": null,
      "metadata": {
        "colab": {
          "base_uri": "https://localhost:8080/"
        },
        "id": "4vWUs2E9B5Su",
        "outputId": "1d037990-ea42-4808-ff39-973600afc3db"
      },
      "outputs": [
        {
          "output_type": "stream",
          "name": "stdout",
          "text": [
            "ingresa contraseña \n",
            "jesus\n",
            "No es valido\n",
            "ingresa contraseña \n",
            "2022\n",
            "No es valido\n",
            "ingresa contraseña \n",
            "K52_2022\n",
            "No es valido\n",
            "ingresa contraseña \n",
            "k52_2022\n",
            "Correcto\n"
          ]
        }
      ],
      "source": [
        "contra=('k52_2022')\n",
        "x=input(\"ingresa contraseña \\n\")\n",
        "while contra != x:\n",
        "  print(\"No es valido\")\n",
        "  x=input(\"ingresa contraseña \\n\")\n",
        "if contra == x:\n",
        "  print('Correcto')\n"
      ]
    },
    {
      "cell_type": "code",
      "source": [
        "gu"
      ],
      "metadata": {
        "id": "YdUy-o96dHqW"
      },
      "execution_count": null,
      "outputs": []
    },
    {
      "cell_type": "code",
      "source": [
        "x='s'\n",
        "elem_precio=[]\n",
        "elem_precio_2=[]\n",
        "while (x!='F'):\n",
        "  x=input(\"Ingresa los elementos para finalizar ingresa F:\")\n",
        "  if x !='F':\n",
        "    elem_precio.append(x)\n",
        "  if x=='F':\n",
        "    break\n",
        "  else:    \n",
        "    print(\"Ingresa el valor de:\",elem_precio[-1])\n",
        "    y=input(\"$:\")\n",
        "    \n",
        "    if y.isdigit()==False or int(y) < 0:\n",
        "      print(\"El valor no es valido\")\n",
        "      print(\"Ingresa el valor de:\",elem_precio[-1])\n",
        "      y=input(\"$:\")\n",
        "      elem_precio_2.append(int(y))\n",
        "    else:\n",
        "      elem_precio_2.append(int(y))\n",
        "print(\"\")\n",
        "print(\"*** Lista de precios ***\")\n",
        "print(\"\")\n",
        "for i in range(len(elem_precio)):\n",
        "  print(\"producto:\",elem_precio[i],\"valor:\",elem_precio_2[i])\n",
        "\n",
        "j='s'\n",
        "elem_venta=[]\n",
        "elem_venta_2=[]\n",
        "while (j!='F'):\n",
        "  print(\"\")\n",
        "  print(\"Ingresa Productos a vender. -> para finalizar ingresa F:\")\n",
        "  val=1\n",
        "  for i in range(len(elem_precio)):\n",
        "    print(\"\")\n",
        "    print(\"ingresa\",val,\"para:\",elem_precio[i])\n",
        "    print(\"\")\n",
        "    val +=1\n",
        "  q=input(\":\")\n",
        "  elem_venta.append(q)\n",
        "  print(\"Ingresa cantidad de :\",elem_precio[i])\n",
        "  r=int(input())\n",
        "  elem_venta_2.append(r)\n",
        "  w=int(input(\"Desea otro producto 1. SI 2. NO:\"))\n",
        "  if w==2:\n",
        "     break\n",
        "  tot = elem_venta_2[i] * elem_precio_2[i]\n",
        "  print(elem_venta_2[i],' ',elem_precio_2[i])\n",
        "\n",
        "print(\"El valor a pagar es:\", tot)\n",
        "\n",
        "  \n",
        " \n",
        "\n",
        "\n",
        "\n",
        "\n",
        " "
      ],
      "metadata": {
        "colab": {
          "base_uri": "https://localhost:8080/"
        },
        "id": "XbwHa8MJDrdy",
        "outputId": "f8681790-d720-4b0a-c951-8e0b03bce56e"
      },
      "execution_count": 126,
      "outputs": [
        {
          "output_type": "stream",
          "name": "stdout",
          "text": [
            "Ingresa los elementos para finalizar ingresa F:aceite\n",
            "Ingresa el valor de: aceite\n",
            "$:4000\n",
            "Ingresa los elementos para finalizar ingresa F:agua\n",
            "Ingresa el valor de: agua\n",
            "$:400\n",
            "Ingresa los elementos para finalizar ingresa F:F\n",
            "\n",
            "*** Lista de precios ***\n",
            "\n",
            "producto: aceite valor: 4000\n",
            "producto: agua valor: 400\n",
            "\n",
            "Ingresa Productos a vender. -> para finalizar ingresa F:\n",
            "\n",
            "ingresa 1 para: aceite\n",
            "\n",
            "\n",
            "ingresa 2 para: agua\n",
            "\n",
            ":1\n",
            "Ingresa cantidad de : agua\n",
            "10\n",
            "Desea otro producto 1. SI 2. NO:2\n",
            "El valor a pagar es: 4500\n"
          ]
        }
      ]
    },
    {
      "cell_type": "code",
      "source": [
        "*for i in range(len(elem_venta_2)):\n",
        "  valor1=elem_venta_2[i]\n",
        "  valor2=elem_precio_2[i]\n",
        "print(type(valor1),valor1,type(valor2),valor2)\n",
        "  "
      ],
      "metadata": {
        "id": "-Vaa4kQwgLcU",
        "outputId": "8e8ddac1-119c-44ff-972a-f58b7431ca30",
        "colab": {
          "base_uri": "https://localhost:8080/"
        }
      },
      "execution_count": 105,
      "outputs": [
        {
          "output_type": "stream",
          "name": "stdout",
          "text": [
            "<class 'str'> 100 <class 'list'> ['200']\n"
          ]
        }
      ]
    }
  ]
}