{
  "nbformat": 4,
  "nbformat_minor": 0,
  "metadata": {
    "colab": {
      "name": "Untitled0.ipynb",
      "provenance": [],
      "collapsed_sections": [],
      "authorship_tag": "ABX9TyORFcQLIm8SheRjIRSy1PCY",
      "include_colab_link": true
    },
    "kernelspec": {
      "name": "python3",
      "display_name": "Python 3"
    },
    "language_info": {
      "name": "python"
    }
  },
  "cells": [
    {
      "cell_type": "markdown",
      "metadata": {
        "id": "view-in-github",
        "colab_type": "text"
      },
      "source": [
        "<a href=\"https://colab.research.google.com/github/Jorge2018/prediccion_ventas/blob/main/Script_proyectoDOS_4.ipynb\" target=\"_parent\"><img src=\"https://colab.research.google.com/assets/colab-badge.svg\" alt=\"Open In Colab\"/></a>"
      ]
    },
    {
      "cell_type": "markdown",
      "source": [
        "# Segunda Opcion\n",
        "**fuente de datos=https://footystats.org**\n",
        "\n",
        "**Descripcion= estadisticas de los partidos jugados de la liga de futbol inglesa de 1a division**\n",
        "\n",
        "**Objetivo= determinar si un equipo es 'goleador' o no (goleador mas de 2 goles marcados por partido)**\n",
        "\n",
        "**Problema del tipo clasificacion**\n",
        "\n",
        "**Los retos a resolver son:normalizacion de caracteres \"extraños\" en los datos del tipo object, y la conversion a escalas de los datos del tipo number**"
      ],
      "metadata": {
        "id": "EAnv_BbstH-w"
      }
    },
    {
      "cell_type": "code",
      "source": [
        "import matplotlib.pyplot as plt\n",
        "import pandas as pd\n",
        "import numpy as np\n",
        "from sklearn.model_selection import train_test_split\n",
        "from sklearn.pipeline import make_pipeline\n",
        "from sklearn.linear_model import LinearRegression, LogisticRegression\n",
        "import seaborn as sns \n",
        "from sklearn.metrics import accuracy_score,recall_score,roc_auc_score,f1_score\n",
        "from sklearn.impute import SimpleImputer\n",
        "from sklearn.preprocessing import StandardScaler, OneHotEncoder\n",
        "from sklearn.pipeline import make_pipeline\n",
        "from sklearn.compose import make_column_selector, make_column_transformer\n",
        "from sklearn.tree import DecisionTreeClassifier\n",
        "from sklearn.ensemble import BaggingClassifier\n",
        "from sklearn.neighbors import KNeighborsClassifier\n",
        "\n",
        "df = pd.read_csv('https://raw.githubusercontent.com/Jorge2018/RepositorioArchivos/main/england-premier-league-matches-2018-to-2019-stats.csv')\n",
        "df.head()"
      ],
      "metadata": {
        "colab": {
          "base_uri": "https://localhost:8080/",
          "height": 577
        },
        "id": "7F9l2ZKaKedV",
        "outputId": "981f32da-01ef-4cbf-aafa-0231c9044ee6"
      },
      "execution_count": 1,
      "outputs": [
        {
          "output_type": "execute_result",
          "data": {
            "text/plain": [
              "    timestamp               date_GMT    status  attendance     home_team_name  \\\n",
              "0  1533927600   Aug 10 2018 - 7:00pm  complete       74439  Manchester United   \n",
              "1  1533987000  Aug 11 2018 - 11:30am  complete       51749   Newcastle United   \n",
              "2  1533996000   Aug 11 2018 - 2:00pm  complete       10353    AFC Bournemouth   \n",
              "3  1533996000   Aug 11 2018 - 2:00pm  complete       24821             Fulham   \n",
              "4  1533996000   Aug 11 2018 - 2:00pm  complete       24121  Huddersfield Town   \n",
              "\n",
              "      away_team_name          referee  Game Week  Pre-Match PPG (Home)  \\\n",
              "0     Leicester City   Andre Marriner          1                   0.0   \n",
              "1  Tottenham Hotspur  Martin Atkinson          1                   0.0   \n",
              "2       Cardiff City     Kevin Friend          1                   0.0   \n",
              "3     Crystal Palace        Mike Dean          1                   0.0   \n",
              "4            Chelsea   Chris Kavanagh          1                   0.0   \n",
              "\n",
              "   Pre-Match PPG (Away)  ...  odds_ft_home_team_win  odds_ft_draw  \\\n",
              "0                   0.0  ...                   1.37          4.98   \n",
              "1                   0.0  ...                   4.51          3.77   \n",
              "2                   0.0  ...                   2.03          3.51   \n",
              "3                   0.0  ...                   2.31          3.44   \n",
              "4                   0.0  ...                   7.47          4.27   \n",
              "\n",
              "   odds_ft_away_team_win  odds_ft_over15  odds_ft_over25  odds_ft_over35  \\\n",
              "0                   9.81            1.33            2.00            3.60   \n",
              "1                   1.84            1.31            1.95            3.50   \n",
              "2                   3.96            1.31            1.95            3.45   \n",
              "3                   3.26            1.28            1.87            3.20   \n",
              "4                   1.51            1.29            1.91            3.30   \n",
              "\n",
              "   odds_ft_over45  odds_btts_yes odds_btts_no  \\\n",
              "0            7.50           2.05         1.69   \n",
              "1            5.75           1.83         1.87   \n",
              "2            6.70           1.83         1.83   \n",
              "3            7.00           1.71         2.00   \n",
              "4            6.95           2.00         1.71   \n",
              "\n",
              "                                        stadium_name  \n",
              "0                          Old Trafford (Manchester)  \n",
              "1              St. James' Park (Newcastle upon Tyne)  \n",
              "2             Vitality Stadium (Bournemouth- Dorset)  \n",
              "3                            Craven Cottage (London)  \n",
              "4  John Smith's Stadium (Huddersfield- West Yorks...  \n",
              "\n",
              "[5 rows x 64 columns]"
            ],
            "text/html": [
              "\n",
              "  <div id=\"df-19809001-8ae7-44fc-8d4a-93f639f98b7b\">\n",
              "    <div class=\"colab-df-container\">\n",
              "      <div>\n",
              "<style scoped>\n",
              "    .dataframe tbody tr th:only-of-type {\n",
              "        vertical-align: middle;\n",
              "    }\n",
              "\n",
              "    .dataframe tbody tr th {\n",
              "        vertical-align: top;\n",
              "    }\n",
              "\n",
              "    .dataframe thead th {\n",
              "        text-align: right;\n",
              "    }\n",
              "</style>\n",
              "<table border=\"1\" class=\"dataframe\">\n",
              "  <thead>\n",
              "    <tr style=\"text-align: right;\">\n",
              "      <th></th>\n",
              "      <th>timestamp</th>\n",
              "      <th>date_GMT</th>\n",
              "      <th>status</th>\n",
              "      <th>attendance</th>\n",
              "      <th>home_team_name</th>\n",
              "      <th>away_team_name</th>\n",
              "      <th>referee</th>\n",
              "      <th>Game Week</th>\n",
              "      <th>Pre-Match PPG (Home)</th>\n",
              "      <th>Pre-Match PPG (Away)</th>\n",
              "      <th>...</th>\n",
              "      <th>odds_ft_home_team_win</th>\n",
              "      <th>odds_ft_draw</th>\n",
              "      <th>odds_ft_away_team_win</th>\n",
              "      <th>odds_ft_over15</th>\n",
              "      <th>odds_ft_over25</th>\n",
              "      <th>odds_ft_over35</th>\n",
              "      <th>odds_ft_over45</th>\n",
              "      <th>odds_btts_yes</th>\n",
              "      <th>odds_btts_no</th>\n",
              "      <th>stadium_name</th>\n",
              "    </tr>\n",
              "  </thead>\n",
              "  <tbody>\n",
              "    <tr>\n",
              "      <th>0</th>\n",
              "      <td>1533927600</td>\n",
              "      <td>Aug 10 2018 - 7:00pm</td>\n",
              "      <td>complete</td>\n",
              "      <td>74439</td>\n",
              "      <td>Manchester United</td>\n",
              "      <td>Leicester City</td>\n",
              "      <td>Andre Marriner</td>\n",
              "      <td>1</td>\n",
              "      <td>0.0</td>\n",
              "      <td>0.0</td>\n",
              "      <td>...</td>\n",
              "      <td>1.37</td>\n",
              "      <td>4.98</td>\n",
              "      <td>9.81</td>\n",
              "      <td>1.33</td>\n",
              "      <td>2.00</td>\n",
              "      <td>3.60</td>\n",
              "      <td>7.50</td>\n",
              "      <td>2.05</td>\n",
              "      <td>1.69</td>\n",
              "      <td>Old Trafford (Manchester)</td>\n",
              "    </tr>\n",
              "    <tr>\n",
              "      <th>1</th>\n",
              "      <td>1533987000</td>\n",
              "      <td>Aug 11 2018 - 11:30am</td>\n",
              "      <td>complete</td>\n",
              "      <td>51749</td>\n",
              "      <td>Newcastle United</td>\n",
              "      <td>Tottenham Hotspur</td>\n",
              "      <td>Martin Atkinson</td>\n",
              "      <td>1</td>\n",
              "      <td>0.0</td>\n",
              "      <td>0.0</td>\n",
              "      <td>...</td>\n",
              "      <td>4.51</td>\n",
              "      <td>3.77</td>\n",
              "      <td>1.84</td>\n",
              "      <td>1.31</td>\n",
              "      <td>1.95</td>\n",
              "      <td>3.50</td>\n",
              "      <td>5.75</td>\n",
              "      <td>1.83</td>\n",
              "      <td>1.87</td>\n",
              "      <td>St. James' Park (Newcastle upon Tyne)</td>\n",
              "    </tr>\n",
              "    <tr>\n",
              "      <th>2</th>\n",
              "      <td>1533996000</td>\n",
              "      <td>Aug 11 2018 - 2:00pm</td>\n",
              "      <td>complete</td>\n",
              "      <td>10353</td>\n",
              "      <td>AFC Bournemouth</td>\n",
              "      <td>Cardiff City</td>\n",
              "      <td>Kevin Friend</td>\n",
              "      <td>1</td>\n",
              "      <td>0.0</td>\n",
              "      <td>0.0</td>\n",
              "      <td>...</td>\n",
              "      <td>2.03</td>\n",
              "      <td>3.51</td>\n",
              "      <td>3.96</td>\n",
              "      <td>1.31</td>\n",
              "      <td>1.95</td>\n",
              "      <td>3.45</td>\n",
              "      <td>6.70</td>\n",
              "      <td>1.83</td>\n",
              "      <td>1.83</td>\n",
              "      <td>Vitality Stadium (Bournemouth- Dorset)</td>\n",
              "    </tr>\n",
              "    <tr>\n",
              "      <th>3</th>\n",
              "      <td>1533996000</td>\n",
              "      <td>Aug 11 2018 - 2:00pm</td>\n",
              "      <td>complete</td>\n",
              "      <td>24821</td>\n",
              "      <td>Fulham</td>\n",
              "      <td>Crystal Palace</td>\n",
              "      <td>Mike Dean</td>\n",
              "      <td>1</td>\n",
              "      <td>0.0</td>\n",
              "      <td>0.0</td>\n",
              "      <td>...</td>\n",
              "      <td>2.31</td>\n",
              "      <td>3.44</td>\n",
              "      <td>3.26</td>\n",
              "      <td>1.28</td>\n",
              "      <td>1.87</td>\n",
              "      <td>3.20</td>\n",
              "      <td>7.00</td>\n",
              "      <td>1.71</td>\n",
              "      <td>2.00</td>\n",
              "      <td>Craven Cottage (London)</td>\n",
              "    </tr>\n",
              "    <tr>\n",
              "      <th>4</th>\n",
              "      <td>1533996000</td>\n",
              "      <td>Aug 11 2018 - 2:00pm</td>\n",
              "      <td>complete</td>\n",
              "      <td>24121</td>\n",
              "      <td>Huddersfield Town</td>\n",
              "      <td>Chelsea</td>\n",
              "      <td>Chris Kavanagh</td>\n",
              "      <td>1</td>\n",
              "      <td>0.0</td>\n",
              "      <td>0.0</td>\n",
              "      <td>...</td>\n",
              "      <td>7.47</td>\n",
              "      <td>4.27</td>\n",
              "      <td>1.51</td>\n",
              "      <td>1.29</td>\n",
              "      <td>1.91</td>\n",
              "      <td>3.30</td>\n",
              "      <td>6.95</td>\n",
              "      <td>2.00</td>\n",
              "      <td>1.71</td>\n",
              "      <td>John Smith's Stadium (Huddersfield- West Yorks...</td>\n",
              "    </tr>\n",
              "  </tbody>\n",
              "</table>\n",
              "<p>5 rows × 64 columns</p>\n",
              "</div>\n",
              "      <button class=\"colab-df-convert\" onclick=\"convertToInteractive('df-19809001-8ae7-44fc-8d4a-93f639f98b7b')\"\n",
              "              title=\"Convert this dataframe to an interactive table.\"\n",
              "              style=\"display:none;\">\n",
              "        \n",
              "  <svg xmlns=\"http://www.w3.org/2000/svg\" height=\"24px\"viewBox=\"0 0 24 24\"\n",
              "       width=\"24px\">\n",
              "    <path d=\"M0 0h24v24H0V0z\" fill=\"none\"/>\n",
              "    <path d=\"M18.56 5.44l.94 2.06.94-2.06 2.06-.94-2.06-.94-.94-2.06-.94 2.06-2.06.94zm-11 1L8.5 8.5l.94-2.06 2.06-.94-2.06-.94L8.5 2.5l-.94 2.06-2.06.94zm10 10l.94 2.06.94-2.06 2.06-.94-2.06-.94-.94-2.06-.94 2.06-2.06.94z\"/><path d=\"M17.41 7.96l-1.37-1.37c-.4-.4-.92-.59-1.43-.59-.52 0-1.04.2-1.43.59L10.3 9.45l-7.72 7.72c-.78.78-.78 2.05 0 2.83L4 21.41c.39.39.9.59 1.41.59.51 0 1.02-.2 1.41-.59l7.78-7.78 2.81-2.81c.8-.78.8-2.07 0-2.86zM5.41 20L4 18.59l7.72-7.72 1.47 1.35L5.41 20z\"/>\n",
              "  </svg>\n",
              "      </button>\n",
              "      \n",
              "  <style>\n",
              "    .colab-df-container {\n",
              "      display:flex;\n",
              "      flex-wrap:wrap;\n",
              "      gap: 12px;\n",
              "    }\n",
              "\n",
              "    .colab-df-convert {\n",
              "      background-color: #E8F0FE;\n",
              "      border: none;\n",
              "      border-radius: 50%;\n",
              "      cursor: pointer;\n",
              "      display: none;\n",
              "      fill: #1967D2;\n",
              "      height: 32px;\n",
              "      padding: 0 0 0 0;\n",
              "      width: 32px;\n",
              "    }\n",
              "\n",
              "    .colab-df-convert:hover {\n",
              "      background-color: #E2EBFA;\n",
              "      box-shadow: 0px 1px 2px rgba(60, 64, 67, 0.3), 0px 1px 3px 1px rgba(60, 64, 67, 0.15);\n",
              "      fill: #174EA6;\n",
              "    }\n",
              "\n",
              "    [theme=dark] .colab-df-convert {\n",
              "      background-color: #3B4455;\n",
              "      fill: #D2E3FC;\n",
              "    }\n",
              "\n",
              "    [theme=dark] .colab-df-convert:hover {\n",
              "      background-color: #434B5C;\n",
              "      box-shadow: 0px 1px 3px 1px rgba(0, 0, 0, 0.15);\n",
              "      filter: drop-shadow(0px 1px 2px rgba(0, 0, 0, 0.3));\n",
              "      fill: #FFFFFF;\n",
              "    }\n",
              "  </style>\n",
              "\n",
              "      <script>\n",
              "        const buttonEl =\n",
              "          document.querySelector('#df-19809001-8ae7-44fc-8d4a-93f639f98b7b button.colab-df-convert');\n",
              "        buttonEl.style.display =\n",
              "          google.colab.kernel.accessAllowed ? 'block' : 'none';\n",
              "\n",
              "        async function convertToInteractive(key) {\n",
              "          const element = document.querySelector('#df-19809001-8ae7-44fc-8d4a-93f639f98b7b');\n",
              "          const dataTable =\n",
              "            await google.colab.kernel.invokeFunction('convertToInteractive',\n",
              "                                                     [key], {});\n",
              "          if (!dataTable) return;\n",
              "\n",
              "          const docLinkHtml = 'Like what you see? Visit the ' +\n",
              "            '<a target=\"_blank\" href=https://colab.research.google.com/notebooks/data_table.ipynb>data table notebook</a>'\n",
              "            + ' to learn more about interactive tables.';\n",
              "          element.innerHTML = '';\n",
              "          dataTable['output_type'] = 'display_data';\n",
              "          await google.colab.output.renderOutput(dataTable, element);\n",
              "          const docLink = document.createElement('div');\n",
              "          docLink.innerHTML = docLinkHtml;\n",
              "          element.appendChild(docLink);\n",
              "        }\n",
              "      </script>\n",
              "    </div>\n",
              "  </div>\n",
              "  "
            ]
          },
          "metadata": {},
          "execution_count": 1
        }
      ]
    },
    {
      "cell_type": "markdown",
      "source": [
        "**Reduccion de cols**"
      ],
      "metadata": {
        "id": "T1TE1wkZvWNx"
      }
    },
    {
      "cell_type": "code",
      "source": [
        "df=df[['home_team_goal_count','home_team_goal_count_half_time','home_team_corner_count','home_team_yellow_cards','home_team_red_cards','home_team_shots',\n",
        "       'home_team_shots_on_target','home_team_shots_off_target','home_team_fouls','home_team_possession']]\n",
        "df"
      ],
      "metadata": {
        "id": "7dpNeXTft-RQ",
        "outputId": "3dcb6be8-efc2-4de7-f3b2-a2d1e61df091",
        "colab": {
          "base_uri": "https://localhost:8080/",
          "height": 487
        }
      },
      "execution_count": 2,
      "outputs": [
        {
          "output_type": "execute_result",
          "data": {
            "text/plain": [
              "     home_team_goal_count  home_team_goal_count_half_time  \\\n",
              "0                       2                               1   \n",
              "1                       1                               1   \n",
              "2                       2                               1   \n",
              "3                       0                               0   \n",
              "4                       0                               0   \n",
              "..                    ...                             ...   \n",
              "375                     2                               1   \n",
              "376                     0                               0   \n",
              "377                     1                               1   \n",
              "378                     2                               1   \n",
              "379                     1                               0   \n",
              "\n",
              "     home_team_corner_count  home_team_yellow_cards  home_team_red_cards  \\\n",
              "0                         2                       2                    0   \n",
              "1                         3                       2                    0   \n",
              "2                         7                       1                    0   \n",
              "3                         5                       1                    0   \n",
              "4                         2                       2                    0   \n",
              "..                      ...                     ...                  ...   \n",
              "375                       4                       0                    0   \n",
              "376                      11                       3                    0   \n",
              "377                       4                       0                    0   \n",
              "378                       7                       0                    0   \n",
              "379                       7                       1                    1   \n",
              "\n",
              "     home_team_shots  home_team_shots_on_target  home_team_shots_off_target  \\\n",
              "0                  8                          7                           1   \n",
              "1                 11                          3                           8   \n",
              "2                 11                          5                           6   \n",
              "3                 11                          7                           4   \n",
              "4                  6                          2                           4   \n",
              "..               ...                        ...                         ...   \n",
              "375               11                          6                           5   \n",
              "376               21                         11                          10   \n",
              "377                7                          4                           3   \n",
              "378                9                          4                           5   \n",
              "379               11                          9                           2   \n",
              "\n",
              "     home_team_fouls  home_team_possession  \n",
              "0                 11                    46  \n",
              "1                 11                    40  \n",
              "2                 11                    62  \n",
              "3                  9                    66  \n",
              "4                  9                    37  \n",
              "..               ...                   ...  \n",
              "375                3                    59  \n",
              "376                9                    73  \n",
              "377                8                    53  \n",
              "378               10                    55  \n",
              "379               10                    48  \n",
              "\n",
              "[380 rows x 10 columns]"
            ],
            "text/html": [
              "\n",
              "  <div id=\"df-6dabfdc3-58b4-4ccd-8ae6-413223508ae6\">\n",
              "    <div class=\"colab-df-container\">\n",
              "      <div>\n",
              "<style scoped>\n",
              "    .dataframe tbody tr th:only-of-type {\n",
              "        vertical-align: middle;\n",
              "    }\n",
              "\n",
              "    .dataframe tbody tr th {\n",
              "        vertical-align: top;\n",
              "    }\n",
              "\n",
              "    .dataframe thead th {\n",
              "        text-align: right;\n",
              "    }\n",
              "</style>\n",
              "<table border=\"1\" class=\"dataframe\">\n",
              "  <thead>\n",
              "    <tr style=\"text-align: right;\">\n",
              "      <th></th>\n",
              "      <th>home_team_goal_count</th>\n",
              "      <th>home_team_goal_count_half_time</th>\n",
              "      <th>home_team_corner_count</th>\n",
              "      <th>home_team_yellow_cards</th>\n",
              "      <th>home_team_red_cards</th>\n",
              "      <th>home_team_shots</th>\n",
              "      <th>home_team_shots_on_target</th>\n",
              "      <th>home_team_shots_off_target</th>\n",
              "      <th>home_team_fouls</th>\n",
              "      <th>home_team_possession</th>\n",
              "    </tr>\n",
              "  </thead>\n",
              "  <tbody>\n",
              "    <tr>\n",
              "      <th>0</th>\n",
              "      <td>2</td>\n",
              "      <td>1</td>\n",
              "      <td>2</td>\n",
              "      <td>2</td>\n",
              "      <td>0</td>\n",
              "      <td>8</td>\n",
              "      <td>7</td>\n",
              "      <td>1</td>\n",
              "      <td>11</td>\n",
              "      <td>46</td>\n",
              "    </tr>\n",
              "    <tr>\n",
              "      <th>1</th>\n",
              "      <td>1</td>\n",
              "      <td>1</td>\n",
              "      <td>3</td>\n",
              "      <td>2</td>\n",
              "      <td>0</td>\n",
              "      <td>11</td>\n",
              "      <td>3</td>\n",
              "      <td>8</td>\n",
              "      <td>11</td>\n",
              "      <td>40</td>\n",
              "    </tr>\n",
              "    <tr>\n",
              "      <th>2</th>\n",
              "      <td>2</td>\n",
              "      <td>1</td>\n",
              "      <td>7</td>\n",
              "      <td>1</td>\n",
              "      <td>0</td>\n",
              "      <td>11</td>\n",
              "      <td>5</td>\n",
              "      <td>6</td>\n",
              "      <td>11</td>\n",
              "      <td>62</td>\n",
              "    </tr>\n",
              "    <tr>\n",
              "      <th>3</th>\n",
              "      <td>0</td>\n",
              "      <td>0</td>\n",
              "      <td>5</td>\n",
              "      <td>1</td>\n",
              "      <td>0</td>\n",
              "      <td>11</td>\n",
              "      <td>7</td>\n",
              "      <td>4</td>\n",
              "      <td>9</td>\n",
              "      <td>66</td>\n",
              "    </tr>\n",
              "    <tr>\n",
              "      <th>4</th>\n",
              "      <td>0</td>\n",
              "      <td>0</td>\n",
              "      <td>2</td>\n",
              "      <td>2</td>\n",
              "      <td>0</td>\n",
              "      <td>6</td>\n",
              "      <td>2</td>\n",
              "      <td>4</td>\n",
              "      <td>9</td>\n",
              "      <td>37</td>\n",
              "    </tr>\n",
              "    <tr>\n",
              "      <th>...</th>\n",
              "      <td>...</td>\n",
              "      <td>...</td>\n",
              "      <td>...</td>\n",
              "      <td>...</td>\n",
              "      <td>...</td>\n",
              "      <td>...</td>\n",
              "      <td>...</td>\n",
              "      <td>...</td>\n",
              "      <td>...</td>\n",
              "      <td>...</td>\n",
              "    </tr>\n",
              "    <tr>\n",
              "      <th>375</th>\n",
              "      <td>2</td>\n",
              "      <td>1</td>\n",
              "      <td>4</td>\n",
              "      <td>0</td>\n",
              "      <td>0</td>\n",
              "      <td>11</td>\n",
              "      <td>6</td>\n",
              "      <td>5</td>\n",
              "      <td>3</td>\n",
              "      <td>59</td>\n",
              "    </tr>\n",
              "    <tr>\n",
              "      <th>376</th>\n",
              "      <td>0</td>\n",
              "      <td>0</td>\n",
              "      <td>11</td>\n",
              "      <td>3</td>\n",
              "      <td>0</td>\n",
              "      <td>21</td>\n",
              "      <td>11</td>\n",
              "      <td>10</td>\n",
              "      <td>9</td>\n",
              "      <td>73</td>\n",
              "    </tr>\n",
              "    <tr>\n",
              "      <th>377</th>\n",
              "      <td>1</td>\n",
              "      <td>1</td>\n",
              "      <td>4</td>\n",
              "      <td>0</td>\n",
              "      <td>0</td>\n",
              "      <td>7</td>\n",
              "      <td>4</td>\n",
              "      <td>3</td>\n",
              "      <td>8</td>\n",
              "      <td>53</td>\n",
              "    </tr>\n",
              "    <tr>\n",
              "      <th>378</th>\n",
              "      <td>2</td>\n",
              "      <td>1</td>\n",
              "      <td>7</td>\n",
              "      <td>0</td>\n",
              "      <td>0</td>\n",
              "      <td>9</td>\n",
              "      <td>4</td>\n",
              "      <td>5</td>\n",
              "      <td>10</td>\n",
              "      <td>55</td>\n",
              "    </tr>\n",
              "    <tr>\n",
              "      <th>379</th>\n",
              "      <td>1</td>\n",
              "      <td>0</td>\n",
              "      <td>7</td>\n",
              "      <td>1</td>\n",
              "      <td>1</td>\n",
              "      <td>11</td>\n",
              "      <td>9</td>\n",
              "      <td>2</td>\n",
              "      <td>10</td>\n",
              "      <td>48</td>\n",
              "    </tr>\n",
              "  </tbody>\n",
              "</table>\n",
              "<p>380 rows × 10 columns</p>\n",
              "</div>\n",
              "      <button class=\"colab-df-convert\" onclick=\"convertToInteractive('df-6dabfdc3-58b4-4ccd-8ae6-413223508ae6')\"\n",
              "              title=\"Convert this dataframe to an interactive table.\"\n",
              "              style=\"display:none;\">\n",
              "        \n",
              "  <svg xmlns=\"http://www.w3.org/2000/svg\" height=\"24px\"viewBox=\"0 0 24 24\"\n",
              "       width=\"24px\">\n",
              "    <path d=\"M0 0h24v24H0V0z\" fill=\"none\"/>\n",
              "    <path d=\"M18.56 5.44l.94 2.06.94-2.06 2.06-.94-2.06-.94-.94-2.06-.94 2.06-2.06.94zm-11 1L8.5 8.5l.94-2.06 2.06-.94-2.06-.94L8.5 2.5l-.94 2.06-2.06.94zm10 10l.94 2.06.94-2.06 2.06-.94-2.06-.94-.94-2.06-.94 2.06-2.06.94z\"/><path d=\"M17.41 7.96l-1.37-1.37c-.4-.4-.92-.59-1.43-.59-.52 0-1.04.2-1.43.59L10.3 9.45l-7.72 7.72c-.78.78-.78 2.05 0 2.83L4 21.41c.39.39.9.59 1.41.59.51 0 1.02-.2 1.41-.59l7.78-7.78 2.81-2.81c.8-.78.8-2.07 0-2.86zM5.41 20L4 18.59l7.72-7.72 1.47 1.35L5.41 20z\"/>\n",
              "  </svg>\n",
              "      </button>\n",
              "      \n",
              "  <style>\n",
              "    .colab-df-container {\n",
              "      display:flex;\n",
              "      flex-wrap:wrap;\n",
              "      gap: 12px;\n",
              "    }\n",
              "\n",
              "    .colab-df-convert {\n",
              "      background-color: #E8F0FE;\n",
              "      border: none;\n",
              "      border-radius: 50%;\n",
              "      cursor: pointer;\n",
              "      display: none;\n",
              "      fill: #1967D2;\n",
              "      height: 32px;\n",
              "      padding: 0 0 0 0;\n",
              "      width: 32px;\n",
              "    }\n",
              "\n",
              "    .colab-df-convert:hover {\n",
              "      background-color: #E2EBFA;\n",
              "      box-shadow: 0px 1px 2px rgba(60, 64, 67, 0.3), 0px 1px 3px 1px rgba(60, 64, 67, 0.15);\n",
              "      fill: #174EA6;\n",
              "    }\n",
              "\n",
              "    [theme=dark] .colab-df-convert {\n",
              "      background-color: #3B4455;\n",
              "      fill: #D2E3FC;\n",
              "    }\n",
              "\n",
              "    [theme=dark] .colab-df-convert:hover {\n",
              "      background-color: #434B5C;\n",
              "      box-shadow: 0px 1px 3px 1px rgba(0, 0, 0, 0.15);\n",
              "      filter: drop-shadow(0px 1px 2px rgba(0, 0, 0, 0.3));\n",
              "      fill: #FFFFFF;\n",
              "    }\n",
              "  </style>\n",
              "\n",
              "      <script>\n",
              "        const buttonEl =\n",
              "          document.querySelector('#df-6dabfdc3-58b4-4ccd-8ae6-413223508ae6 button.colab-df-convert');\n",
              "        buttonEl.style.display =\n",
              "          google.colab.kernel.accessAllowed ? 'block' : 'none';\n",
              "\n",
              "        async function convertToInteractive(key) {\n",
              "          const element = document.querySelector('#df-6dabfdc3-58b4-4ccd-8ae6-413223508ae6');\n",
              "          const dataTable =\n",
              "            await google.colab.kernel.invokeFunction('convertToInteractive',\n",
              "                                                     [key], {});\n",
              "          if (!dataTable) return;\n",
              "\n",
              "          const docLinkHtml = 'Like what you see? Visit the ' +\n",
              "            '<a target=\"_blank\" href=https://colab.research.google.com/notebooks/data_table.ipynb>data table notebook</a>'\n",
              "            + ' to learn more about interactive tables.';\n",
              "          element.innerHTML = '';\n",
              "          dataTable['output_type'] = 'display_data';\n",
              "          await google.colab.output.renderOutput(dataTable, element);\n",
              "          const docLink = document.createElement('div');\n",
              "          docLink.innerHTML = docLinkHtml;\n",
              "          element.appendChild(docLink);\n",
              "        }\n",
              "      </script>\n",
              "    </div>\n",
              "  </div>\n",
              "  "
            ]
          },
          "metadata": {},
          "execution_count": 2
        }
      ]
    },
    {
      "cell_type": "markdown",
      "source": [
        "**Encuentren los nombres de clase y determinen cómo están las clases balanceadas**"
      ],
      "metadata": {
        "id": "RsICcCz8vpF-"
      }
    },
    {
      "cell_type": "code",
      "source": [
        "df['home_team_goal_count'].value_counts(normalize = True)"
      ],
      "metadata": {
        "id": "O4QYh8D_vaY4",
        "outputId": "c45f77f0-f5b5-4c11-ef10-0b19324d8675",
        "colab": {
          "base_uri": "https://localhost:8080/"
        }
      },
      "execution_count": 3,
      "outputs": [
        {
          "output_type": "execute_result",
          "data": {
            "text/plain": [
              "1    0.305263\n",
              "2    0.250000\n",
              "0    0.231579\n",
              "3    0.126316\n",
              "4    0.057895\n",
              "5    0.021053\n",
              "6    0.007895\n",
              "Name: home_team_goal_count, dtype: float64"
            ]
          },
          "metadata": {},
          "execution_count": 3
        }
      ]
    },
    {
      "cell_type": "markdown",
      "source": [
        "**Se puede observar que el mayor porcentaje de partidos, termino con menos de 3  goles (entre 79 y 81 %), el % restante corresponde a partidos con equipos goleadores**"
      ],
      "metadata": {
        "id": "rq53evwFvsPO"
      }
    },
    {
      "cell_type": "markdown",
      "source": [
        "# Grafo h y dispersion, cuantificador de datos"
      ],
      "metadata": {
        "id": "VO8dny-RxFql"
      }
    },
    {
      "cell_type": "code",
      "source": [
        "lista=['home_team_goal_count_half_time','home_team_corner_count','home_team_yellow_cards','home_team_red_cards','home_team_shots',\n",
        "       'home_team_shots_on_target','home_team_shots_off_target','home_team_fouls']\n",
        "for idx, column in enumerate(lista): \n",
        "    sns.set_theme(style=\"darkgrid\")\n",
        "    sns.countplot(y=column, data=df, palette=\"Reds\")\n",
        "    plt.ylabel(column)\n",
        "    plt.xlabel(f'Cuantificador de: {column}\\n')\n",
        "    plt.show()\n",
        "sns.set_theme(style=\"darkgrid\")\n",
        "sns.scatterplot(data=df, y=\"home_team_goal_count\", x=\"home_team_possession\")\n"
      ],
      "metadata": {
        "id": "mAtPjx6kxIJq",
        "outputId": "e61b6200-3bd8-44d6-8b3d-c2f706d3a173",
        "colab": {
          "base_uri": "https://localhost:8080/",
          "height": 1000
        }
      },
      "execution_count": 4,
      "outputs": [
        {
          "output_type": "display_data",
          "data": {
            "text/plain": [
              "<Figure size 432x288 with 1 Axes>"
            ],
            "image/png": "[encoded data removed]"
          },
          "metadata": {}
        },
        {
          "output_type": "display_data",
          "data": {
            "text/plain": [
              "<Figure size 432x288 with 1 Axes>"
            ],
            "image/png": "[encoded data removed]"
          },
          "metadata": {}
        },
        {
          "output_type": "display_data",
          "data": {
            "text/plain": [
              "<Figure size 432x288 with 1 Axes>"
            ],
            "image/png": "[encoded data removed]"
          },
          "metadata": {}
        },
        {
          "output_type": "display_data",
          "data": {
            "text/plain": [
              "<Figure size 432x288 with 1 Axes>"
            ],
            "image/png": "[encoded data removed]"
          },
          "metadata": {}
        },
        {
          "output_type": "display_data",
          "data": {
            "text/plain": [
              "<Figure size 432x288 with 1 Axes>"
            ],
            "image/png": "[encoded data removed]"
          },
          "metadata": {}
        },
        {
          "output_type": "display_data",
          "data": {
            "text/plain": [
              "<Figure size 432x288 with 1 Axes>"
            ],
            "image/png": "[encoded data removed]"
          },
          "metadata": {}
        },
        {
          "output_type": "display_data",
          "data": {
            "text/plain": [
              "<Figure size 432x288 with 1 Axes>"
            ],
            "image/png": "[encoded data removed]"
          },
          "metadata": {}
        },
        {
          "output_type": "display_data",
          "data": {
            "text/plain": [
              "<Figure size 432x288 with 1 Axes>"
            ],
            "image/png": "[encoded data removed]"
          },
          "metadata": {}
        },
        {
          "output_type": "execute_result",
          "data": {
            "text/plain": [
              "<matplotlib.axes._subplots.AxesSubplot at 0x7f2af8f0d850>"
            ]
          },
          "metadata": {},
          "execution_count": 4
        },
        {
          "output_type": "display_data",
          "data": {
            "text/plain": [
              "<Figure size 432x288 with 1 Axes>"
            ],
            "image/png": "[encoded data removed]"
          },
          "metadata": {}
        }
      ]
    },
    {
      "cell_type": "markdown",
      "source": [
        "**Se observa que la cantidad de goles del equipo local (0 y 1) de la muestra terminado el primer tiempo (o al descanso), abarca gran parte de esta**\n",
        "\n",
        "**Se observa en la muestra, que el mayor porcentaje de corners que el equipo local tuvo a su favor, esta en el rango entre 2 y 8**\n",
        "\n",
        "**Se observa en la muestra, que el mayor porcentaje de tarjetas amarillas que el equipo local recibio, esta en el rango de entre 0 y 3**\n",
        "\n",
        "**Se observa en la muestra, que el equipo local en un gran procentaje no recibio tarjetas rojas**\n",
        "\n",
        "**Se observa en la muestra, que el mayor porcentaje de disparos (shot) que el equipo local tuvo a su favor esta en el rango entre 5 y 18**\n",
        "\n",
        "**Se observa en la muestra, que el mayor porcentaje de disparos al arco (shots target) que equipo local tuvo a su favor esta en el rango entre 2 y 8**\n",
        "\n",
        "**Se observa en la muestra, que el mayor porcentaje de disparos fuera del arco (shots target off) que equipo local tuvo a su favor esta en el rango entre 2 y 9**\n",
        "\n",
        "**Se observa en la muestra, que el mayor porcentaje de faltas (foul) que equipo local cometio esta en el rango entre 5 y 15**\n",
        "\n",
        "**Se observa en la muestra, que los equipos goleadores, obtuvieron al menos un 25% de la tenencia de la pelota**\n",
        "\n",
        "# Exploracion de Datos"
      ],
      "metadata": {
        "id": "XX7lX_s5z2KU"
      }
    },
    {
      "cell_type": "code",
      "source": [
        "df.duplicated()\n",
        "df = df.drop_duplicates()\n",
        "print('la cantidad de registros sin duplicados es:\\n',df.count())\n",
        "print('---------------------------')\n",
        "print('los datos faltantes del df son:\\n',df.isna().sum())\n",
        "print('---------------------------')\n",
        "print('los tipos de datos son:\\n')\n",
        "df.info()\n",
        "print('---------------------------')\n",
        "df.describe().round(3)"
      ],
      "metadata": {
        "id": "LdLneRVS52rY",
        "outputId": "01722868-b367-4a87-ec76-4bc6bfae2395",
        "colab": {
          "base_uri": "https://localhost:8080/",
          "height": 1000
        }
      },
      "execution_count": 5,
      "outputs": [
        {
          "output_type": "stream",
          "name": "stdout",
          "text": [
            "la cantidad de registros sin duplicados es:\n",
            " home_team_goal_count              380\n",
            "home_team_goal_count_half_time    380\n",
            "home_team_corner_count            380\n",
            "home_team_yellow_cards            380\n",
            "home_team_red_cards               380\n",
            "home_team_shots                   380\n",
            "home_team_shots_on_target         380\n",
            "home_team_shots_off_target        380\n",
            "home_team_fouls                   380\n",
            "home_team_possession              380\n",
            "dtype: int64\n",
            "---------------------------\n",
            "los datos faltantes del df son:\n",
            " home_team_goal_count              0\n",
            "home_team_goal_count_half_time    0\n",
            "home_team_corner_count            0\n",
            "home_team_yellow_cards            0\n",
            "home_team_red_cards               0\n",
            "home_team_shots                   0\n",
            "home_team_shots_on_target         0\n",
            "home_team_shots_off_target        0\n",
            "home_team_fouls                   0\n",
            "home_team_possession              0\n",
            "dtype: int64\n",
            "---------------------------\n",
            "los tipos de datos son:\n",
            "\n",
            "<class 'pandas.core.frame.DataFrame'>\n",
            "Int64Index: 380 entries, 0 to 379\n",
            "Data columns (total 10 columns):\n",
            " #   Column                          Non-Null Count  Dtype\n",
            "---  ------                          --------------  -----\n",
            " 0   home_team_goal_count            380 non-null    int64\n",
            " 1   home_team_goal_count_half_time  380 non-null    int64\n",
            " 2   home_team_corner_count          380 non-null    int64\n",
            " 3   home_team_yellow_cards          380 non-null    int64\n",
            " 4   home_team_red_cards             380 non-null    int64\n",
            " 5   home_team_shots                 380 non-null    int64\n",
            " 6   home_team_shots_on_target       380 non-null    int64\n",
            " 7   home_team_shots_off_target      380 non-null    int64\n",
            " 8   home_team_fouls                 380 non-null    int64\n",
            " 9   home_team_possession            380 non-null    int64\n",
            "dtypes: int64(10)\n",
            "memory usage: 32.7 KB\n",
            "---------------------------\n"
          ]
        },
        {
          "output_type": "execute_result",
          "data": {
            "text/plain": [
              "       home_team_goal_count  home_team_goal_count_half_time  \\\n",
              "count               380.000                         380.000   \n",
              "mean                  1.568                           0.679   \n",
              "std                   1.313                           0.861   \n",
              "min                   0.000                           0.000   \n",
              "25%                   1.000                           0.000   \n",
              "50%                   1.000                           0.000   \n",
              "75%                   2.000                           1.000   \n",
              "max                   6.000                           4.000   \n",
              "\n",
              "       home_team_corner_count  home_team_yellow_cards  home_team_red_cards  \\\n",
              "count                 380.000                 380.000              380.000   \n",
              "mean                    5.726                   1.545                0.047   \n",
              "std                     3.026                   1.229                0.213   \n",
              "min                     0.000                   0.000                0.000   \n",
              "25%                     4.000                   1.000                0.000   \n",
              "50%                     5.000                   1.000                0.000   \n",
              "75%                     8.000                   2.000                0.000   \n",
              "max                    17.000                   6.000                1.000   \n",
              "\n",
              "       home_team_shots  home_team_shots_on_target  home_team_shots_off_target  \\\n",
              "count          380.000                    380.000                     380.000   \n",
              "mean            11.332                      5.761                       5.571   \n",
              "std              4.278                      2.716                       2.826   \n",
              "min              0.000                      0.000                       0.000   \n",
              "25%              8.000                      4.000                       3.000   \n",
              "50%             11.000                      6.000                       5.000   \n",
              "75%             14.000                      7.000                       7.000   \n",
              "max             26.000                     15.000                      14.000   \n",
              "\n",
              "       home_team_fouls  home_team_possession  \n",
              "count          380.000               380.000  \n",
              "mean            10.161                51.147  \n",
              "std              3.288                13.838  \n",
              "min              0.000                18.000  \n",
              "25%              8.000                41.000  \n",
              "50%             10.000                51.000  \n",
              "75%             12.000                62.000  \n",
              "max             23.000                80.000  "
            ],
            "text/html": [
              "\n",
              "  <div id=\"df-b2c3c524-554f-4b67-a875-6f596754a230\">\n",
              "    <div class=\"colab-df-container\">\n",
              "      <div>\n",
              "<style scoped>\n",
              "    .dataframe tbody tr th:only-of-type {\n",
              "        vertical-align: middle;\n",
              "    }\n",
              "\n",
              "    .dataframe tbody tr th {\n",
              "        vertical-align: top;\n",
              "    }\n",
              "\n",
              "    .dataframe thead th {\n",
              "        text-align: right;\n",
              "    }\n",
              "</style>\n",
              "<table border=\"1\" class=\"dataframe\">\n",
              "  <thead>\n",
              "    <tr style=\"text-align: right;\">\n",
              "      <th></th>\n",
              "      <th>home_team_goal_count</th>\n",
              "      <th>home_team_goal_count_half_time</th>\n",
              "      <th>home_team_corner_count</th>\n",
              "      <th>home_team_yellow_cards</th>\n",
              "      <th>home_team_red_cards</th>\n",
              "      <th>home_team_shots</th>\n",
              "      <th>home_team_shots_on_target</th>\n",
              "      <th>home_team_shots_off_target</th>\n",
              "      <th>home_team_fouls</th>\n",
              "      <th>home_team_possession</th>\n",
              "    </tr>\n",
              "  </thead>\n",
              "  <tbody>\n",
              "    <tr>\n",
              "      <th>count</th>\n",
              "      <td>380.000</td>\n",
              "      <td>380.000</td>\n",
              "      <td>380.000</td>\n",
              "      <td>380.000</td>\n",
              "      <td>380.000</td>\n",
              "      <td>380.000</td>\n",
              "      <td>380.000</td>\n",
              "      <td>380.000</td>\n",
              "      <td>380.000</td>\n",
              "      <td>380.000</td>\n",
              "    </tr>\n",
              "    <tr>\n",
              "      <th>mean</th>\n",
              "      <td>1.568</td>\n",
              "      <td>0.679</td>\n",
              "      <td>5.726</td>\n",
              "      <td>1.545</td>\n",
              "      <td>0.047</td>\n",
              "      <td>11.332</td>\n",
              "      <td>5.761</td>\n",
              "      <td>5.571</td>\n",
              "      <td>10.161</td>\n",
              "      <td>51.147</td>\n",
              "    </tr>\n",
              "    <tr>\n",
              "      <th>std</th>\n",
              "      <td>1.313</td>\n",
              "      <td>0.861</td>\n",
              "      <td>3.026</td>\n",
              "      <td>1.229</td>\n",
              "      <td>0.213</td>\n",
              "      <td>4.278</td>\n",
              "      <td>2.716</td>\n",
              "      <td>2.826</td>\n",
              "      <td>3.288</td>\n",
              "      <td>13.838</td>\n",
              "    </tr>\n",
              "    <tr>\n",
              "      <th>min</th>\n",
              "      <td>0.000</td>\n",
              "      <td>0.000</td>\n",
              "      <td>0.000</td>\n",
              "      <td>0.000</td>\n",
              "      <td>0.000</td>\n",
              "      <td>0.000</td>\n",
              "      <td>0.000</td>\n",
              "      <td>0.000</td>\n",
              "      <td>0.000</td>\n",
              "      <td>18.000</td>\n",
              "    </tr>\n",
              "    <tr>\n",
              "      <th>25%</th>\n",
              "      <td>1.000</td>\n",
              "      <td>0.000</td>\n",
              "      <td>4.000</td>\n",
              "      <td>1.000</td>\n",
              "      <td>0.000</td>\n",
              "      <td>8.000</td>\n",
              "      <td>4.000</td>\n",
              "      <td>3.000</td>\n",
              "      <td>8.000</td>\n",
              "      <td>41.000</td>\n",
              "    </tr>\n",
              "    <tr>\n",
              "      <th>50%</th>\n",
              "      <td>1.000</td>\n",
              "      <td>0.000</td>\n",
              "      <td>5.000</td>\n",
              "      <td>1.000</td>\n",
              "      <td>0.000</td>\n",
              "      <td>11.000</td>\n",
              "      <td>6.000</td>\n",
              "      <td>5.000</td>\n",
              "      <td>10.000</td>\n",
              "      <td>51.000</td>\n",
              "    </tr>\n",
              "    <tr>\n",
              "      <th>75%</th>\n",
              "      <td>2.000</td>\n",
              "      <td>1.000</td>\n",
              "      <td>8.000</td>\n",
              "      <td>2.000</td>\n",
              "      <td>0.000</td>\n",
              "      <td>14.000</td>\n",
              "      <td>7.000</td>\n",
              "      <td>7.000</td>\n",
              "      <td>12.000</td>\n",
              "      <td>62.000</td>\n",
              "    </tr>\n",
              "    <tr>\n",
              "      <th>max</th>\n",
              "      <td>6.000</td>\n",
              "      <td>4.000</td>\n",
              "      <td>17.000</td>\n",
              "      <td>6.000</td>\n",
              "      <td>1.000</td>\n",
              "      <td>26.000</td>\n",
              "      <td>15.000</td>\n",
              "      <td>14.000</td>\n",
              "      <td>23.000</td>\n",
              "      <td>80.000</td>\n",
              "    </tr>\n",
              "  </tbody>\n",
              "</table>\n",
              "</div>\n",
              "      <button class=\"colab-df-convert\" onclick=\"convertToInteractive('df-b2c3c524-554f-4b67-a875-6f596754a230')\"\n",
              "              title=\"Convert this dataframe to an interactive table.\"\n",
              "              style=\"display:none;\">\n",
              "        \n",
              "  <svg xmlns=\"http://www.w3.org/2000/svg\" height=\"24px\"viewBox=\"0 0 24 24\"\n",
              "       width=\"24px\">\n",
              "    <path d=\"M0 0h24v24H0V0z\" fill=\"none\"/>\n",
              "    <path d=\"M18.56 5.44l.94 2.06.94-2.06 2.06-.94-2.06-.94-.94-2.06-.94 2.06-2.06.94zm-11 1L8.5 8.5l.94-2.06 2.06-.94-2.06-.94L8.5 2.5l-.94 2.06-2.06.94zm10 10l.94 2.06.94-2.06 2.06-.94-2.06-.94-.94-2.06-.94 2.06-2.06.94z\"/><path d=\"M17.41 7.96l-1.37-1.37c-.4-.4-.92-.59-1.43-.59-.52 0-1.04.2-1.43.59L10.3 9.45l-7.72 7.72c-.78.78-.78 2.05 0 2.83L4 21.41c.39.39.9.59 1.41.59.51 0 1.02-.2 1.41-.59l7.78-7.78 2.81-2.81c.8-.78.8-2.07 0-2.86zM5.41 20L4 18.59l7.72-7.72 1.47 1.35L5.41 20z\"/>\n",
              "  </svg>\n",
              "      </button>\n",
              "      \n",
              "  <style>\n",
              "    .colab-df-container {\n",
              "      display:flex;\n",
              "      flex-wrap:wrap;\n",
              "      gap: 12px;\n",
              "    }\n",
              "\n",
              "    .colab-df-convert {\n",
              "      background-color: #E8F0FE;\n",
              "      border: none;\n",
              "      border-radius: 50%;\n",
              "      cursor: pointer;\n",
              "      display: none;\n",
              "      fill: #1967D2;\n",
              "      height: 32px;\n",
              "      padding: 0 0 0 0;\n",
              "      width: 32px;\n",
              "    }\n",
              "\n",
              "    .colab-df-convert:hover {\n",
              "      background-color: #E2EBFA;\n",
              "      box-shadow: 0px 1px 2px rgba(60, 64, 67, 0.3), 0px 1px 3px 1px rgba(60, 64, 67, 0.15);\n",
              "      fill: #174EA6;\n",
              "    }\n",
              "\n",
              "    [theme=dark] .colab-df-convert {\n",
              "      background-color: #3B4455;\n",
              "      fill: #D2E3FC;\n",
              "    }\n",
              "\n",
              "    [theme=dark] .colab-df-convert:hover {\n",
              "      background-color: #434B5C;\n",
              "      box-shadow: 0px 1px 3px 1px rgba(0, 0, 0, 0.15);\n",
              "      filter: drop-shadow(0px 1px 2px rgba(0, 0, 0, 0.3));\n",
              "      fill: #FFFFFF;\n",
              "    }\n",
              "  </style>\n",
              "\n",
              "      <script>\n",
              "        const buttonEl =\n",
              "          document.querySelector('#df-b2c3c524-554f-4b67-a875-6f596754a230 button.colab-df-convert');\n",
              "        buttonEl.style.display =\n",
              "          google.colab.kernel.accessAllowed ? 'block' : 'none';\n",
              "\n",
              "        async function convertToInteractive(key) {\n",
              "          const element = document.querySelector('#df-b2c3c524-554f-4b67-a875-6f596754a230');\n",
              "          const dataTable =\n",
              "            await google.colab.kernel.invokeFunction('convertToInteractive',\n",
              "                                                     [key], {});\n",
              "          if (!dataTable) return;\n",
              "\n",
              "          const docLinkHtml = 'Like what you see? Visit the ' +\n",
              "            '<a target=\"_blank\" href=https://colab.research.google.com/notebooks/data_table.ipynb>data table notebook</a>'\n",
              "            + ' to learn more about interactive tables.';\n",
              "          element.innerHTML = '';\n",
              "          dataTable['output_type'] = 'display_data';\n",
              "          await google.colab.output.renderOutput(dataTable, element);\n",
              "          const docLink = document.createElement('div');\n",
              "          docLink.innerHTML = docLinkHtml;\n",
              "          element.appendChild(docLink);\n",
              "        }\n",
              "      </script>\n",
              "    </div>\n",
              "  </div>\n",
              "  "
            ]
          },
          "metadata": {},
          "execution_count": 5
        }
      ]
    },
    {
      "cell_type": "markdown",
      "source": [
        "**Codificacion ordinal de la col home_team_goal_count**"
      ],
      "metadata": {
        "id": "Rq-wv19QzZaI"
      }
    },
    {
      "cell_type": "code",
      "source": [
        "df['home_team_goal_count'].replace({0:0, 1:0, 2:0, 3:1, 4:1, 5:1, 6:1}, inplace=True)\n",
        "df['home_team_goal_count'].value_counts()"
      ],
      "metadata": {
        "id": "HZk0xfEdwY_D",
        "outputId": "bbf5d8ca-54f0-4f57-d928-a1a4ea73723d",
        "colab": {
          "base_uri": "https://localhost:8080/"
        }
      },
      "execution_count": 6,
      "outputs": [
        {
          "output_type": "execute_result",
          "data": {
            "text/plain": [
              "0    299\n",
              "1     81\n",
              "Name: home_team_goal_count, dtype: int64"
            ]
          },
          "metadata": {},
          "execution_count": 6
        }
      ]
    },
    {
      "cell_type": "markdown",
      "source": [
        "# Separa valores X, y"
      ],
      "metadata": {
        "id": "KtpFqTwR6nS9"
      }
    },
    {
      "cell_type": "code",
      "source": [
        "y = df['home_team_goal_count']\n",
        "X = df.drop(columns=['home_team_goal_count'])\n",
        "X_train, X_test, y_train, y_test = train_test_split(X, y, random_state=42)"
      ],
      "metadata": {
        "id": "SkYuHvN46i2R"
      },
      "execution_count": 7,
      "outputs": []
    },
    {
      "cell_type": "markdown",
      "source": [
        "**Proceso para realizar transformaciones en los datos**"
      ],
      "metadata": {
        "id": "laTHuSka60xw"
      }
    },
    {
      "cell_type": "code",
      "source": [
        "## **Instanciar selectores**\n",
        "cat_selector = make_column_selector(dtype_include='object')\n",
        "num_selector = make_column_selector(dtype_include='number')\n",
        "\n",
        "## Instanciar transformadores SimpleImputer, StandardScaler y OneHotEncoder\n",
        "# Imputers\n",
        "mean_imputer = SimpleImputer(strategy='mean')\n",
        "freq_imputer = SimpleImputer(strategy='most_frequent')\n",
        "# Scaler\n",
        "scaler = StandardScaler()\n",
        "# One-hot encoder\n",
        "ohe = OneHotEncoder(handle_unknown='ignore', sparse=False)\n",
        "\n",
        "## **Instanciar el pipeline**\n",
        "numeric_pipe = make_pipeline(mean_imputer, scaler)\n",
        "categorical_pipe = make_pipeline(freq_imputer, ohe)\n",
        "\n",
        "## **Asignacion de tupla e instanciacion de ColumnTransformer**\n",
        "number_tuple = (numeric_pipe, num_selector)\n",
        "category_tuple = (categorical_pipe, cat_selector)\n",
        "# ColumnTransformer\n",
        "preprocessor = make_column_transformer(number_tuple, category_tuple)\n",
        "\n",
        "## **Transformacion de datos**\n",
        "# fit on train\n",
        "preprocessor.fit(X_train)\n",
        "# transform train and test\n",
        "X_train_processed = preprocessor.transform(X_train)\n",
        "X_test_processed = preprocessor.transform(X_test)"
      ],
      "metadata": {
        "id": "nSaMvkoN6yJR"
      },
      "execution_count": 8,
      "outputs": []
    },
    {
      "cell_type": "markdown",
      "source": [
        "**Revision de resultados**"
      ],
      "metadata": {
        "id": "xe4X5uIQ8AAb"
      }
    },
    {
      "cell_type": "code",
      "source": [
        "print(np.isnan(X_train_processed).sum().sum(), 'valores perdidos en la data de entrenamiento')\n",
        "print(np.isnan(X_test_processed).sum().sum(), 'valores perdidos en la data de prueba')\n",
        "print('\\n')\n",
        "print('Todos los datos procesados del X_train_processed son del tipo:', X_train_processed.dtype)\n",
        "print('Todos los datos procesados del X_test_processed son del tipo', X_test_processed.dtype)\n",
        "print('\\n')\n",
        "print('shape de los datos de entrenamiento son', X_train_processed.shape)\n",
        "print('\\n')\n",
        "print('shape de los datos de test son', X_test_processed.shape)"
      ],
      "metadata": {
        "id": "vlEdzO1279Nh",
        "outputId": "f908f8c8-f771-41fc-8a15-6c68f8d76ac4",
        "colab": {
          "base_uri": "https://localhost:8080/"
        }
      },
      "execution_count": 9,
      "outputs": [
        {
          "output_type": "stream",
          "name": "stdout",
          "text": [
            "0 valores perdidos en la data de entrenamiento\n",
            "0 valores perdidos en la data de prueba\n",
            "\n",
            "\n",
            "Todos los datos procesados del X_train_processed son del tipo: float64\n",
            "Todos los datos procesados del X_test_processed son del tipo float64\n",
            "\n",
            "\n",
            "shape de los datos de entrenamiento son (285, 9)\n",
            "\n",
            "\n",
            "shape de los datos de test son (95, 9)\n"
          ]
        }
      ]
    },
    {
      "cell_type": "markdown",
      "source": [
        "*Crea instancias de los modelos y Revision de los hiperparametros*"
      ],
      "metadata": {
        "id": "jww-T-z-ia7j"
      }
    },
    {
      "cell_type": "code",
      "source": [
        "dec_tree = DecisionTreeClassifier(random_state = 42, max_depth=10)\n",
        "print('DecisionTree\\n',dec_tree.get_params())\n",
        "print('_______________________________________________')\n",
        "bagreg = BaggingClassifier(random_state = 0,n_estimators=10)\n",
        "print('Bagging\\n',bagreg.get_params())\n",
        "print('_______________________________________________')\n",
        "knn = KNeighborsClassifier(n_neighbors=200)\n",
        "print('KNeighbors\\n',knn.get_params())"
      ],
      "metadata": {
        "id": "Jn2B3q1Ph-LZ",
        "outputId": "6622a060-750e-4e38-d0af-6fa9fe30e472",
        "colab": {
          "base_uri": "https://localhost:8080/"
        }
      },
      "execution_count": 10,
      "outputs": [
        {
          "output_type": "stream",
          "name": "stdout",
          "text": [
            "DecisionTree\n",
            " {'ccp_alpha': 0.0, 'class_weight': None, 'criterion': 'gini', 'max_depth': 10, 'max_features': None, 'max_leaf_nodes': None, 'min_impurity_decrease': 0.0, 'min_samples_leaf': 1, 'min_samples_split': 2, 'min_weight_fraction_leaf': 0.0, 'random_state': 42, 'splitter': 'best'}\n",
            "_______________________________________________\n",
            "Bagging\n",
            " {'base_estimator': None, 'bootstrap': True, 'bootstrap_features': False, 'max_features': 1.0, 'max_samples': 1.0, 'n_estimators': 10, 'n_jobs': None, 'oob_score': False, 'random_state': 0, 'verbose': 0, 'warm_start': False}\n",
            "_______________________________________________\n",
            "KNeighbors\n",
            " {'algorithm': 'auto', 'leaf_size': 30, 'metric': 'minkowski', 'metric_params': None, 'n_jobs': None, 'n_neighbors': 200, 'p': 2, 'weights': 'uniform'}\n"
          ]
        }
      ]
    },
    {
      "cell_type": "code",
      "source": [
        "import time\n",
        "import warnings\n",
        "warnings.filterwarnings('ignore')\n",
        "\n",
        "\n",
        "df_rev=pd.DataFrame()\n",
        "start = time.time()\n",
        "dec_tree.fit(X_train_processed, y_train)\n",
        "dec_tree.predict(X_test_processed)\n",
        "\n",
        "# calculen la exactitud de la clasificación\n",
        "train_score = dec_tree.score(X_train_processed, y_train)\n",
        "test_score= dec_tree.score(X_test_processed, y_test)\n",
        "end = time.time()\n",
        "t_proc=end-start\n",
        "valor_ = pd.DataFrame({\"accuracy_train\":[train_score], \"accuracy_test\":[test_score],\"time_proceso\":[t_proc],\"model\":['DecisionTree']})\n",
        "df_rev=df_rev.append(valor_)\n",
        "\n",
        "start = time.time()\n",
        "bagreg.fit(X_train_processed, y_train)\n",
        "bagreg.predict(X_test_processed)\n",
        "\n",
        "# calculen la exactitud de la clasificación\n",
        "train_score = bagreg.score(X_train_processed, y_train)\n",
        "test_score= bagreg.score(X_test_processed, y_test)\n",
        "end = time.time()\n",
        "t_proc=end-start\n",
        "valor_ = pd.DataFrame({\"accuracy_train\":[train_score], \"accuracy_test\":[test_score],\"time_proceso\":[t_proc],\"model\":['Bagging']})\n",
        "df_rev=df_rev.append(valor_)\n",
        "\n",
        "start = time.time()\n",
        "knn.fit(X_train_processed, y_train)\n",
        "knn.predict(X_test_processed)\n",
        "\n",
        "# calculen la exactitud de la clasificación\n",
        "train_score = knn.score(X_train_processed, y_train)\n",
        "test_score= knn.score(X_test_processed, y_test)\n",
        "end = time.time()\n",
        "t_proc=end-start\n",
        "valor_ = pd.DataFrame({\"accuracy_train\":[train_score], \"accuracy_test\":[test_score],\"time_proceso\":[t_proc],\"model\":['KNeighbors']})\n",
        "df_rev=df_rev.append(valor_)"
      ],
      "metadata": {
        "id": "FHA_JN2jigP8"
      },
      "execution_count": 11,
      "outputs": []
    },
    {
      "cell_type": "code",
      "source": [
        "df_rev"
      ],
      "metadata": {
        "id": "s44gD3p7iqQm",
        "outputId": "5a00922c-ac4e-41c1-dd17-be7348461d7c",
        "colab": {
          "base_uri": "https://localhost:8080/",
          "height": 143
        }
      },
      "execution_count": 12,
      "outputs": [
        {
          "output_type": "execute_result",
          "data": {
            "text/plain": [
              "   accuracy_train  accuracy_test  time_proceso         model\n",
              "0        0.996491       0.715789      0.003663  DecisionTree\n",
              "0        0.985965       0.821053      0.026927       Bagging\n",
              "0        0.796491       0.757895      0.056817    KNeighbors"
            ],
            "text/html": [
              "\n",
              "  <div id=\"df-d620be40-b8f9-4708-a002-104d5c6158e6\">\n",
              "    <div class=\"colab-df-container\">\n",
              "      <div>\n",
              "<style scoped>\n",
              "    .dataframe tbody tr th:only-of-type {\n",
              "        vertical-align: middle;\n",
              "    }\n",
              "\n",
              "    .dataframe tbody tr th {\n",
              "        vertical-align: top;\n",
              "    }\n",
              "\n",
              "    .dataframe thead th {\n",
              "        text-align: right;\n",
              "    }\n",
              "</style>\n",
              "<table border=\"1\" class=\"dataframe\">\n",
              "  <thead>\n",
              "    <tr style=\"text-align: right;\">\n",
              "      <th></th>\n",
              "      <th>accuracy_train</th>\n",
              "      <th>accuracy_test</th>\n",
              "      <th>time_proceso</th>\n",
              "      <th>model</th>\n",
              "    </tr>\n",
              "  </thead>\n",
              "  <tbody>\n",
              "    <tr>\n",
              "      <th>0</th>\n",
              "      <td>0.996491</td>\n",
              "      <td>0.715789</td>\n",
              "      <td>0.003663</td>\n",
              "      <td>DecisionTree</td>\n",
              "    </tr>\n",
              "    <tr>\n",
              "      <th>0</th>\n",
              "      <td>0.985965</td>\n",
              "      <td>0.821053</td>\n",
              "      <td>0.026927</td>\n",
              "      <td>Bagging</td>\n",
              "    </tr>\n",
              "    <tr>\n",
              "      <th>0</th>\n",
              "      <td>0.796491</td>\n",
              "      <td>0.757895</td>\n",
              "      <td>0.056817</td>\n",
              "      <td>KNeighbors</td>\n",
              "    </tr>\n",
              "  </tbody>\n",
              "</table>\n",
              "</div>\n",
              "      <button class=\"colab-df-convert\" onclick=\"convertToInteractive('df-d620be40-b8f9-4708-a002-104d5c6158e6')\"\n",
              "              title=\"Convert this dataframe to an interactive table.\"\n",
              "              style=\"display:none;\">\n",
              "        \n",
              "  <svg xmlns=\"http://www.w3.org/2000/svg\" height=\"24px\"viewBox=\"0 0 24 24\"\n",
              "       width=\"24px\">\n",
              "    <path d=\"M0 0h24v24H0V0z\" fill=\"none\"/>\n",
              "    <path d=\"M18.56 5.44l.94 2.06.94-2.06 2.06-.94-2.06-.94-.94-2.06-.94 2.06-2.06.94zm-11 1L8.5 8.5l.94-2.06 2.06-.94-2.06-.94L8.5 2.5l-.94 2.06-2.06.94zm10 10l.94 2.06.94-2.06 2.06-.94-2.06-.94-.94-2.06-.94 2.06-2.06.94z\"/><path d=\"M17.41 7.96l-1.37-1.37c-.4-.4-.92-.59-1.43-.59-.52 0-1.04.2-1.43.59L10.3 9.45l-7.72 7.72c-.78.78-.78 2.05 0 2.83L4 21.41c.39.39.9.59 1.41.59.51 0 1.02-.2 1.41-.59l7.78-7.78 2.81-2.81c.8-.78.8-2.07 0-2.86zM5.41 20L4 18.59l7.72-7.72 1.47 1.35L5.41 20z\"/>\n",
              "  </svg>\n",
              "      </button>\n",
              "      \n",
              "  <style>\n",
              "    .colab-df-container {\n",
              "      display:flex;\n",
              "      flex-wrap:wrap;\n",
              "      gap: 12px;\n",
              "    }\n",
              "\n",
              "    .colab-df-convert {\n",
              "      background-color: #E8F0FE;\n",
              "      border: none;\n",
              "      border-radius: 50%;\n",
              "      cursor: pointer;\n",
              "      display: none;\n",
              "      fill: #1967D2;\n",
              "      height: 32px;\n",
              "      padding: 0 0 0 0;\n",
              "      width: 32px;\n",
              "    }\n",
              "\n",
              "    .colab-df-convert:hover {\n",
              "      background-color: #E2EBFA;\n",
              "      box-shadow: 0px 1px 2px rgba(60, 64, 67, 0.3), 0px 1px 3px 1px rgba(60, 64, 67, 0.15);\n",
              "      fill: #174EA6;\n",
              "    }\n",
              "\n",
              "    [theme=dark] .colab-df-convert {\n",
              "      background-color: #3B4455;\n",
              "      fill: #D2E3FC;\n",
              "    }\n",
              "\n",
              "    [theme=dark] .colab-df-convert:hover {\n",
              "      background-color: #434B5C;\n",
              "      box-shadow: 0px 1px 3px 1px rgba(0, 0, 0, 0.15);\n",
              "      filter: drop-shadow(0px 1px 2px rgba(0, 0, 0, 0.3));\n",
              "      fill: #FFFFFF;\n",
              "    }\n",
              "  </style>\n",
              "\n",
              "      <script>\n",
              "        const buttonEl =\n",
              "          document.querySelector('#df-d620be40-b8f9-4708-a002-104d5c6158e6 button.colab-df-convert');\n",
              "        buttonEl.style.display =\n",
              "          google.colab.kernel.accessAllowed ? 'block' : 'none';\n",
              "\n",
              "        async function convertToInteractive(key) {\n",
              "          const element = document.querySelector('#df-d620be40-b8f9-4708-a002-104d5c6158e6');\n",
              "          const dataTable =\n",
              "            await google.colab.kernel.invokeFunction('convertToInteractive',\n",
              "                                                     [key], {});\n",
              "          if (!dataTable) return;\n",
              "\n",
              "          const docLinkHtml = 'Like what you see? Visit the ' +\n",
              "            '<a target=\"_blank\" href=https://colab.research.google.com/notebooks/data_table.ipynb>data table notebook</a>'\n",
              "            + ' to learn more about interactive tables.';\n",
              "          element.innerHTML = '';\n",
              "          dataTable['output_type'] = 'display_data';\n",
              "          await google.colab.output.renderOutput(dataTable, element);\n",
              "          const docLink = document.createElement('div');\n",
              "          docLink.innerHTML = docLinkHtml;\n",
              "          element.appendChild(docLink);\n",
              "        }\n",
              "      </script>\n",
              "    </div>\n",
              "  </div>\n",
              "  "
            ]
          },
          "metadata": {},
          "execution_count": 12
        }
      ]
    },
    {
      "cell_type": "code",
      "source": [
        "x = np.arange(3)\n",
        "y1 = df_rev['accuracy_train']\n",
        "y2 = df_rev['accuracy_test']\n",
        "\n",
        "width = 0.2\n",
        "  \n",
        "plt.bar(x-0.2, y1, width, color='gold') \n",
        "plt.bar(x, y2, width, color='black') \n",
        "plt.xticks(x, ['DecisionTree', 'Bagging', 'KNeighbors']) \n",
        "plt.xlabel(\"Model\") \n",
        "plt.ylabel(\"Accuracy\") \n",
        "plt.legend([\"train\", \"test\"]) \n",
        "plt.show() "
      ],
      "metadata": {
        "id": "32maxppJzpSZ",
        "outputId": "6a9ef7fd-2434-4015-8a79-2f852754dae7",
        "colab": {
          "base_uri": "https://localhost:8080/",
          "height": 285
        }
      },
      "execution_count": 13,
      "outputs": [
        {
          "output_type": "display_data",
          "data": {
            "text/plain": [
              "<Figure size 432x288 with 1 Axes>"
            ],
            "image/png": "[encoded data removed]"
          },
          "metadata": {}
        }
      ]
    },
    {
      "cell_type": "markdown",
      "source": [
        "*Teniendo a la vista todos los valores de los distintos modelos utilizados, me voy a inclinar por Bagging, ya que existe un \"equilibrio\" entre datos de training como test. Se descarta DecisionTree, por sospecha de sobreajuste en los datos de training y tambien KNeighbors, debido a que a pesar de varios intentos utilizando distintos estimadores no se logra un accuracy satisfactorio*\n",
        "\n",
        "# Red Neuronal"
      ],
      "metadata": {
        "id": "JX1YtNWsYqZP"
      }
    },
    {
      "cell_type": "code",
      "source": [
        "# Drop missings\n",
        "df.dropna(inplace = True)\n",
        "# Save X data\n",
        "X = df.drop(columns = 'home_team_goal_count')\n",
        "# Encode our target\n",
        "y = df['home_team_goal_count']\n",
        "# Train test split\n",
        "X_train, X_test, y_train, y_test = train_test_split(X, y, random_state=3)\n",
        "# Scale our data\n",
        "scaler = StandardScaler()\n",
        "X_train = scaler.fit_transform(X_train)\n",
        "X_test = scaler.transform(X_test)"
      ],
      "metadata": {
        "id": "aL50vKxRnNwu"
      },
      "execution_count": 14,
      "outputs": []
    },
    {
      "cell_type": "code",
      "source": [
        "import tensorflow as tf\n",
        "input_shape = X_train.shape[1]\n",
        "print('la cantidad de caracteristicas (cols) es:',input_shape)"
      ],
      "metadata": {
        "id": "J6DKA5NpdE4q",
        "outputId": "17c61b48-0537-4882-c22f-d63a74dcd411",
        "colab": {
          "base_uri": "https://localhost:8080/"
        }
      },
      "execution_count": 15,
      "outputs": [
        {
          "output_type": "stream",
          "name": "stdout",
          "text": [
            "la cantidad de caracteristicas (cols) es: 9\n"
          ]
        }
      ]
    },
    {
      "cell_type": "code",
      "source": [
        "model = tf.keras.models.Sequential()\n",
        "model.add(tf.keras.layers.Dense(300, activation='relu')) # Primera capa oculta, salida 300\n",
        "model.add(tf.keras.layers.Dense(100, activation='relu')) # Segunda capa oculta, salida 100\n",
        "model.add(tf.keras.layers.Dense(2, activation='sigmoid')) # Capa de salida, salida 2 (número de clases)"
      ],
      "metadata": {
        "id": "cBYZAnV9dcjI"
      },
      "execution_count": 16,
      "outputs": []
    },
    {
      "cell_type": "code",
      "source": [
        "input_shape = X.shape  \n",
        "model.build(input_shape) \n",
        "model.summary()\n",
        "model.compile(loss=\"sparse_categorical_crossentropy\",\n",
        "              optimizer=\"sgd\",\n",
        "              metrics=[\"accuracy\"])\n"
      ],
      "metadata": {
        "id": "nf1E1_DLd27f",
        "outputId": "7b1be930-8000-4951-f918-52b88ad06648",
        "colab": {
          "base_uri": "https://localhost:8080/"
        }
      },
      "execution_count": 17,
      "outputs": [
        {
          "output_type": "stream",
          "name": "stdout",
          "text": [
            "Model: \"sequential\"\n",
            "_________________________________________________________________\n",
            " Layer (type)                Output Shape              Param #   \n",
            "=================================================================\n",
            " dense (Dense)               (380, 300)                3000      \n",
            "                                                                 \n",
            " dense_1 (Dense)             (380, 100)                30100     \n",
            "                                                                 \n",
            " dense_2 (Dense)             (380, 2)                  202       \n",
            "                                                                 \n",
            "=================================================================\n",
            "Total params: 33,302\n",
            "Trainable params: 33,302\n",
            "Non-trainable params: 0\n",
            "_________________________________________________________________\n"
          ]
        }
      ]
    },
    {
      "cell_type": "code",
      "source": [
        "X_train, X_val, y_train, y_val = train_test_split(X_train, y_train, test_size=0.2, \n",
        "                                                  stratify=y_train)"
      ],
      "metadata": {
        "id": "sw_Tb50rcS6m"
      },
      "execution_count": 19,
      "outputs": []
    },
    {
      "cell_type": "code",
      "source": [
        "history = model.fit(X_train, y_train, epochs=30, batch_size=10000,\n",
        "                    validation_data=(X_val, y_val))"
      ],
      "metadata": {
        "id": "2H2ZZZS9d7y7",
        "outputId": "94612ebb-2642-4307-c71d-9fe77c3485d6",
        "colab": {
          "base_uri": "https://localhost:8080/"
        }
      },
      "execution_count": 20,
      "outputs": [
        {
          "output_type": "stream",
          "name": "stdout",
          "text": [
            "Epoch 1/30\n",
            "1/1 [==============================] - 2s 2s/step - loss: 0.7269 - accuracy: 0.3860 - val_loss: 0.7199 - val_accuracy: 0.3509\n",
            "Epoch 2/30\n",
            "1/1 [==============================] - 0s 40ms/step - loss: 0.7145 - accuracy: 0.4167 - val_loss: 0.7072 - val_accuracy: 0.4211\n",
            "Epoch 3/30\n",
            "1/1 [==============================] - 0s 38ms/step - loss: 0.7029 - accuracy: 0.4693 - val_loss: 0.6953 - val_accuracy: 0.5263\n",
            "Epoch 4/30\n",
            "1/1 [==============================] - 0s 40ms/step - loss: 0.6919 - accuracy: 0.4956 - val_loss: 0.6840 - val_accuracy: 0.5439\n",
            "Epoch 5/30\n",
            "1/1 [==============================] - 0s 42ms/step - loss: 0.6815 - accuracy: 0.5395 - val_loss: 0.6733 - val_accuracy: 0.5789\n",
            "Epoch 6/30\n",
            "1/1 [==============================] - 0s 39ms/step - loss: 0.6717 - accuracy: 0.6053 - val_loss: 0.6632 - val_accuracy: 0.6491\n",
            "Epoch 7/30\n",
            "1/1 [==============================] - 0s 35ms/step - loss: 0.6624 - accuracy: 0.6623 - val_loss: 0.6536 - val_accuracy: 0.6842\n",
            "Epoch 8/30\n",
            "1/1 [==============================] - 0s 44ms/step - loss: 0.6535 - accuracy: 0.7018 - val_loss: 0.6445 - val_accuracy: 0.7193\n",
            "Epoch 9/30\n",
            "1/1 [==============================] - 0s 38ms/step - loss: 0.6451 - accuracy: 0.7149 - val_loss: 0.6358 - val_accuracy: 0.7193\n",
            "Epoch 10/30\n",
            "1/1 [==============================] - 0s 41ms/step - loss: 0.6371 - accuracy: 0.7368 - val_loss: 0.6275 - val_accuracy: 0.7368\n",
            "Epoch 11/30\n",
            "1/1 [==============================] - 0s 37ms/step - loss: 0.6294 - accuracy: 0.7456 - val_loss: 0.6197 - val_accuracy: 0.7544\n",
            "Epoch 12/30\n",
            "1/1 [==============================] - 0s 42ms/step - loss: 0.6221 - accuracy: 0.7632 - val_loss: 0.6121 - val_accuracy: 0.7895\n",
            "Epoch 13/30\n",
            "1/1 [==============================] - 0s 39ms/step - loss: 0.6151 - accuracy: 0.7719 - val_loss: 0.6048 - val_accuracy: 0.7719\n",
            "Epoch 14/30\n",
            "1/1 [==============================] - 0s 50ms/step - loss: 0.6083 - accuracy: 0.7719 - val_loss: 0.5979 - val_accuracy: 0.7719\n",
            "Epoch 15/30\n",
            "1/1 [==============================] - 0s 42ms/step - loss: 0.6018 - accuracy: 0.7939 - val_loss: 0.5912 - val_accuracy: 0.7895\n",
            "Epoch 16/30\n",
            "1/1 [==============================] - 0s 38ms/step - loss: 0.5956 - accuracy: 0.8026 - val_loss: 0.5848 - val_accuracy: 0.7895\n",
            "Epoch 17/30\n",
            "1/1 [==============================] - 0s 39ms/step - loss: 0.5896 - accuracy: 0.8070 - val_loss: 0.5787 - val_accuracy: 0.7895\n",
            "Epoch 18/30\n",
            "1/1 [==============================] - 0s 41ms/step - loss: 0.5839 - accuracy: 0.8070 - val_loss: 0.5729 - val_accuracy: 0.8070\n",
            "Epoch 19/30\n",
            "1/1 [==============================] - 0s 37ms/step - loss: 0.5784 - accuracy: 0.8070 - val_loss: 0.5673 - val_accuracy: 0.8070\n",
            "Epoch 20/30\n",
            "1/1 [==============================] - 0s 37ms/step - loss: 0.5731 - accuracy: 0.8070 - val_loss: 0.5619 - val_accuracy: 0.8070\n",
            "Epoch 21/30\n",
            "1/1 [==============================] - 0s 42ms/step - loss: 0.5681 - accuracy: 0.8070 - val_loss: 0.5568 - val_accuracy: 0.8070\n",
            "Epoch 22/30\n",
            "1/1 [==============================] - 0s 40ms/step - loss: 0.5632 - accuracy: 0.8070 - val_loss: 0.5518 - val_accuracy: 0.8070\n",
            "Epoch 23/30\n",
            "1/1 [==============================] - 0s 39ms/step - loss: 0.5586 - accuracy: 0.8070 - val_loss: 0.5471 - val_accuracy: 0.8070\n",
            "Epoch 24/30\n",
            "1/1 [==============================] - 0s 38ms/step - loss: 0.5541 - accuracy: 0.8114 - val_loss: 0.5425 - val_accuracy: 0.8070\n",
            "Epoch 25/30\n",
            "1/1 [==============================] - 0s 43ms/step - loss: 0.5498 - accuracy: 0.8114 - val_loss: 0.5381 - val_accuracy: 0.8070\n",
            "Epoch 26/30\n",
            "1/1 [==============================] - 0s 40ms/step - loss: 0.5456 - accuracy: 0.8114 - val_loss: 0.5338 - val_accuracy: 0.8070\n",
            "Epoch 27/30\n",
            "1/1 [==============================] - 0s 38ms/step - loss: 0.5415 - accuracy: 0.8114 - val_loss: 0.5297 - val_accuracy: 0.8070\n",
            "Epoch 28/30\n",
            "1/1 [==============================] - 0s 38ms/step - loss: 0.5376 - accuracy: 0.8114 - val_loss: 0.5257 - val_accuracy: 0.8070\n",
            "Epoch 29/30\n",
            "1/1 [==============================] - 0s 36ms/step - loss: 0.5338 - accuracy: 0.8114 - val_loss: 0.5219 - val_accuracy: 0.8070\n",
            "Epoch 30/30\n",
            "1/1 [==============================] - 0s 36ms/step - loss: 0.5301 - accuracy: 0.8114 - val_loss: 0.5182 - val_accuracy: 0.8070\n"
          ]
        }
      ]
    },
    {
      "cell_type": "code",
      "source": [
        "score, acc = model.evaluate(X_test, y_test,\n",
        "                            batch_size=32)\n",
        "print(\"Score:\", score) # Función de pérdida\n",
        "print(\"Accuracy:\", acc)"
      ],
      "metadata": {
        "id": "sJ2FfT7VoYCg",
        "outputId": "fa19f88e-8915-4334-c93f-3ed5d1a07b77",
        "colab": {
          "base_uri": "https://localhost:8080/"
        }
      },
      "execution_count": 21,
      "outputs": [
        {
          "output_type": "stream",
          "name": "stdout",
          "text": [
            "3/3 [==============================] - 0s 5ms/step - loss: 0.5738 - accuracy: 0.7158\n",
            "Score: 0.5737659931182861\n",
            "Accuracy: 0.7157894968986511\n"
          ]
        }
      ]
    },
    {
      "cell_type": "code",
      "source": [
        "class_names = X.columns\n",
        "class_names"
      ],
      "metadata": {
        "id": "fN91b7_6onT5",
        "outputId": "8fc00681-eb14-4d9e-d714-112e9f1cbd58",
        "colab": {
          "base_uri": "https://localhost:8080/"
        }
      },
      "execution_count": 22,
      "outputs": [
        {
          "output_type": "execute_result",
          "data": {
            "text/plain": [
              "Index(['home_team_goal_count_half_time', 'home_team_corner_count',\n",
              "       'home_team_yellow_cards', 'home_team_red_cards', 'home_team_shots',\n",
              "       'home_team_shots_on_target', 'home_team_shots_off_target',\n",
              "       'home_team_fouls', 'home_team_possession'],\n",
              "      dtype='object')"
            ]
          },
          "metadata": {},
          "execution_count": 22
        }
      ]
    },
    {
      "cell_type": "code",
      "source": [
        "#dato = 7\n",
        "dato=16\n",
        "prediction = model.predict(X_test)\n",
        "classes_x=np.argmax(prediction,axis=1)\n",
        "print(\"Predicción:\", class_names[classes_x[dato]])\n",
        "print(\"Clase Real:\", class_names[y_test[dato]])"
      ],
      "metadata": {
        "id": "66YwHCFyov9k",
        "outputId": "b08d8cd2-c9b1-4cd8-e7f2-90e5faba39af",
        "colab": {
          "base_uri": "https://localhost:8080/"
        }
      },
      "execution_count": 25,
      "outputs": [
        {
          "output_type": "stream",
          "name": "stdout",
          "text": [
            "Predicción: home_team_goal_count_half_time\n",
            "Clase Real: home_team_goal_count_half_time\n"
          ]
        }
      ]
    },
    {
      "cell_type": "code",
      "source": [
        "y_test"
      ],
      "metadata": {
        "id": "H74SahXAw6Il",
        "outputId": "ef873eee-bbb4-4237-bea3-7dc512b8e751",
        "colab": {
          "base_uri": "https://localhost:8080/"
        }
      },
      "execution_count": 24,
      "outputs": [
        {
          "output_type": "execute_result",
          "data": {
            "text/plain": [
              "342    1\n",
              "16     0\n",
              "282    0\n",
              "259    1\n",
              "114    0\n",
              "      ..\n",
              "146    0\n",
              "326    1\n",
              "80     0\n",
              "102    1\n",
              "244    0\n",
              "Name: home_team_goal_count, Length: 95, dtype: int64"
            ]
          },
          "metadata": {},
          "execution_count": 24
        }
      ]
    },
    {
      "cell_type": "code",
      "source": [
        "y_test"
      ],
      "metadata": {
        "id": "C9JVYXwctpWo",
        "outputId": "16383454-2cde-4762-af6f-57e3bd72d0bf",
        "colab": {
          "base_uri": "https://localhost:8080/"
        }
      },
      "execution_count": 30,
      "outputs": [
        {
          "output_type": "execute_result",
          "data": {
            "text/plain": [
              "342    1\n",
              "16     0\n",
              "282    0\n",
              "259    1\n",
              "114    0\n",
              "      ..\n",
              "146    0\n",
              "326    1\n",
              "80     0\n",
              "102    1\n",
              "244    0\n",
              "Name: home_team_goal_count, Length: 95, dtype: int64"
            ]
          },
          "metadata": {},
          "execution_count": 30
        }
      ]
    }
  ]
}