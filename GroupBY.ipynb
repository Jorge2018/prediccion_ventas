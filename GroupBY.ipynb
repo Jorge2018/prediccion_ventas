{
  "nbformat": 4,
  "nbformat_minor": 0,
  "metadata": {
    "colab": {
      "name": "Untitled6.ipynb",
      "provenance": [],
      "authorship_tag": "ABX9TyNvx4l8CYqs7txutL39lsdX",
      "include_colab_link": true
    },
    "kernelspec": {
      "name": "python3",
      "display_name": "Python 3"
    },
    "language_info": {
      "name": "python"
    }
  },
  "cells": [
    {
      "cell_type": "markdown",
      "metadata": {
        "id": "view-in-github",
        "colab_type": "text"
      },
      "source": [
        "<a href=\"https://colab.research.google.com/github/Jorge2018/prediccion_ventas/blob/main/GroupBY.ipynb\" target=\"_parent\"><img src=\"https://colab.research.google.com/assets/colab-badge.svg\" alt=\"Open In Colab\"/></a>"
      ]
    },
    {
      "cell_type": "code",
      "source": [
        "from google.colab import drive\n",
        "drive.mount('/content/drive')\n",
        "import pandas as pd\n",
        "import numpy as np\n",
        "df= pd.read_csv(r'https://raw.githubusercontent.com/mGalarnyk/Tutorial_Data/master/Pandas/CalIt2.data',header=None)\n",
        "df.rename(columns={0:'Flow_ID',1:'Date',2:'Time',3:'Count'},inplace=True) # renombrar columnas\n",
        "df.loc[(df['Date'] == '07/24/05') & (df['Flow_ID'] ==7)] \n",
        "df_sel=df.loc[(df['Date'] == '07/24/05') & (df['Flow_ID'] ==7)] # seleccion 24-07 y 7\n",
        "top10 = df_sel.sort_values(['Count'], ascending=[False]).head(10) # top10\n",
        "valMen=top10['Count'].min()\n",
        "df_sort = top10.apply(lambda x: top10['Count'] - valMen) # funcion apply\n",
        "df_sel_2=df[(df['Date'].str.contains(\"08/\")==True) & (df['Flow_ID'] ==7) & (df['Date'].str.contains(\"/08/\")==False)]\n",
        "df_sel_2.groupby(['Date'])['Date'].count() # group by\n",
        "\n"
      ],
      "metadata": {
        "colab": {
          "base_uri": "https://localhost:8080/"
        },
        "id": "4gspd3PpjekN",
        "outputId": "086025a1-52a2-435d-9767-a5e574c593da"
      },
      "execution_count": 63,
      "outputs": [
        {
          "output_type": "stream",
          "name": "stdout",
          "text": [
            "Drive already mounted at /content/drive; to attempt to forcibly remount, call drive.mount(\"/content/drive\", force_remount=True).\n"
          ]
        },
        {
          "output_type": "execute_result",
          "data": {
            "text/plain": [
              "Date\n",
              "08/01/05    48\n",
              "08/02/05    48\n",
              "08/03/05    48\n",
              "08/04/05    48\n",
              "08/05/05    48\n",
              "08/06/05    48\n",
              "08/07/05    48\n",
              "08/09/05    48\n",
              "08/10/05    48\n",
              "08/11/05    48\n",
              "08/12/05    48\n",
              "08/13/05    48\n",
              "08/14/05    48\n",
              "08/15/05    48\n",
              "08/16/05    48\n",
              "08/17/05    48\n",
              "08/18/05    48\n",
              "08/19/05    48\n",
              "08/20/05    48\n",
              "08/21/05    48\n",
              "08/22/05    48\n",
              "08/23/05    48\n",
              "08/24/05    48\n",
              "08/25/05    48\n",
              "08/26/05    48\n",
              "08/27/05    48\n",
              "08/28/05    48\n",
              "08/29/05    48\n",
              "08/30/05    48\n",
              "08/31/05    48\n",
              "Name: Date, dtype: int64"
            ]
          },
          "metadata": {},
          "execution_count": 63
        }
      ]
    }
  ]
}