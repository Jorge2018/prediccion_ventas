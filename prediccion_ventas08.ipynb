{
  "nbformat": 4,
  "nbformat_minor": 0,
  "metadata": {
    "colab": {
      "name": "Untitled0.ipynb",
      "provenance": [],
      "collapsed_sections": [],
      "authorship_tag": "ABX9TyM7Tl46PSgwkHwvx1QT0l99",
      "include_colab_link": true
    },
    "kernelspec": {
      "name": "python3",
      "display_name": "Python 3"
    },
    "language_info": {
      "name": "python"
    }
  },
  "cells": [
    {
      "cell_type": "markdown",
      "metadata": {
        "id": "view-in-github",
        "colab_type": "text"
      },
      "source": [
        "<a href=\"https://colab.research.google.com/github/Jorge2018/prediccion_ventas/blob/main/prediccion_ventas08.ipynb\" target=\"_parent\"><img src=\"https://colab.research.google.com/assets/colab-badge.svg\" alt=\"Open In Colab\"/></a>"
      ]
    },
    {
      "cell_type": "code",
      "execution_count": 62,
      "metadata": {
        "colab": {
          "base_uri": "https://localhost:8080/"
        },
        "id": "WvyjrBTEIuwY",
        "outputId": "24e51bb4-d8bb-4175-810f-d78ba9c82cf6"
      },
      "outputs": [
        {
          "output_type": "stream",
          "name": "stdout",
          "text": [
            "<class 'pandas.core.frame.DataFrame'>\n",
            "RangeIndex: 768 entries, 0 to 767\n",
            "Data columns (total 9 columns):\n",
            " #   Column                    Non-Null Count  Dtype  \n",
            "---  ------                    --------------  -----  \n",
            " 0   Pregnancies               768 non-null    int64  \n",
            " 1   Glucose                   768 non-null    int64  \n",
            " 2   BloodPressure             768 non-null    int64  \n",
            " 3   SkinThickness             768 non-null    int64  \n",
            " 4   Insulin                   768 non-null    int64  \n",
            " 5   BMI                       768 non-null    float64\n",
            " 6   DiabetesPedigreeFunction  768 non-null    float64\n",
            " 7   Age                       768 non-null    int64  \n",
            " 8   Outcome                   768 non-null    int64  \n",
            "dtypes: float64(2), int64(7)\n",
            "memory usage: 54.1 KB\n"
          ]
        }
      ],
      "source": [
        "import pandas as pd\n",
        "import numpy as np\n",
        "import matplotlib.pyplot as plt\n",
        "from sklearn.linear_model import LinearRegression\n",
        "from sklearn.metrics import r2_score\n",
        "from sklearn.metrics import mean_absolute_error\n",
        "from sklearn.metrics import mean_squared_error\n",
        "from sklearn.model_selection import train_test_split\n",
        "from sklearn.linear_model import LinearRegression\n",
        "from sklearn.compose import make_column_selector, make_column_transformer\n",
        "from sklearn.impute import SimpleImputer\n",
        "from sklearn.preprocessing import StandardScaler, OneHotEncoder\n",
        "from sklearn.pipeline import make_pipeline\n",
        "df=pd.read_csv(r'https://raw.githubusercontent.com/Jorge2018/RepositorioArchivos/main/diabetes.csv')\n",
        "df.info()"
      ]
    },
    {
      "cell_type": "markdown",
      "source": [
        "**Inspeccion de datos**"
      ],
      "metadata": {
        "id": "iXN52et3LHxg"
      }
    },
    {
      "cell_type": "code",
      "source": [
        "df.duplicated()\n",
        "df = df.drop_duplicates()\n",
        "print('la cantidad de registros sin duplicados es:\\n',df.count())\n",
        "print('---------------------------')\n",
        "print('los datos faltantes del df son:\\n',df.isna().sum())\n",
        "print('---------------------------')"
      ],
      "metadata": {
        "id": "VxBwWistQIMa",
        "outputId": "fbc9b99b-4ded-4790-9b7c-5c008b826cba",
        "colab": {
          "base_uri": "https://localhost:8080/"
        }
      },
      "execution_count": 63,
      "outputs": [
        {
          "output_type": "stream",
          "name": "stdout",
          "text": [
            "la cantidad de registros sin duplicados es:\n",
            " Pregnancies                 768\n",
            "Glucose                     768\n",
            "BloodPressure               768\n",
            "SkinThickness               768\n",
            "Insulin                     768\n",
            "BMI                         768\n",
            "DiabetesPedigreeFunction    768\n",
            "Age                         768\n",
            "Outcome                     768\n",
            "dtype: int64\n",
            "---------------------------\n",
            "los datos faltantes del df son:\n",
            " Pregnancies                 0\n",
            "Glucose                     0\n",
            "BloodPressure               0\n",
            "SkinThickness               0\n",
            "Insulin                     0\n",
            "BMI                         0\n",
            "DiabetesPedigreeFunction    0\n",
            "Age                         0\n",
            "Outcome                     0\n",
            "dtype: int64\n",
            "---------------------------\n"
          ]
        }
      ]
    },
    {
      "cell_type": "code",
      "source": [
        "df.describe"
      ],
      "metadata": {
        "colab": {
          "base_uri": "https://localhost:8080/"
        },
        "id": "owU0BTi9LR3P",
        "outputId": "88f64f4e-4f3b-4c95-cc85-e91c2f69ed9a"
      },
      "execution_count": 64,
      "outputs": [
        {
          "output_type": "execute_result",
          "data": {
            "text/plain": [
              "<bound method NDFrame.describe of      Pregnancies  Glucose  BloodPressure  SkinThickness  Insulin   BMI  \\\n",
              "0              6      148             72             35        0  33.6   \n",
              "1              1       85             66             29        0  26.6   \n",
              "2              8      183             64              0        0  23.3   \n",
              "3              1       89             66             23       94  28.1   \n",
              "4              0      137             40             35      168  43.1   \n",
              "..           ...      ...            ...            ...      ...   ...   \n",
              "763           10      101             76             48      180  32.9   \n",
              "764            2      122             70             27        0  36.8   \n",
              "765            5      121             72             23      112  26.2   \n",
              "766            1      126             60              0        0  30.1   \n",
              "767            1       93             70             31        0  30.4   \n",
              "\n",
              "     DiabetesPedigreeFunction  Age  Outcome  \n",
              "0                       0.627   50        1  \n",
              "1                       0.351   31        0  \n",
              "2                       0.672   32        1  \n",
              "3                       0.167   21        0  \n",
              "4                       2.288   33        1  \n",
              "..                        ...  ...      ...  \n",
              "763                     0.171   63        0  \n",
              "764                     0.340   27        0  \n",
              "765                     0.245   30        0  \n",
              "766                     0.349   47        1  \n",
              "767                     0.315   23        0  \n",
              "\n",
              "[768 rows x 9 columns]>"
            ]
          },
          "metadata": {},
          "execution_count": 64
        }
      ]
    },
    {
      "cell_type": "markdown",
      "source": [
        "**Separa valores en X, y**"
      ],
      "metadata": {
        "id": "g6jERu2uLPAf"
      }
    },
    {
      "cell_type": "code",
      "source": [
        "# Dividan\n",
        "X = df.drop('BMI', axis=1)\n",
        "#X_sel = X.select_dtypes(include = [\"number\"])\n",
        "y = df['BMI']\n",
        "X_train, X_test, y_train, y_test = train_test_split(X, y, test_size=0.3, random_state=13)"
      ],
      "metadata": {
        "id": "NlLCQp6FHJUD"
      },
      "execution_count": 65,
      "outputs": []
    },
    {
      "cell_type": "markdown",
      "source": [
        "# Proceso para realizar transformaciones al df"
      ],
      "metadata": {
        "id": "OchnpLyhLWOl"
      }
    },
    {
      "cell_type": "code",
      "source": [
        "## **Instanciar selectores**\n",
        "cat_selector = make_column_selector(dtype_include='object')\n",
        "num_selector = make_column_selector(dtype_include='number')\n",
        "\n",
        "## Instanciar transformadores SimpleImputer, StandardScaler y OneHotEncoder\n",
        "# Imputers\n",
        "mean_imputer = SimpleImputer(strategy='mean')\n",
        "freq_imputer = SimpleImputer(strategy='most_frequent')\n",
        "# Scaler\n",
        "scaler = StandardScaler()\n",
        "# One-hot encoder\n",
        "ohe = OneHotEncoder(handle_unknown='ignore', sparse=False)\n",
        "\n",
        "## **Instanciar el pipeline**\n",
        "numeric_pipe = make_pipeline(mean_imputer, scaler)\n",
        "categorical_pipe = make_pipeline(freq_imputer, ohe)\n",
        "\n",
        "## **Asignacion de tupla e instanciacion de ColumnTransformer**\n",
        "number_tuple = (numeric_pipe, num_selector)\n",
        "category_tuple = (categorical_pipe, cat_selector)\n",
        "# ColumnTransformer\n",
        "preprocessor = make_column_transformer(number_tuple, category_tuple)\n",
        "\n",
        "## **Transformacion de datos**\n",
        "# fit on train\n",
        "preprocessor.fit(X_train,X_test)\n",
        "# transform train and test\n",
        "X_train_processed = preprocessor.transform(X_train)\n",
        "X_test_processed = preprocessor.transform(X_test)\n"
      ],
      "metadata": {
        "id": "yN5a-IkOHvTz"
      },
      "execution_count": 66,
      "outputs": []
    },
    {
      "cell_type": "markdown",
      "source": [
        "**Inspeccion de resultados**"
      ],
      "metadata": {
        "id": "a3OK5Y4UMFHn"
      }
    },
    {
      "cell_type": "code",
      "source": [
        "# Comprueben los valores faltantes y que los datos se escalen y tengan una codificación one-hot\n",
        "print(np.isnan(X_train_processed).sum().sum(), 'valores perdidos en la data de entrenamiento')\n",
        "print(np.isnan(X_test_processed).sum().sum(), 'valores perdidos en la data de prueba')\n",
        "print('\\n')\n",
        "print('Todos los datos procesados del X_train_processed son del tipo:', X_train_processed.dtype)\n",
        "print('Todos los datos procesados del X_test_processed son del tipo', X_test_processed.dtype)\n",
        "print('\\n')\n",
        "print('shape de los datos de entrenamiento son', X_train_processed.shape)\n",
        "print('\\n')\n",
        "print('shape de los datos de test son', X_test_processed.shape)\n"
      ],
      "metadata": {
        "id": "HMEGFo5gK6Ai",
        "outputId": "6b0b5291-92c0-4534-deb6-6a2cec084e17",
        "colab": {
          "base_uri": "https://localhost:8080/"
        }
      },
      "execution_count": 67,
      "outputs": [
        {
          "output_type": "stream",
          "name": "stdout",
          "text": [
            "0 valores perdidos en la data de entrenamiento\n",
            "0 valores perdidos en la data de prueba\n",
            "\n",
            "\n",
            "Todos los datos procesados del X_train_processed son del tipo: float64\n",
            "Todos los datos procesados del X_test_processed son del tipo float64\n",
            "\n",
            "\n",
            "shape de los datos de entrenamiento son (537, 8)\n",
            "\n",
            "\n",
            "shape de los datos de test son (231, 8)\n"
          ]
        }
      ]
    },
    {
      "cell_type": "markdown",
      "source": [
        "**Instancia y proceso del modelo**"
      ],
      "metadata": {
        "id": "d-DxdWsNQo7D"
      }
    },
    {
      "cell_type": "code",
      "source": [
        "reg = LinearRegression()\n",
        "reg.fit(X_train_processed,y_train)\n",
        "print('El bias calculado es', reg.intercept_)\n",
        "print('La pendiente calculada es: ', reg.coef_)\n",
        "print('\\n')\n",
        "print('Esto significa que por cada 31/32 unidad de BMI, el cambio en la pendiente de cada una de sus caracteristicas seran los valores que nos retorna el coef.')"
      ],
      "metadata": {
        "id": "1IbEWN96PeKe",
        "outputId": "c97a07e9-6e42-4612-adc8-765d0b5ddaa5",
        "colab": {
          "base_uri": "https://localhost:8080/"
        }
      },
      "execution_count": 71,
      "outputs": [
        {
          "output_type": "stream",
          "name": "stdout",
          "text": [
            "El bias calculado es 31.980446927374302\n",
            "La pendiente calculada es:  [-0.09497721  0.62453994  1.8760797   2.54546597 -0.24240984  0.04510644\n",
            " -0.46189587  1.8069783 ]\n",
            "\n",
            "\n",
            "Esto significa que por cada 31/32 unidad de BMI, el cambio en la pendiente de cada una de sus caracteristicas seran los valores que nos retorna el coef.\n"
          ]
        }
      ]
    },
    {
      "cell_type": "markdown",
      "source": [
        "Comparativa entre valor real y la prediccion realizada "
      ],
      "metadata": {
        "id": "fJpPw70mxL29"
      }
    },
    {
      "cell_type": "code",
      "source": [
        "y_pred = reg.predict(X_test_processed)\n",
        "dfinfo = pd.DataFrame({'Real': y_test.values.flatten(), 'Prediccion': y_pred.flatten()})\n",
        "dfinfo"
      ],
      "metadata": {
        "id": "_dV5VtbawjSw",
        "outputId": "71d3b265-c376-4a87-864b-09f6cb46f432",
        "colab": {
          "base_uri": "https://localhost:8080/",
          "height": 424
        }
      },
      "execution_count": 59,
      "outputs": [
        {
          "output_type": "execute_result",
          "data": {
            "text/plain": [
              "     Real  Prediccion\n",
              "0    31.6   26.889574\n",
              "1    40.5   35.805304\n",
              "2    24.3   26.972058\n",
              "3    33.3   35.978722\n",
              "4    31.2   29.406950\n",
              "..    ...         ...\n",
              "226  47.9   35.770454\n",
              "227  35.8   32.392414\n",
              "228  28.6   30.747547\n",
              "229  28.3   37.850799\n",
              "230  52.3   24.464000\n",
              "\n",
              "[231 rows x 2 columns]"
            ],
            "text/html": [
              "\n",
              "  <div id=\"df-17af13ec-13d4-4610-9c31-b37976093641\">\n",
              "    <div class=\"colab-df-container\">\n",
              "      <div>\n",
              "<style scoped>\n",
              "    .dataframe tbody tr th:only-of-type {\n",
              "        vertical-align: middle;\n",
              "    }\n",
              "\n",
              "    .dataframe tbody tr th {\n",
              "        vertical-align: top;\n",
              "    }\n",
              "\n",
              "    .dataframe thead th {\n",
              "        text-align: right;\n",
              "    }\n",
              "</style>\n",
              "<table border=\"1\" class=\"dataframe\">\n",
              "  <thead>\n",
              "    <tr style=\"text-align: right;\">\n",
              "      <th></th>\n",
              "      <th>Real</th>\n",
              "      <th>Prediccion</th>\n",
              "    </tr>\n",
              "  </thead>\n",
              "  <tbody>\n",
              "    <tr>\n",
              "      <th>0</th>\n",
              "      <td>31.6</td>\n",
              "      <td>26.889574</td>\n",
              "    </tr>\n",
              "    <tr>\n",
              "      <th>1</th>\n",
              "      <td>40.5</td>\n",
              "      <td>35.805304</td>\n",
              "    </tr>\n",
              "    <tr>\n",
              "      <th>2</th>\n",
              "      <td>24.3</td>\n",
              "      <td>26.972058</td>\n",
              "    </tr>\n",
              "    <tr>\n",
              "      <th>3</th>\n",
              "      <td>33.3</td>\n",
              "      <td>35.978722</td>\n",
              "    </tr>\n",
              "    <tr>\n",
              "      <th>4</th>\n",
              "      <td>31.2</td>\n",
              "      <td>29.406950</td>\n",
              "    </tr>\n",
              "    <tr>\n",
              "      <th>...</th>\n",
              "      <td>...</td>\n",
              "      <td>...</td>\n",
              "    </tr>\n",
              "    <tr>\n",
              "      <th>226</th>\n",
              "      <td>47.9</td>\n",
              "      <td>35.770454</td>\n",
              "    </tr>\n",
              "    <tr>\n",
              "      <th>227</th>\n",
              "      <td>35.8</td>\n",
              "      <td>32.392414</td>\n",
              "    </tr>\n",
              "    <tr>\n",
              "      <th>228</th>\n",
              "      <td>28.6</td>\n",
              "      <td>30.747547</td>\n",
              "    </tr>\n",
              "    <tr>\n",
              "      <th>229</th>\n",
              "      <td>28.3</td>\n",
              "      <td>37.850799</td>\n",
              "    </tr>\n",
              "    <tr>\n",
              "      <th>230</th>\n",
              "      <td>52.3</td>\n",
              "      <td>24.464000</td>\n",
              "    </tr>\n",
              "  </tbody>\n",
              "</table>\n",
              "<p>231 rows × 2 columns</p>\n",
              "</div>\n",
              "      <button class=\"colab-df-convert\" onclick=\"convertToInteractive('df-17af13ec-13d4-4610-9c31-b37976093641')\"\n",
              "              title=\"Convert this dataframe to an interactive table.\"\n",
              "              style=\"display:none;\">\n",
              "        \n",
              "  <svg xmlns=\"http://www.w3.org/2000/svg\" height=\"24px\"viewBox=\"0 0 24 24\"\n",
              "       width=\"24px\">\n",
              "    <path d=\"M0 0h24v24H0V0z\" fill=\"none\"/>\n",
              "    <path d=\"M18.56 5.44l.94 2.06.94-2.06 2.06-.94-2.06-.94-.94-2.06-.94 2.06-2.06.94zm-11 1L8.5 8.5l.94-2.06 2.06-.94-2.06-.94L8.5 2.5l-.94 2.06-2.06.94zm10 10l.94 2.06.94-2.06 2.06-.94-2.06-.94-.94-2.06-.94 2.06-2.06.94z\"/><path d=\"M17.41 7.96l-1.37-1.37c-.4-.4-.92-.59-1.43-.59-.52 0-1.04.2-1.43.59L10.3 9.45l-7.72 7.72c-.78.78-.78 2.05 0 2.83L4 21.41c.39.39.9.59 1.41.59.51 0 1.02-.2 1.41-.59l7.78-7.78 2.81-2.81c.8-.78.8-2.07 0-2.86zM5.41 20L4 18.59l7.72-7.72 1.47 1.35L5.41 20z\"/>\n",
              "  </svg>\n",
              "      </button>\n",
              "      \n",
              "  <style>\n",
              "    .colab-df-container {\n",
              "      display:flex;\n",
              "      flex-wrap:wrap;\n",
              "      gap: 12px;\n",
              "    }\n",
              "\n",
              "    .colab-df-convert {\n",
              "      background-color: #E8F0FE;\n",
              "      border: none;\n",
              "      border-radius: 50%;\n",
              "      cursor: pointer;\n",
              "      display: none;\n",
              "      fill: #1967D2;\n",
              "      height: 32px;\n",
              "      padding: 0 0 0 0;\n",
              "      width: 32px;\n",
              "    }\n",
              "\n",
              "    .colab-df-convert:hover {\n",
              "      background-color: #E2EBFA;\n",
              "      box-shadow: 0px 1px 2px rgba(60, 64, 67, 0.3), 0px 1px 3px 1px rgba(60, 64, 67, 0.15);\n",
              "      fill: #174EA6;\n",
              "    }\n",
              "\n",
              "    [theme=dark] .colab-df-convert {\n",
              "      background-color: #3B4455;\n",
              "      fill: #D2E3FC;\n",
              "    }\n",
              "\n",
              "    [theme=dark] .colab-df-convert:hover {\n",
              "      background-color: #434B5C;\n",
              "      box-shadow: 0px 1px 3px 1px rgba(0, 0, 0, 0.15);\n",
              "      filter: drop-shadow(0px 1px 2px rgba(0, 0, 0, 0.3));\n",
              "      fill: #FFFFFF;\n",
              "    }\n",
              "  </style>\n",
              "\n",
              "      <script>\n",
              "        const buttonEl =\n",
              "          document.querySelector('#df-17af13ec-13d4-4610-9c31-b37976093641 button.colab-df-convert');\n",
              "        buttonEl.style.display =\n",
              "          google.colab.kernel.accessAllowed ? 'block' : 'none';\n",
              "\n",
              "        async function convertToInteractive(key) {\n",
              "          const element = document.querySelector('#df-17af13ec-13d4-4610-9c31-b37976093641');\n",
              "          const dataTable =\n",
              "            await google.colab.kernel.invokeFunction('convertToInteractive',\n",
              "                                                     [key], {});\n",
              "          if (!dataTable) return;\n",
              "\n",
              "          const docLinkHtml = 'Like what you see? Visit the ' +\n",
              "            '<a target=\"_blank\" href=https://colab.research.google.com/notebooks/data_table.ipynb>data table notebook</a>'\n",
              "            + ' to learn more about interactive tables.';\n",
              "          element.innerHTML = '';\n",
              "          dataTable['output_type'] = 'display_data';\n",
              "          await google.colab.output.renderOutput(dataTable, element);\n",
              "          const docLink = document.createElement('div');\n",
              "          docLink.innerHTML = docLinkHtml;\n",
              "          element.appendChild(docLink);\n",
              "        }\n",
              "      </script>\n",
              "    </div>\n",
              "  </div>\n",
              "  "
            ]
          },
          "metadata": {},
          "execution_count": 59
        }
      ]
    },
    {
      "cell_type": "code",
      "source": [
        "grafo = dfinfo.head(25)\n",
        "grafo.plot(kind='barh',figsize=(10,8))\n",
        "plt.grid(which='major', linestyle='-', linewidth='0.5', color='green')\n",
        "plt.grid(which='minor', linestyle=':', linewidth='0.5', color='black')\n",
        "plt.show()"
      ],
      "metadata": {
        "id": "PsrR-PKMxwqU",
        "outputId": "133d2375-d44b-496b-a1d4-f8f76682aaf9",
        "colab": {
          "base_uri": "https://localhost:8080/",
          "height": 483
        }
      },
      "execution_count": 61,
      "outputs": [
        {
          "output_type": "display_data",
          "data": {
            "text/plain": [
              "<Figure size 720x576 with 1 Axes>"
            ],
            "image/png": "[encoded data removed]"
          },
          "metadata": {
            "needs_background": "light"
          }
        }
      ]
    },
    {
      "cell_type": "markdown",
      "source": [
        "Codigo para obtener el R cuadrado (R^2), despues de realizado el ajuste sobre los datos de entrenamiento"
      ],
      "metadata": {
        "id": "ALYke4fXQ8hi"
      }
    },
    {
      "cell_type": "code",
      "source": [
        "train_score = reg.score(X_train_processed, y_train)\n",
        "print(train_score)"
      ],
      "metadata": {
        "id": "WDu0ApaEQxQB",
        "outputId": "195be5ff-0a83-42bf-eaae-45d775bbb82d",
        "colab": {
          "base_uri": "https://localhost:8080/"
        }
      },
      "execution_count": 50,
      "outputs": [
        {
          "output_type": "stream",
          "name": "stdout",
          "text": [
            "0.2727405655214459\n"
          ]
        }
      ]
    },
    {
      "cell_type": "markdown",
      "source": [
        "Codigo para obtener el R cuadrado (R^2), despues de realizado el ajuste sobre los datos de prueba"
      ],
      "metadata": {
        "id": "NxuhntFgSdMr"
      }
    },
    {
      "cell_type": "code",
      "source": [
        "test_score = reg.score(X_test_processed,y_test) # Este valor sale negativo no esta claro el porque\n",
        "print(test_score)"
      ],
      "metadata": {
        "id": "c64Sq6iSQ_Rs",
        "outputId": "99f0f3ee-b81d-4031-ea51-f2e1c630f2f6",
        "colab": {
          "base_uri": "https://localhost:8080/"
        }
      },
      "execution_count": 51,
      "outputs": [
        {
          "output_type": "stream",
          "name": "stdout",
          "text": [
            "0.2503867137537683\n"
          ]
        }
      ]
    },
    {
      "cell_type": "code",
      "source": [],
      "metadata": {
        "id": "KLbwu0n4t8fV"
      },
      "execution_count": null,
      "outputs": []
    },
    {
      "cell_type": "markdown",
      "source": [
        "Codigo para obtener las predicciones de los datos de Entrenamiento y prueba"
      ],
      "metadata": {
        "id": "lDnnH68Rt7lF"
      }
    },
    {
      "cell_type": "code",
      "source": [
        "# Obtengan las predicciones del conjunto de entrenamiento\n",
        "train_preds = reg.predict(X_train_processed)\n",
        "# Obtengan las predicciones del conjunto de prueba\n",
        "test_preds = reg.predict(X_test_processed)"
      ],
      "metadata": {
        "id": "ZA8HfRJsofUI"
      },
      "execution_count": 52,
      "outputs": []
    },
    {
      "cell_type": "markdown",
      "source": [
        "Error absoluto medio (EAM)"
      ],
      "metadata": {
        "id": "fFeYzWMaTtfn"
      }
    },
    {
      "cell_type": "code",
      "source": [
        "mae_train = mean_absolute_error(y_train, train_preds) # Como se interpretan estos valores?\n",
        "mae_test = mean_absolute_error(y_test, test_preds)    # Como se interpretan estos valores?\n",
        "print(mae_train)\n",
        "print(mae_test)"
      ],
      "metadata": {
        "id": "45xeVlVwTv3v",
        "outputId": "0fc5778a-b50d-4d33-c633-7d74efac6908",
        "colab": {
          "base_uri": "https://localhost:8080/"
        }
      },
      "execution_count": 53,
      "outputs": [
        {
          "output_type": "stream",
          "name": "stdout",
          "text": [
            "5.030440195050508\n",
            "5.030191778577065\n"
          ]
        }
      ]
    },
    {
      "cell_type": "markdown",
      "source": [
        "Error cuadratico medio (ECM)"
      ],
      "metadata": {
        "id": "vFBFK5xiUKIi"
      }
    },
    {
      "cell_type": "code",
      "source": [
        "mse_train = mean_squared_error(y_train, train_preds) # Como se interpretan estos valores?\n",
        "mse_test = mean_squared_error(y_test, test_preds)    # Como se interpretan estos valores?\n",
        "print(mse_train)\n",
        "print(mse_test)"
      ],
      "metadata": {
        "id": "Mg68nPoZT9bT",
        "outputId": "78888443-453a-49f0-9357-7697a026c66e",
        "colab": {
          "base_uri": "https://localhost:8080/"
        }
      },
      "execution_count": 54,
      "outputs": [
        {
          "output_type": "stream",
          "name": "stdout",
          "text": [
            "45.365583125750796\n",
            "46.0120431716701\n"
          ]
        }
      ]
    },
    {
      "cell_type": "markdown",
      "source": [
        "Raiz del error cuadratico medio (RECM)"
      ],
      "metadata": {
        "id": "Tr2ON8q3uOyE"
      }
    },
    {
      "cell_type": "code",
      "source": [
        "rmse_train = np.sqrt(mean_squared_error(y_train, train_preds)) # Como se interpretan estos valores?\n",
        "rmse_test = np.sqrt(mean_squared_error(y_test, test_preds))    # Como se interpretan estos valores?\n",
        "print(rmse_train)\n",
        "print(rmse_test)"
      ],
      "metadata": {
        "id": "X-6ebLzRUSwH",
        "outputId": "ed3a0296-2df8-43c4-cab1-e44eb26bb9ec",
        "colab": {
          "base_uri": "https://localhost:8080/"
        }
      },
      "execution_count": 55,
      "outputs": [
        {
          "output_type": "stream",
          "name": "stdout",
          "text": [
            "6.735397770417928\n",
            "6.783217759416994\n"
          ]
        }
      ]
    }
  ]
}