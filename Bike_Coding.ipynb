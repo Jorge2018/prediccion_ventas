{
  "nbformat": 4,
  "nbformat_minor": 0,
  "metadata": {
    "colab": {
      "name": "Untitled7.ipynb",
      "provenance": [],
      "authorship_tag": "ABX9TyP3e2OtTFrjh+eksSiwsh8x",
      "include_colab_link": true
    },
    "kernelspec": {
      "name": "python3",
      "display_name": "Python 3"
    },
    "language_info": {
      "name": "python"
    }
  },
  "cells": [
    {
      "cell_type": "markdown",
      "metadata": {
        "id": "view-in-github",
        "colab_type": "text"
      },
      "source": [
        "<a href=\"https://colab.research.google.com/github/Jorge2018/prediccion_ventas/blob/main/Bike_Coding.ipynb\" target=\"_parent\"><img src=\"https://colab.research.google.com/assets/colab-badge.svg\" alt=\"Open In Colab\"/></a>"
      ]
    },
    {
      "cell_type": "code",
      "execution_count": null,
      "metadata": {
        "id": "aeKvv4XJ7zDF"
      },
      "outputs": [],
      "source": [
        "from google.colab import drive\n",
        "drive.mount('/content/drive')\n",
        "import pandas as pd\n",
        "bike_df= pd.read_excel(r'/content/RailsToTrails_National Count Data_week.xlsx')\n",
        "bike_df = bike_df.drop(columns=['Unnamed: 7', 'Unnamed: 8', 'Unnamed: 9']) # Eliminacion de columnas innecesarias\n",
        "bike_df.rename(columns=lambda x:x.replace('Unnamed: 6','percent_change'),inplace=True) # renombra columna 'Unnamed: 6'\n",
        "bike_df.isna().sum() # identificacion de valores faltantes\n",
        "bike_df['2021 Counts'] = bike_df['2021 Counts'] .fillna(0) # reemplaza valores faltantes por 0\n",
        "bike_df.rename(columns=lambda x:x.replace('2019 counts (31 counters)','counts_2019'),inplace=True) # renombra columna '2019 counts (31 counters)'\n",
        "bike_df"
      ]
    }
  ]
}