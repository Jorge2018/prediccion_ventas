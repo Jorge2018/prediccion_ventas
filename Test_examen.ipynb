{
  "nbformat": 4,
  "nbformat_minor": 0,
  "metadata": {
    "colab": {
      "name": "Untitled0.ipynb",
      "provenance": [],
      "collapsed_sections": [],
      "authorship_tag": "ABX9TyOqGTpkDwuweTLbkYy4pJeV",
      "include_colab_link": true
    },
    "kernelspec": {
      "name": "python3",
      "display_name": "Python 3"
    },
    "language_info": {
      "name": "python"
    }
  },
  "cells": [
    {
      "cell_type": "markdown",
      "metadata": {
        "id": "view-in-github",
        "colab_type": "text"
      },
      "source": [
        "<a href=\"https://colab.research.google.com/github/Jorge2018/prediccion_ventas/blob/main/Test_examen.ipynb\" target=\"_parent\"><img src=\"https://colab.research.google.com/assets/colab-badge.svg\" alt=\"Open In Colab\"/></a>"
      ]
    },
    {
      "cell_type": "code",
      "execution_count": 31,
      "metadata": {
        "colab": {
          "base_uri": "https://localhost:8080/",
          "height": 206
        },
        "id": "WvyjrBTEIuwY",
        "outputId": "9d73e165-8ccd-4ee6-87ae-566d58eeaa58"
      },
      "outputs": [
        {
          "output_type": "execute_result",
          "data": {
            "text/plain": [
              "  Species  Weight  Length1  Length2  Length3   Height   Width\n",
              "0   Bream   242.0     23.2     25.4     30.0  11.5200  4.0200\n",
              "1   Bream   290.0     24.0     26.3     31.2  12.4800  4.3056\n",
              "2   Bream   340.0     23.9     26.5     31.1  12.3778  4.6961\n",
              "3   Bream   363.0     26.3     29.0     33.5  12.7300  4.4555\n",
              "4   Bream   430.0     26.5     29.0     34.0  12.4440  5.1340"
            ],
            "text/html": [
              "\n",
              "  <div id=\"df-7e01f28c-7172-46e5-8822-225e71627d7f\">\n",
              "    <div class=\"colab-df-container\">\n",
              "      <div>\n",
              "<style scoped>\n",
              "    .dataframe tbody tr th:only-of-type {\n",
              "        vertical-align: middle;\n",
              "    }\n",
              "\n",
              "    .dataframe tbody tr th {\n",
              "        vertical-align: top;\n",
              "    }\n",
              "\n",
              "    .dataframe thead th {\n",
              "        text-align: right;\n",
              "    }\n",
              "</style>\n",
              "<table border=\"1\" class=\"dataframe\">\n",
              "  <thead>\n",
              "    <tr style=\"text-align: right;\">\n",
              "      <th></th>\n",
              "      <th>Species</th>\n",
              "      <th>Weight</th>\n",
              "      <th>Length1</th>\n",
              "      <th>Length2</th>\n",
              "      <th>Length3</th>\n",
              "      <th>Height</th>\n",
              "      <th>Width</th>\n",
              "    </tr>\n",
              "  </thead>\n",
              "  <tbody>\n",
              "    <tr>\n",
              "      <th>0</th>\n",
              "      <td>Bream</td>\n",
              "      <td>242.0</td>\n",
              "      <td>23.2</td>\n",
              "      <td>25.4</td>\n",
              "      <td>30.0</td>\n",
              "      <td>11.5200</td>\n",
              "      <td>4.0200</td>\n",
              "    </tr>\n",
              "    <tr>\n",
              "      <th>1</th>\n",
              "      <td>Bream</td>\n",
              "      <td>290.0</td>\n",
              "      <td>24.0</td>\n",
              "      <td>26.3</td>\n",
              "      <td>31.2</td>\n",
              "      <td>12.4800</td>\n",
              "      <td>4.3056</td>\n",
              "    </tr>\n",
              "    <tr>\n",
              "      <th>2</th>\n",
              "      <td>Bream</td>\n",
              "      <td>340.0</td>\n",
              "      <td>23.9</td>\n",
              "      <td>26.5</td>\n",
              "      <td>31.1</td>\n",
              "      <td>12.3778</td>\n",
              "      <td>4.6961</td>\n",
              "    </tr>\n",
              "    <tr>\n",
              "      <th>3</th>\n",
              "      <td>Bream</td>\n",
              "      <td>363.0</td>\n",
              "      <td>26.3</td>\n",
              "      <td>29.0</td>\n",
              "      <td>33.5</td>\n",
              "      <td>12.7300</td>\n",
              "      <td>4.4555</td>\n",
              "    </tr>\n",
              "    <tr>\n",
              "      <th>4</th>\n",
              "      <td>Bream</td>\n",
              "      <td>430.0</td>\n",
              "      <td>26.5</td>\n",
              "      <td>29.0</td>\n",
              "      <td>34.0</td>\n",
              "      <td>12.4440</td>\n",
              "      <td>5.1340</td>\n",
              "    </tr>\n",
              "  </tbody>\n",
              "</table>\n",
              "</div>\n",
              "      <button class=\"colab-df-convert\" onclick=\"convertToInteractive('df-7e01f28c-7172-46e5-8822-225e71627d7f')\"\n",
              "              title=\"Convert this dataframe to an interactive table.\"\n",
              "              style=\"display:none;\">\n",
              "        \n",
              "  <svg xmlns=\"http://www.w3.org/2000/svg\" height=\"24px\"viewBox=\"0 0 24 24\"\n",
              "       width=\"24px\">\n",
              "    <path d=\"M0 0h24v24H0V0z\" fill=\"none\"/>\n",
              "    <path d=\"M18.56 5.44l.94 2.06.94-2.06 2.06-.94-2.06-.94-.94-2.06-.94 2.06-2.06.94zm-11 1L8.5 8.5l.94-2.06 2.06-.94-2.06-.94L8.5 2.5l-.94 2.06-2.06.94zm10 10l.94 2.06.94-2.06 2.06-.94-2.06-.94-.94-2.06-.94 2.06-2.06.94z\"/><path d=\"M17.41 7.96l-1.37-1.37c-.4-.4-.92-.59-1.43-.59-.52 0-1.04.2-1.43.59L10.3 9.45l-7.72 7.72c-.78.78-.78 2.05 0 2.83L4 21.41c.39.39.9.59 1.41.59.51 0 1.02-.2 1.41-.59l7.78-7.78 2.81-2.81c.8-.78.8-2.07 0-2.86zM5.41 20L4 18.59l7.72-7.72 1.47 1.35L5.41 20z\"/>\n",
              "  </svg>\n",
              "      </button>\n",
              "      \n",
              "  <style>\n",
              "    .colab-df-container {\n",
              "      display:flex;\n",
              "      flex-wrap:wrap;\n",
              "      gap: 12px;\n",
              "    }\n",
              "\n",
              "    .colab-df-convert {\n",
              "      background-color: #E8F0FE;\n",
              "      border: none;\n",
              "      border-radius: 50%;\n",
              "      cursor: pointer;\n",
              "      display: none;\n",
              "      fill: #1967D2;\n",
              "      height: 32px;\n",
              "      padding: 0 0 0 0;\n",
              "      width: 32px;\n",
              "    }\n",
              "\n",
              "    .colab-df-convert:hover {\n",
              "      background-color: #E2EBFA;\n",
              "      box-shadow: 0px 1px 2px rgba(60, 64, 67, 0.3), 0px 1px 3px 1px rgba(60, 64, 67, 0.15);\n",
              "      fill: #174EA6;\n",
              "    }\n",
              "\n",
              "    [theme=dark] .colab-df-convert {\n",
              "      background-color: #3B4455;\n",
              "      fill: #D2E3FC;\n",
              "    }\n",
              "\n",
              "    [theme=dark] .colab-df-convert:hover {\n",
              "      background-color: #434B5C;\n",
              "      box-shadow: 0px 1px 3px 1px rgba(0, 0, 0, 0.15);\n",
              "      filter: drop-shadow(0px 1px 2px rgba(0, 0, 0, 0.3));\n",
              "      fill: #FFFFFF;\n",
              "    }\n",
              "  </style>\n",
              "\n",
              "      <script>\n",
              "        const buttonEl =\n",
              "          document.querySelector('#df-7e01f28c-7172-46e5-8822-225e71627d7f button.colab-df-convert');\n",
              "        buttonEl.style.display =\n",
              "          google.colab.kernel.accessAllowed ? 'block' : 'none';\n",
              "\n",
              "        async function convertToInteractive(key) {\n",
              "          const element = document.querySelector('#df-7e01f28c-7172-46e5-8822-225e71627d7f');\n",
              "          const dataTable =\n",
              "            await google.colab.kernel.invokeFunction('convertToInteractive',\n",
              "                                                     [key], {});\n",
              "          if (!dataTable) return;\n",
              "\n",
              "          const docLinkHtml = 'Like what you see? Visit the ' +\n",
              "            '<a target=\"_blank\" href=https://colab.research.google.com/notebooks/data_table.ipynb>data table notebook</a>'\n",
              "            + ' to learn more about interactive tables.';\n",
              "          element.innerHTML = '';\n",
              "          dataTable['output_type'] = 'display_data';\n",
              "          await google.colab.output.renderOutput(dataTable, element);\n",
              "          const docLink = document.createElement('div');\n",
              "          docLink.innerHTML = docLinkHtml;\n",
              "          element.appendChild(docLink);\n",
              "        }\n",
              "      </script>\n",
              "    </div>\n",
              "  </div>\n",
              "  "
            ]
          },
          "metadata": {},
          "execution_count": 31
        }
      ],
      "source": [
        "\n",
        "\n",
        "########### Codigo lee archivo excel desde github\n",
        "import pandas as pd\n",
        "import numpy as np\n",
        "from pandas import DataFrame\n",
        "import re\n",
        "import requests\n",
        "import matplotlib.pyplot as plt\n",
        "from sklearn.preprocessing import OrdinalEncoder\n",
        "from sklearn.preprocessing import OneHotEncoder, StandardScaler\n",
        "from sklearn.impute import SimpleImputer\n",
        "from sklearn.compose import make_column_selector, make_column_transformer\n",
        "from sklearn.preprocessing import StandardScaler\n",
        "from sklearn.model_selection import train_test_split\n",
        "from sklearn import set_config\n",
        "from sklearn.pipeline import make_pipeline\n",
        "from sklearn.linear_model import LinearRegression\n",
        "from sklearn.metrics import mean_absolute_error, mean_squared_error\n",
        "from sklearn.tree import DecisionTreeRegressor\n",
        "set_config(display='diagram')\n",
        "\n",
        "\n",
        "url = \"https://github.com/Jorge2018/RepositorioArchivos/blob/main/Fish.xlsx?raw=true\"\n",
        "\n",
        "response = requests.get(url)\n",
        "\n",
        "dest = 'local-file.xlsx'\n",
        "\n",
        "with open(dest, 'wb') as file:\n",
        "    file.write(response.content)\n",
        "\n",
        "df = pd.read_excel(dest)\n",
        "\n",
        "df.head()\n",
        "\n"
      ]
    },
    {
      "cell_type": "code",
      "source": [
        "df.to_csv('Revision'+'.csv', index = False)"
      ],
      "metadata": {
        "id": "V_XfxxYt1ePZ"
      },
      "execution_count": 70,
      "outputs": []
    },
    {
      "cell_type": "markdown",
      "source": [
        "**Inspeccion de datos**"
      ],
      "metadata": {
        "id": "iXN52et3LHxg"
      }
    },
    {
      "cell_type": "code",
      "source": [
        "df.duplicated()\n",
        "df = df.drop_duplicates()\n",
        "print('la cantidad de registros sin duplicados es:\\n',df.count())\n",
        "print('---------------------------')\n",
        "print('los datos faltantes del df son:\\n',df.isna().sum())\n",
        "print('---------------------------')\n",
        "df.describe"
      ],
      "metadata": {
        "id": "VxBwWistQIMa",
        "outputId": "c68d9e42-8a69-4fa1-c5ea-178ae0c3dad0",
        "colab": {
          "base_uri": "https://localhost:8080/"
        }
      },
      "execution_count": 12,
      "outputs": [
        {
          "output_type": "stream",
          "name": "stdout",
          "text": [
            "la cantidad de registros sin duplicados es:\n",
            " Species    155\n",
            "Weight     159\n",
            "Length1    157\n",
            "Length2    157\n",
            "Length3    150\n",
            "Height     156\n",
            "Width      157\n",
            "dtype: int64\n",
            "---------------------------\n",
            "los datos faltantes del df son:\n",
            " Species    4\n",
            "Weight     0\n",
            "Length1    2\n",
            "Length2    2\n",
            "Length3    9\n",
            "Height     3\n",
            "Width      2\n",
            "dtype: int64\n",
            "---------------------------\n"
          ]
        },
        {
          "output_type": "execute_result",
          "data": {
            "text/plain": [
              "<bound method NDFrame.describe of     Species  Weight  Length1  Length2  Length3   Height   Width\n",
              "0     Bream   242.0     23.2     25.4     30.0  11.5200  4.0200\n",
              "1     Bream   290.0     24.0     26.3     31.2  12.4800  4.3056\n",
              "2     Bream   340.0     23.9     26.5     31.1  12.3778  4.6961\n",
              "3     Bream   363.0     26.3     29.0     33.5  12.7300  4.4555\n",
              "4     Bream   430.0     26.5     29.0     34.0  12.4440  5.1340\n",
              "..      ...     ...      ...      ...      ...      ...     ...\n",
              "154   Smelt    12.2     11.5     12.2     13.4   2.0904  1.3936\n",
              "155   Smelt    13.4     11.7     12.4     13.5   2.4300  1.2690\n",
              "156   Smelt    12.2     12.1     13.0     13.8   2.2770  1.2558\n",
              "157   Smelt    19.7     13.2     14.3     15.2   2.8728  2.0672\n",
              "158   Smelt    19.9     13.8     15.0      NaN   2.9322  1.8792\n",
              "\n",
              "[159 rows x 7 columns]>"
            ]
          },
          "metadata": {},
          "execution_count": 12
        }
      ]
    },
    {
      "cell_type": "markdown",
      "source": [
        "**Separa valores en X, y**"
      ],
      "metadata": {
        "id": "g6jERu2uLPAf"
      }
    },
    {
      "cell_type": "code",
      "source": [
        "# Dividan\n",
        "X = df.drop('Weight', axis=1)\n",
        "y = df['Weight']\n",
        "X_train, X_test, y_train, y_test = train_test_split(X, y, test_size=0.2, random_state=46)"
      ],
      "metadata": {
        "id": "NlLCQp6FHJUD"
      },
      "execution_count": 58,
      "outputs": []
    },
    {
      "cell_type": "markdown",
      "source": [
        "# Proceso para realizar transformaciones al df"
      ],
      "metadata": {
        "id": "OchnpLyhLWOl"
      }
    },
    {
      "cell_type": "code",
      "source": [
        "## **Instanciar selectores**\n",
        "cat_selector = make_column_selector(dtype_include='object')\n",
        "num_selector = make_column_selector(dtype_include='number')\n",
        "\n",
        "## Instanciar transformadores SimpleImputer, StandardScaler y OneHotEncoder\n",
        "# Imputers\n",
        "mean_imputer = SimpleImputer(strategy='mean')\n",
        "freq_imputer = SimpleImputer(strategy='most_frequent')\n",
        "# Scaler\n",
        "scaler = StandardScaler()\n",
        "# One-hot encoder\n",
        "ohe = OneHotEncoder(handle_unknown='ignore', sparse=False)\n",
        "\n",
        "## **Instanciar el pipeline**\n",
        "numeric_pipe = make_pipeline(mean_imputer, scaler)\n",
        "categorical_pipe = make_pipeline(freq_imputer, ohe)\n",
        "\n",
        "## **Asignacion de tupla e instanciacion de ColumnTransformer**\n",
        "number_tuple = (numeric_pipe, num_selector)\n",
        "category_tuple = (categorical_pipe, cat_selector)\n",
        "# ColumnTransformer\n",
        "preprocessor = make_column_transformer(number_tuple, category_tuple)\n",
        "\n",
        "## **Transformacion de datos**\n",
        "# fit on train\n",
        "preprocessor.fit(X_train,X_test)\n",
        "# transform train and test\n",
        "X_train_processed = preprocessor.transform(X_train)\n",
        "X_test_processed = preprocessor.transform(X_test)\n"
      ],
      "metadata": {
        "id": "yN5a-IkOHvTz"
      },
      "execution_count": 59,
      "outputs": []
    },
    {
      "cell_type": "markdown",
      "source": [
        "**Inspeccion de resultados**"
      ],
      "metadata": {
        "id": "a3OK5Y4UMFHn"
      }
    },
    {
      "cell_type": "code",
      "source": [
        "# Comprueben los valores faltantes y que los datos se escalen y tengan una codificación one-hot\n",
        "print(np.isnan(X_train_processed).sum().sum(), 'valores perdidos en la data de entrenamiento')\n",
        "print(np.isnan(X_test_processed).sum().sum(), 'valores perdidos en la data de prueba')\n",
        "print('\\n')\n",
        "print('Todos los datos procesados del X_train_processed son del tipo:', X_train_processed.dtype)\n",
        "print('Todos los datos procesados del X_test_processed son del tipo', X_test_processed.dtype)\n",
        "print('\\n')\n",
        "print('shape de los datos de entrenamiento son', X_train_processed.shape)\n",
        "print('\\n')\n",
        "print('shape de los datos de test son', X_test_processed.shape)\n"
      ],
      "metadata": {
        "id": "HMEGFo5gK6Ai",
        "outputId": "a9e9d025-73c4-4128-e7df-37b3efdf5607",
        "colab": {
          "base_uri": "https://localhost:8080/"
        }
      },
      "execution_count": 60,
      "outputs": [
        {
          "output_type": "stream",
          "name": "stdout",
          "text": [
            "0 valores perdidos en la data de entrenamiento\n",
            "0 valores perdidos en la data de prueba\n",
            "\n",
            "\n",
            "Todos los datos procesados del X_train_processed son del tipo: float64\n",
            "Todos los datos procesados del X_test_processed son del tipo float64\n",
            "\n",
            "\n",
            "shape de los datos de entrenamiento son (127, 13)\n",
            "\n",
            "\n",
            "shape de los datos de test son (32, 13)\n"
          ]
        }
      ]
    },
    {
      "cell_type": "markdown",
      "source": [
        "**Instancia y proceso del modelo**"
      ],
      "metadata": {
        "id": "d-DxdWsNQo7D"
      }
    },
    {
      "cell_type": "code",
      "source": [
        "reg = LinearRegression()\n",
        "reg.fit(X_train_processed,y_train)\n",
        "print('El bias calculado es', reg.intercept_)\n",
        "print('La pendiente calculada es: ', reg.coef_)\n",
        "print('\\n')\n",
        "print(f'Esto significa que por cada {reg.intercept_} unidad de Weight, el cambio en la pendiente de cada una de sus caracteristicas seran los valores que nos retorna el coef.')"
      ],
      "metadata": {
        "id": "1IbEWN96PeKe",
        "outputId": "3c84eae5-86d0-4230-bdd0-4dc8e0a0a723",
        "colab": {
          "base_uri": "https://localhost:8080/"
        }
      },
      "execution_count": 61,
      "outputs": [
        {
          "output_type": "stream",
          "name": "stdout",
          "text": [
            "El bias calculado es 436.16247321483877\n",
            "La pendiente calculada es:  [ 304.27962378  -25.32777769   22.17852406   62.94180057   84.07453362\n",
            "  -49.12385116  -55.14755639   15.74647051  -18.1100331  -124.93741077\n",
            "  -31.4282823   288.49787796  -25.49721474]\n",
            "\n",
            "\n",
            "Esto significa que por cada 436.16247321483877 unidad de Weight, el cambio en la pendiente de cada una de sus caracteristicas seran los valores que nos retorna el coef.\n"
          ]
        }
      ]
    },
    {
      "cell_type": "markdown",
      "source": [
        "Comparativa entre valor real y la prediccion realizada "
      ],
      "metadata": {
        "id": "fJpPw70mxL29"
      }
    },
    {
      "cell_type": "code",
      "source": [
        "y_pred = reg.predict(X_test_processed)\n",
        "dfinfo = pd.DataFrame({'Real': y_test.values.flatten(), 'Prediccion': y_pred.flatten()})\n",
        "dfinfo"
      ],
      "metadata": {
        "colab": {
          "base_uri": "https://localhost:8080/",
          "height": 1000
        },
        "id": "_dV5VtbawjSw",
        "outputId": "824d0098-97ae-4fd5-86ea-ac4812ef0d5f"
      },
      "execution_count": 62,
      "outputs": [
        {
          "output_type": "execute_result",
          "data": {
            "text/plain": [
              "     Real  Prediccion\n",
              "0   120.0   89.054399\n",
              "1   700.0  693.585439\n",
              "2   850.0  878.924585\n",
              "3   130.0  112.358926\n",
              "4   714.0  733.451192\n",
              "5   169.0  243.847978\n",
              "6   430.0  457.740725\n",
              "7    78.0    0.859639\n",
              "8   130.0  143.842842\n",
              "9    19.7  118.460336\n",
              "10   12.2   38.701006\n",
              "11  450.0  499.161054\n",
              "12  700.0  745.225917\n",
              "13   40.0 -107.289679\n",
              "14  150.0  149.108846\n",
              "15  120.0  121.356304\n",
              "16  110.0  142.097631\n",
              "17  180.0  255.007835\n",
              "18  130.0  128.285091\n",
              "19  150.0  147.379583\n",
              "20  514.0  610.512149\n",
              "21  700.0  526.428770\n",
              "22  100.0   -5.771818\n",
              "23  500.0  743.185233\n",
              "24  500.0  535.453397\n",
              "25  150.0  135.619939\n",
              "26   51.5  -83.199947\n",
              "27  475.0  509.563538\n",
              "28  250.0  357.649459\n",
              "29  320.0  437.483673\n",
              "30  110.0   85.112268\n",
              "31  135.0  124.820697"
            ],
            "text/html": [
              "\n",
              "  <div id=\"df-a012fa58-59f1-4d7c-8025-4c02628cd146\">\n",
              "    <div class=\"colab-df-container\">\n",
              "      <div>\n",
              "<style scoped>\n",
              "    .dataframe tbody tr th:only-of-type {\n",
              "        vertical-align: middle;\n",
              "    }\n",
              "\n",
              "    .dataframe tbody tr th {\n",
              "        vertical-align: top;\n",
              "    }\n",
              "\n",
              "    .dataframe thead th {\n",
              "        text-align: right;\n",
              "    }\n",
              "</style>\n",
              "<table border=\"1\" class=\"dataframe\">\n",
              "  <thead>\n",
              "    <tr style=\"text-align: right;\">\n",
              "      <th></th>\n",
              "      <th>Real</th>\n",
              "      <th>Prediccion</th>\n",
              "    </tr>\n",
              "  </thead>\n",
              "  <tbody>\n",
              "    <tr>\n",
              "      <th>0</th>\n",
              "      <td>120.0</td>\n",
              "      <td>89.054399</td>\n",
              "    </tr>\n",
              "    <tr>\n",
              "      <th>1</th>\n",
              "      <td>700.0</td>\n",
              "      <td>693.585439</td>\n",
              "    </tr>\n",
              "    <tr>\n",
              "      <th>2</th>\n",
              "      <td>850.0</td>\n",
              "      <td>878.924585</td>\n",
              "    </tr>\n",
              "    <tr>\n",
              "      <th>3</th>\n",
              "      <td>130.0</td>\n",
              "      <td>112.358926</td>\n",
              "    </tr>\n",
              "    <tr>\n",
              "      <th>4</th>\n",
              "      <td>714.0</td>\n",
              "      <td>733.451192</td>\n",
              "    </tr>\n",
              "    <tr>\n",
              "      <th>5</th>\n",
              "      <td>169.0</td>\n",
              "      <td>243.847978</td>\n",
              "    </tr>\n",
              "    <tr>\n",
              "      <th>6</th>\n",
              "      <td>430.0</td>\n",
              "      <td>457.740725</td>\n",
              "    </tr>\n",
              "    <tr>\n",
              "      <th>7</th>\n",
              "      <td>78.0</td>\n",
              "      <td>0.859639</td>\n",
              "    </tr>\n",
              "    <tr>\n",
              "      <th>8</th>\n",
              "      <td>130.0</td>\n",
              "      <td>143.842842</td>\n",
              "    </tr>\n",
              "    <tr>\n",
              "      <th>9</th>\n",
              "      <td>19.7</td>\n",
              "      <td>118.460336</td>\n",
              "    </tr>\n",
              "    <tr>\n",
              "      <th>10</th>\n",
              "      <td>12.2</td>\n",
              "      <td>38.701006</td>\n",
              "    </tr>\n",
              "    <tr>\n",
              "      <th>11</th>\n",
              "      <td>450.0</td>\n",
              "      <td>499.161054</td>\n",
              "    </tr>\n",
              "    <tr>\n",
              "      <th>12</th>\n",
              "      <td>700.0</td>\n",
              "      <td>745.225917</td>\n",
              "    </tr>\n",
              "    <tr>\n",
              "      <th>13</th>\n",
              "      <td>40.0</td>\n",
              "      <td>-107.289679</td>\n",
              "    </tr>\n",
              "    <tr>\n",
              "      <th>14</th>\n",
              "      <td>150.0</td>\n",
              "      <td>149.108846</td>\n",
              "    </tr>\n",
              "    <tr>\n",
              "      <th>15</th>\n",
              "      <td>120.0</td>\n",
              "      <td>121.356304</td>\n",
              "    </tr>\n",
              "    <tr>\n",
              "      <th>16</th>\n",
              "      <td>110.0</td>\n",
              "      <td>142.097631</td>\n",
              "    </tr>\n",
              "    <tr>\n",
              "      <th>17</th>\n",
              "      <td>180.0</td>\n",
              "      <td>255.007835</td>\n",
              "    </tr>\n",
              "    <tr>\n",
              "      <th>18</th>\n",
              "      <td>130.0</td>\n",
              "      <td>128.285091</td>\n",
              "    </tr>\n",
              "    <tr>\n",
              "      <th>19</th>\n",
              "      <td>150.0</td>\n",
              "      <td>147.379583</td>\n",
              "    </tr>\n",
              "    <tr>\n",
              "      <th>20</th>\n",
              "      <td>514.0</td>\n",
              "      <td>610.512149</td>\n",
              "    </tr>\n",
              "    <tr>\n",
              "      <th>21</th>\n",
              "      <td>700.0</td>\n",
              "      <td>526.428770</td>\n",
              "    </tr>\n",
              "    <tr>\n",
              "      <th>22</th>\n",
              "      <td>100.0</td>\n",
              "      <td>-5.771818</td>\n",
              "    </tr>\n",
              "    <tr>\n",
              "      <th>23</th>\n",
              "      <td>500.0</td>\n",
              "      <td>743.185233</td>\n",
              "    </tr>\n",
              "    <tr>\n",
              "      <th>24</th>\n",
              "      <td>500.0</td>\n",
              "      <td>535.453397</td>\n",
              "    </tr>\n",
              "    <tr>\n",
              "      <th>25</th>\n",
              "      <td>150.0</td>\n",
              "      <td>135.619939</td>\n",
              "    </tr>\n",
              "    <tr>\n",
              "      <th>26</th>\n",
              "      <td>51.5</td>\n",
              "      <td>-83.199947</td>\n",
              "    </tr>\n",
              "    <tr>\n",
              "      <th>27</th>\n",
              "      <td>475.0</td>\n",
              "      <td>509.563538</td>\n",
              "    </tr>\n",
              "    <tr>\n",
              "      <th>28</th>\n",
              "      <td>250.0</td>\n",
              "      <td>357.649459</td>\n",
              "    </tr>\n",
              "    <tr>\n",
              "      <th>29</th>\n",
              "      <td>320.0</td>\n",
              "      <td>437.483673</td>\n",
              "    </tr>\n",
              "    <tr>\n",
              "      <th>30</th>\n",
              "      <td>110.0</td>\n",
              "      <td>85.112268</td>\n",
              "    </tr>\n",
              "    <tr>\n",
              "      <th>31</th>\n",
              "      <td>135.0</td>\n",
              "      <td>124.820697</td>\n",
              "    </tr>\n",
              "  </tbody>\n",
              "</table>\n",
              "</div>\n",
              "      <button class=\"colab-df-convert\" onclick=\"convertToInteractive('df-a012fa58-59f1-4d7c-8025-4c02628cd146')\"\n",
              "              title=\"Convert this dataframe to an interactive table.\"\n",
              "              style=\"display:none;\">\n",
              "        \n",
              "  <svg xmlns=\"http://www.w3.org/2000/svg\" height=\"24px\"viewBox=\"0 0 24 24\"\n",
              "       width=\"24px\">\n",
              "    <path d=\"M0 0h24v24H0V0z\" fill=\"none\"/>\n",
              "    <path d=\"M18.56 5.44l.94 2.06.94-2.06 2.06-.94-2.06-.94-.94-2.06-.94 2.06-2.06.94zm-11 1L8.5 8.5l.94-2.06 2.06-.94-2.06-.94L8.5 2.5l-.94 2.06-2.06.94zm10 10l.94 2.06.94-2.06 2.06-.94-2.06-.94-.94-2.06-.94 2.06-2.06.94z\"/><path d=\"M17.41 7.96l-1.37-1.37c-.4-.4-.92-.59-1.43-.59-.52 0-1.04.2-1.43.59L10.3 9.45l-7.72 7.72c-.78.78-.78 2.05 0 2.83L4 21.41c.39.39.9.59 1.41.59.51 0 1.02-.2 1.41-.59l7.78-7.78 2.81-2.81c.8-.78.8-2.07 0-2.86zM5.41 20L4 18.59l7.72-7.72 1.47 1.35L5.41 20z\"/>\n",
              "  </svg>\n",
              "      </button>\n",
              "      \n",
              "  <style>\n",
              "    .colab-df-container {\n",
              "      display:flex;\n",
              "      flex-wrap:wrap;\n",
              "      gap: 12px;\n",
              "    }\n",
              "\n",
              "    .colab-df-convert {\n",
              "      background-color: #E8F0FE;\n",
              "      border: none;\n",
              "      border-radius: 50%;\n",
              "      cursor: pointer;\n",
              "      display: none;\n",
              "      fill: #1967D2;\n",
              "      height: 32px;\n",
              "      padding: 0 0 0 0;\n",
              "      width: 32px;\n",
              "    }\n",
              "\n",
              "    .colab-df-convert:hover {\n",
              "      background-color: #E2EBFA;\n",
              "      box-shadow: 0px 1px 2px rgba(60, 64, 67, 0.3), 0px 1px 3px 1px rgba(60, 64, 67, 0.15);\n",
              "      fill: #174EA6;\n",
              "    }\n",
              "\n",
              "    [theme=dark] .colab-df-convert {\n",
              "      background-color: #3B4455;\n",
              "      fill: #D2E3FC;\n",
              "    }\n",
              "\n",
              "    [theme=dark] .colab-df-convert:hover {\n",
              "      background-color: #434B5C;\n",
              "      box-shadow: 0px 1px 3px 1px rgba(0, 0, 0, 0.15);\n",
              "      filter: drop-shadow(0px 1px 2px rgba(0, 0, 0, 0.3));\n",
              "      fill: #FFFFFF;\n",
              "    }\n",
              "  </style>\n",
              "\n",
              "      <script>\n",
              "        const buttonEl =\n",
              "          document.querySelector('#df-a012fa58-59f1-4d7c-8025-4c02628cd146 button.colab-df-convert');\n",
              "        buttonEl.style.display =\n",
              "          google.colab.kernel.accessAllowed ? 'block' : 'none';\n",
              "\n",
              "        async function convertToInteractive(key) {\n",
              "          const element = document.querySelector('#df-a012fa58-59f1-4d7c-8025-4c02628cd146');\n",
              "          const dataTable =\n",
              "            await google.colab.kernel.invokeFunction('convertToInteractive',\n",
              "                                                     [key], {});\n",
              "          if (!dataTable) return;\n",
              "\n",
              "          const docLinkHtml = 'Like what you see? Visit the ' +\n",
              "            '<a target=\"_blank\" href=https://colab.research.google.com/notebooks/data_table.ipynb>data table notebook</a>'\n",
              "            + ' to learn more about interactive tables.';\n",
              "          element.innerHTML = '';\n",
              "          dataTable['output_type'] = 'display_data';\n",
              "          await google.colab.output.renderOutput(dataTable, element);\n",
              "          const docLink = document.createElement('div');\n",
              "          docLink.innerHTML = docLinkHtml;\n",
              "          element.appendChild(docLink);\n",
              "        }\n",
              "      </script>\n",
              "    </div>\n",
              "  </div>\n",
              "  "
            ]
          },
          "metadata": {},
          "execution_count": 62
        }
      ]
    },
    {
      "cell_type": "markdown",
      "source": [
        "Realiza una seleccion de 25 registros y realiza el grafo, tomando como referencia el df recien visto"
      ],
      "metadata": {
        "id": "BSx4IXQeg4sD"
      }
    },
    {
      "cell_type": "code",
      "source": [
        "grafo = dfinfo.head(25)\n",
        "grafo.plot(kind='barh',figsize=(10,8))\n",
        "plt.grid(which='major', linestyle='-', linewidth='0.1', color='green')\n",
        "plt.grid(which='minor', linestyle=':', linewidth='0.5', color='black')\n",
        "plt.show()"
      ],
      "metadata": {
        "colab": {
          "base_uri": "https://localhost:8080/",
          "height": 483
        },
        "id": "PsrR-PKMxwqU",
        "outputId": "ad5ba91f-ad93-42d9-a466-386cb2ef6935"
      },
      "execution_count": 63,
      "outputs": [
        {
          "output_type": "display_data",
          "data": {
            "text/plain": [
              "<Figure size 720x576 with 1 Axes>"
            ],
            "image/png": "[encoded data removed]"
          },
          "metadata": {
            "needs_background": "light"
          }
        }
      ]
    },
    {
      "cell_type": "markdown",
      "source": [
        "Codigo para obtener el R cuadrado (R^2), despues de realizado el ajuste sobre los datos de entrenamiento"
      ],
      "metadata": {
        "id": "ALYke4fXQ8hi"
      }
    },
    {
      "cell_type": "code",
      "source": [
        "train_score = reg.score(X_train_processed, y_train)\n",
        "print(train_score)"
      ],
      "metadata": {
        "id": "WDu0ApaEQxQB",
        "outputId": "4c3684dc-11a4-4aee-c47c-040b197f3974",
        "colab": {
          "base_uri": "https://localhost:8080/"
        }
      },
      "execution_count": 64,
      "outputs": [
        {
          "output_type": "stream",
          "name": "stdout",
          "text": [
            "0.9251032617184392\n"
          ]
        }
      ]
    },
    {
      "cell_type": "markdown",
      "source": [
        "Codigo para obtener el R cuadrado (R^2), despues de realizado el ajuste sobre los datos de prueba"
      ],
      "metadata": {
        "id": "NxuhntFgSdMr"
      }
    },
    {
      "cell_type": "code",
      "source": [
        "test_score = reg.score(X_test_processed,y_test) # Este valor sale negativo no esta claro el porque\n",
        "print(test_score)"
      ],
      "metadata": {
        "id": "c64Sq6iSQ_Rs",
        "outputId": "80f44df3-73df-403a-d699-b948dbd069dd",
        "colab": {
          "base_uri": "https://localhost:8080/"
        }
      },
      "execution_count": 65,
      "outputs": [
        {
          "output_type": "stream",
          "name": "stdout",
          "text": [
            "0.8854738236870737\n"
          ]
        }
      ]
    },
    {
      "cell_type": "markdown",
      "source": [
        "Codigo para obtener las predicciones de los datos de Entrenamiento y prueba"
      ],
      "metadata": {
        "id": "lDnnH68Rt7lF"
      }
    },
    {
      "cell_type": "code",
      "source": [
        "# Obtengan las predicciones del conjunto de entrenamiento\n",
        "train_preds = reg.predict(X_train_processed)\n",
        "# Obtengan las predicciones del conjunto de prueba\n",
        "test_preds = reg.predict(X_test_processed)"
      ],
      "metadata": {
        "id": "ZA8HfRJsofUI"
      },
      "execution_count": 53,
      "outputs": []
    },
    {
      "cell_type": "markdown",
      "source": [
        "Error absoluto medio (MAE)"
      ],
      "metadata": {
        "id": "fFeYzWMaTtfn"
      }
    },
    {
      "cell_type": "code",
      "source": [
        "mae_train = mean_absolute_error(y_train, train_preds) # Como se interpretan estos valores?\n",
        "mae_test = mean_absolute_error(y_test, test_preds)    # Como se interpretan estos valores?\n",
        "print(mae_train)\n",
        "print(mae_test)\n",
        "print('\\n')\n",
        "print('Esto quiere decir que el promedio de ERROR entre valores reales y de prediccion ronda el 5%')"
      ],
      "metadata": {
        "id": "45xeVlVwTv3v",
        "outputId": "3cf17647-b1e1-4585-f6db-8673db657bf9",
        "colab": {
          "base_uri": "https://localhost:8080/"
        }
      },
      "execution_count": 66,
      "outputs": [
        {
          "output_type": "stream",
          "name": "stdout",
          "text": [
            "424.266136649028\n",
            "319.66868969358757\n",
            "\n",
            "\n",
            "Esto quiere decir que el promedio de ERROR entre valores reales y de prediccion ronda el 5%\n"
          ]
        }
      ]
    },
    {
      "cell_type": "markdown",
      "source": [
        "Error cuadratico medio (MSE)"
      ],
      "metadata": {
        "id": "vFBFK5xiUKIi"
      }
    },
    {
      "cell_type": "code",
      "source": [
        "mse_train = mean_squared_error(y_train, train_preds) # Como se interpretan estos valores?\n",
        "mse_test = mean_squared_error(y_test, test_preds)    # Como se interpretan estos valores?\n",
        "print(mse_train)\n",
        "print(mse_test)\n",
        "print('\\n')\n",
        "print('Midiendo el error cuadrado promedio.\\n', \n",
        "      'Por cada punto, calcula la diferencia entre las predicciones y el objetivo, luego promedia esos valores y los retorna.\\n',\n",
        "      'Cuanto mayor sea este valor, peor es el modelo')"
      ],
      "metadata": {
        "id": "Mg68nPoZT9bT",
        "outputId": "533085a3-f0b2-4e13-d96a-efa80155475d",
        "colab": {
          "base_uri": "https://localhost:8080/"
        }
      },
      "execution_count": 67,
      "outputs": [
        {
          "output_type": "stream",
          "name": "stdout",
          "text": [
            "273020.7902162469\n",
            "157660.70956122046\n",
            "\n",
            "\n",
            "Midiendo el error cuadrado promedio.\n",
            " Por cada punto, calcula la diferencia entre las predicciones y el objetivo, luego promedia esos valores y los retorna.\n",
            " Cuanto mayor sea este valor, peor es el modelo\n"
          ]
        }
      ]
    },
    {
      "cell_type": "markdown",
      "source": [
        "Raiz del error cuadratico medio (RECM)"
      ],
      "metadata": {
        "id": "Tr2ON8q3uOyE"
      }
    },
    {
      "cell_type": "code",
      "source": [
        "rmse_train = np.sqrt(mean_squared_error(y_train, train_preds)) # Como se interpretan estos valores?\n",
        "rmse_test = np.sqrt(mean_squared_error(y_test, test_preds))    # Como se interpretan estos valores?\n",
        "print(rmse_train)\n",
        "print(rmse_test)\n",
        "print('\\n')\n",
        "print('Midiendo el error cuadrado promedio.\\n', \n",
        "      'Por cada punto, calcula la diferencia entre las predicciones y el objetivo, luego promedia esos valores y los retorna.\\n',\n",
        "      'Cuanto mayor sea este valor, peor es el modelo')"
      ],
      "metadata": {
        "id": "X-6ebLzRUSwH",
        "outputId": "d5ffa46a-e3e6-4af7-ba7f-6cf763ea07e5",
        "colab": {
          "base_uri": "https://localhost:8080/"
        }
      },
      "execution_count": 68,
      "outputs": [
        {
          "output_type": "stream",
          "name": "stdout",
          "text": [
            "522.513913897273\n",
            "397.06512005113274\n",
            "\n",
            "\n",
            "Midiendo el error cuadrado promedio.\n",
            " Por cada punto, calcula la diferencia entre las predicciones y el objetivo, luego promedia esos valores y los retorna.\n",
            " Cuanto mayor sea este valor, peor es el modelo\n"
          ]
        }
      ]
    },
    {
      "cell_type": "markdown",
      "source": [
        "**Arbol de Decision**"
      ],
      "metadata": {
        "id": "r5MF4_vMmqzs"
      }
    },
    {
      "cell_type": "code",
      "source": [
        "# Crear Arbol de decision con profundidad = 4\n",
        "tree_reg = DecisionTreeRegressor(max_depth=3)\n",
        "tree_reg.fit(X_train_processed, y_train)\n",
        "x1 = X_train_processed\n",
        "y_pred = tree_reg.predict(x1)\n",
        "plt.axis([0, 1, -0.2, 1])\n",
        "plt.xlabel(\"$x_1$\", fontsize=18)\n",
        "plt.ylabel(\"$hat{y}$\", fontsize=18, rotation=0)\n",
        "plt.plot(X_train_processed, y_train, \"b.\")\n",
        "plt.plot(x1, y_pred,\"r-\", linewidth=2, label=r\"$hat{y}$\")\n",
        "#plt.legend(loc=\"upper center\", fontsize=18)\n",
        "plt.show()\n",
        "print('el porcentaje de error de la prediccion total es:',tree_reg.score(X_train_processed, y_train))"
      ],
      "metadata": {
        "colab": {
          "base_uri": "https://localhost:8080/",
          "height": 308
        },
        "id": "Lx6YK5C4mukn",
        "outputId": "279c78a5-d399-4b47-d06f-ac31d211a6cb"
      },
      "execution_count": 86,
      "outputs": [
        {
          "output_type": "display_data",
          "data": {
            "text/plain": [
              "<Figure size 432x288 with 1 Axes>"
            ],
            "image/png": "[encoded data removed]"
          },
          "metadata": {
            "needs_background": "light"
          }
        },
        {
          "output_type": "stream",
          "name": "stdout",
          "text": [
            "el porcentaje de error de la prediccion total es: 0.9576841683176982\n"
          ]
        }
      ]
    },
    {
      "cell_type": "code",
      "source": [
        "X_train_processed"
      ],
      "metadata": {
        "colab": {
          "base_uri": "https://localhost:8080/"
        },
        "id": "LCr16n8ZtCvP",
        "outputId": "04c5dd3d-4d14-4efb-9760-e57ed2ae6464"
      },
      "execution_count": 73,
      "outputs": [
        {
          "output_type": "execute_result",
          "data": {
            "text/plain": [
              "array([[-1.13467373,  0.62853336,  0.75648286, ..., -0.1326752 ,\n",
              "        -0.9574644 , -0.74196028],\n",
              "       [ 1.78768227,  1.84908602,  0.05545584, ..., -0.83980505,\n",
              "         0.32054243, -0.74196028],\n",
              "       [-0.84243813, -0.23870143, -0.1448376 , ..., -0.56969965,\n",
              "        -1.04266486, -0.74196028],\n",
              "       ...,\n",
              "       [-0.84243813, -1.07381641,  0.45604271, ..., -0.33904786,\n",
              "        -0.36106121, -0.74196028],\n",
              "       [ 0.03426867, -1.0095768 , -3.44967928, ...,  0.40450069,\n",
              "        -0.1906603 , -0.74196028],\n",
              "       [-1.13467373,  0.53217394, -0.44527775, ...,  0.1738489 ,\n",
              "        -1.04266486,  1.34778105]])"
            ]
          },
          "metadata": {},
          "execution_count": 73
        }
      ]
    }
  ]
}