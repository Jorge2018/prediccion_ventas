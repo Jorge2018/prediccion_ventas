{
  "nbformat": 4,
  "nbformat_minor": 0,
  "metadata": {
    "colab": {
      "name": "Untitled0.ipynb",
      "provenance": [],
      "collapsed_sections": [],
      "authorship_tag": "ABX9TyNT/5TMaS+yxHOVphFBMp+d",
      "include_colab_link": true
    },
    "kernelspec": {
      "name": "python3",
      "display_name": "Python 3"
    },
    "language_info": {
      "name": "python"
    }
  },
  "cells": [
    {
      "cell_type": "markdown",
      "metadata": {
        "id": "view-in-github",
        "colab_type": "text"
      },
      "source": [
        "<a href=\"https://colab.research.google.com/github/Jorge2018/prediccion_ventas/blob/main/prediccion_ventas07.ipynb\" target=\"_parent\"><img src=\"https://colab.research.google.com/assets/colab-badge.svg\" alt=\"Open In Colab\"/></a>"
      ]
    },
    {
      "cell_type": "code",
      "execution_count": 51,
      "metadata": {
        "colab": {
          "base_uri": "https://localhost:8080/"
        },
        "id": "WvyjrBTEIuwY",
        "outputId": "db41e83f-3532-482f-e75d-0093fd9c5b71"
      },
      "outputs": [
        {
          "output_type": "stream",
          "name": "stdout",
          "text": [
            "<class 'pandas.core.frame.DataFrame'>\n",
            "RangeIndex: 768 entries, 0 to 767\n",
            "Data columns (total 9 columns):\n",
            " #   Column                    Non-Null Count  Dtype  \n",
            "---  ------                    --------------  -----  \n",
            " 0   Pregnancies               768 non-null    int64  \n",
            " 1   Glucose                   768 non-null    int64  \n",
            " 2   BloodPressure             768 non-null    int64  \n",
            " 3   SkinThickness             768 non-null    int64  \n",
            " 4   Insulin                   768 non-null    int64  \n",
            " 5   BMI                       768 non-null    float64\n",
            " 6   DiabetesPedigreeFunction  768 non-null    float64\n",
            " 7   Age                       768 non-null    int64  \n",
            " 8   Outcome                   768 non-null    int64  \n",
            "dtypes: float64(2), int64(7)\n",
            "memory usage: 54.1 KB\n"
          ]
        }
      ],
      "source": [
        "import pandas as pd\n",
        "import numpy as np\n",
        "import matplotlib.pyplot as plt\n",
        "from sklearn.linear_model import LinearRegression\n",
        "from sklearn.metrics import r2_score\n",
        "from sklearn.metrics import mean_absolute_error\n",
        "from sklearn.metrics import mean_squared_error\n",
        "from sklearn.model_selection import train_test_split\n",
        "from sklearn.linear_model import LinearRegression\n",
        "from sklearn.compose import make_column_selector, make_column_transformer\n",
        "from sklearn.impute import SimpleImputer\n",
        "from sklearn.preprocessing import StandardScaler, OneHotEncoder\n",
        "from sklearn.pipeline import make_pipeline\n",
        "from sklearn.tree import DecisionTreeRegressor\n",
        "df=pd.read_csv(r'https://raw.githubusercontent.com/Jorge2018/RepositorioArchivos/main/diabetes.csv')\n",
        "df.info()"
      ]
    },
    {
      "cell_type": "markdown",
      "source": [
        "**Inspeccion de datos**"
      ],
      "metadata": {
        "id": "iXN52et3LHxg"
      }
    },
    {
      "cell_type": "code",
      "source": [
        "df.duplicated()\n",
        "df = df.drop_duplicates()\n",
        "print('la cantidad de registros sin duplicados es:\\n',df.count())\n",
        "print('---------------------------')\n",
        "print('los datos faltantes del df son:\\n',df.isna().sum())\n",
        "print('---------------------------')\n",
        "df.describe"
      ],
      "metadata": {
        "id": "VxBwWistQIMa",
        "outputId": "889c55a4-a22f-4c12-fb58-5e1269d70814",
        "colab": {
          "base_uri": "https://localhost:8080/"
        }
      },
      "execution_count": 52,
      "outputs": [
        {
          "output_type": "stream",
          "name": "stdout",
          "text": [
            "la cantidad de registros sin duplicados es:\n",
            " Pregnancies                 768\n",
            "Glucose                     768\n",
            "BloodPressure               768\n",
            "SkinThickness               768\n",
            "Insulin                     768\n",
            "BMI                         768\n",
            "DiabetesPedigreeFunction    768\n",
            "Age                         768\n",
            "Outcome                     768\n",
            "dtype: int64\n",
            "---------------------------\n",
            "los datos faltantes del df son:\n",
            " Pregnancies                 0\n",
            "Glucose                     0\n",
            "BloodPressure               0\n",
            "SkinThickness               0\n",
            "Insulin                     0\n",
            "BMI                         0\n",
            "DiabetesPedigreeFunction    0\n",
            "Age                         0\n",
            "Outcome                     0\n",
            "dtype: int64\n",
            "---------------------------\n"
          ]
        },
        {
          "output_type": "execute_result",
          "data": {
            "text/plain": [
              "<bound method NDFrame.describe of      Pregnancies  Glucose  BloodPressure  SkinThickness  Insulin   BMI  \\\n",
              "0              6      148             72             35        0  33.6   \n",
              "1              1       85             66             29        0  26.6   \n",
              "2              8      183             64              0        0  23.3   \n",
              "3              1       89             66             23       94  28.1   \n",
              "4              0      137             40             35      168  43.1   \n",
              "..           ...      ...            ...            ...      ...   ...   \n",
              "763           10      101             76             48      180  32.9   \n",
              "764            2      122             70             27        0  36.8   \n",
              "765            5      121             72             23      112  26.2   \n",
              "766            1      126             60              0        0  30.1   \n",
              "767            1       93             70             31        0  30.4   \n",
              "\n",
              "     DiabetesPedigreeFunction  Age  Outcome  \n",
              "0                       0.627   50        1  \n",
              "1                       0.351   31        0  \n",
              "2                       0.672   32        1  \n",
              "3                       0.167   21        0  \n",
              "4                       2.288   33        1  \n",
              "..                        ...  ...      ...  \n",
              "763                     0.171   63        0  \n",
              "764                     0.340   27        0  \n",
              "765                     0.245   30        0  \n",
              "766                     0.349   47        1  \n",
              "767                     0.315   23        0  \n",
              "\n",
              "[768 rows x 9 columns]>"
            ]
          },
          "metadata": {},
          "execution_count": 52
        }
      ]
    },
    {
      "cell_type": "markdown",
      "source": [
        "**Separa valores en X, y**"
      ],
      "metadata": {
        "id": "g6jERu2uLPAf"
      }
    },
    {
      "cell_type": "code",
      "source": [
        "# Dividan\n",
        "X = df.drop('BMI', axis=1)\n",
        "y = df['BMI']\n",
        "X_train, X_test, y_train, y_test = train_test_split(X, y, test_size=0.2, random_state=45)"
      ],
      "metadata": {
        "id": "NlLCQp6FHJUD"
      },
      "execution_count": 54,
      "outputs": []
    },
    {
      "cell_type": "markdown",
      "source": [
        "# Proceso para realizar transformaciones al df"
      ],
      "metadata": {
        "id": "OchnpLyhLWOl"
      }
    },
    {
      "cell_type": "code",
      "source": [
        "## **Instanciar selectores**\n",
        "cat_selector = make_column_selector(dtype_include='object')\n",
        "num_selector = make_column_selector(dtype_include='number')\n",
        "\n",
        "## Instanciar transformadores SimpleImputer, StandardScaler y OneHotEncoder\n",
        "# Imputers\n",
        "mean_imputer = SimpleImputer(strategy='mean')\n",
        "freq_imputer = SimpleImputer(strategy='most_frequent')\n",
        "# Scaler\n",
        "scaler = StandardScaler()\n",
        "# One-hot encoder\n",
        "ohe = OneHotEncoder(handle_unknown='ignore', sparse=False)\n",
        "\n",
        "## **Instanciar el pipeline**\n",
        "numeric_pipe = make_pipeline(mean_imputer, scaler)\n",
        "categorical_pipe = make_pipeline(freq_imputer, ohe)\n",
        "\n",
        "## **Asignacion de tupla e instanciacion de ColumnTransformer**\n",
        "number_tuple = (numeric_pipe, num_selector)\n",
        "category_tuple = (categorical_pipe, cat_selector)\n",
        "# ColumnTransformer\n",
        "preprocessor = make_column_transformer(number_tuple, category_tuple)\n",
        "\n",
        "## **Transformacion de datos**\n",
        "# fit on train\n",
        "preprocessor.fit(X_train,X_test)\n",
        "# transform train and test\n",
        "X_train_processed = preprocessor.transform(X_train)\n",
        "X_test_processed = preprocessor.transform(X_test)\n"
      ],
      "metadata": {
        "id": "yN5a-IkOHvTz"
      },
      "execution_count": 55,
      "outputs": []
    },
    {
      "cell_type": "markdown",
      "source": [
        "**Inspeccion de resultados**"
      ],
      "metadata": {
        "id": "a3OK5Y4UMFHn"
      }
    },
    {
      "cell_type": "code",
      "source": [
        "# Comprueben los valores faltantes y que los datos se escalen y tengan una codificación one-hot\n",
        "print(np.isnan(X_train_processed).sum().sum(), 'valores perdidos en la data de entrenamiento')\n",
        "print(np.isnan(X_test_processed).sum().sum(), 'valores perdidos en la data de prueba')\n",
        "print('\\n')\n",
        "print('Todos los datos procesados del X_train_processed son del tipo:', X_train_processed.dtype)\n",
        "print('Todos los datos procesados del X_test_processed son del tipo', X_test_processed.dtype)\n",
        "print('\\n')\n",
        "print('shape de los datos de entrenamiento son', X_train_processed.shape)\n",
        "print('\\n')\n",
        "print('shape de los datos de test son', X_test_processed.shape)\n"
      ],
      "metadata": {
        "id": "HMEGFo5gK6Ai",
        "outputId": "b2d68202-3b32-4541-d442-614db059f3d9",
        "colab": {
          "base_uri": "https://localhost:8080/"
        }
      },
      "execution_count": 56,
      "outputs": [
        {
          "output_type": "stream",
          "name": "stdout",
          "text": [
            "0 valores perdidos en la data de entrenamiento\n",
            "0 valores perdidos en la data de prueba\n",
            "\n",
            "\n",
            "Todos los datos procesados del X_train_processed son del tipo: float64\n",
            "Todos los datos procesados del X_test_processed son del tipo float64\n",
            "\n",
            "\n",
            "shape de los datos de entrenamiento son (614, 8)\n",
            "\n",
            "\n",
            "shape de los datos de test son (154, 8)\n"
          ]
        }
      ]
    },
    {
      "cell_type": "markdown",
      "source": [
        "**Instancia y proceso del modelo**"
      ],
      "metadata": {
        "id": "d-DxdWsNQo7D"
      }
    },
    {
      "cell_type": "code",
      "source": [
        "reg = LinearRegression()\n",
        "reg.fit(X_train_processed,y_train)\n",
        "print('El bias calculado es', reg.intercept_)\n",
        "print('La pendiente calculada es: ', reg.coef_)\n",
        "print('\\n')\n",
        "print(f'Esto significa que por cada {reg.intercept_} unidad de BMI, el cambio en la pendiente de cada una de sus caracteristicas seran los valores que nos retorna el coef.')"
      ],
      "metadata": {
        "id": "1IbEWN96PeKe",
        "outputId": "dd9fd3d6-4e62-4cd7-a7ec-8c0b315ec4c6",
        "colab": {
          "base_uri": "https://localhost:8080/"
        }
      },
      "execution_count": 57,
      "outputs": [
        {
          "output_type": "stream",
          "name": "stdout",
          "text": [
            "El bias calculado es 31.906351791530945\n",
            "La pendiente calculada es:  [-0.12105317  0.50690936  1.6457912   2.71583571 -0.19491907  0.04296691\n",
            " -0.28718876  1.8770883 ]\n",
            "\n",
            "\n",
            "Esto significa que por cada 31.906351791530945 unidad de BMI, el cambio en la pendiente de cada una de sus caracteristicas seran los valores que nos retorna el coef.\n"
          ]
        }
      ]
    },
    {
      "cell_type": "markdown",
      "source": [
        "Comparativa entre valor real y la prediccion realizada "
      ],
      "metadata": {
        "id": "fJpPw70mxL29"
      }
    },
    {
      "cell_type": "code",
      "source": [
        "y_pred = reg.predict(X_test_processed)\n",
        "dfinfo = pd.DataFrame({'Real': y_test.values.flatten(), 'Prediccion': y_pred.flatten()})\n",
        "dfinfo"
      ],
      "metadata": {
        "colab": {
          "base_uri": "https://localhost:8080/",
          "height": 424
        },
        "id": "_dV5VtbawjSw",
        "outputId": "e1f00a79-76e9-4f9e-9c4d-dfb6da22fb2b"
      },
      "execution_count": 58,
      "outputs": [
        {
          "output_type": "execute_result",
          "data": {
            "text/plain": [
              "     Real  Prediccion\n",
              "0    39.4   39.549374\n",
              "1    24.2   28.053933\n",
              "2    32.5   37.602445\n",
              "3    29.9   28.201986\n",
              "4    34.8   35.591230\n",
              "..    ...         ...\n",
              "149  31.2   26.700145\n",
              "150  38.1   33.757728\n",
              "151  36.6   34.735007\n",
              "152  39.9   32.968769\n",
              "153  32.8   32.858674\n",
              "\n",
              "[154 rows x 2 columns]"
            ],
            "text/html": [
              "\n",
              "  <div id=\"df-2a7a4033-4822-4e12-b85a-5312a6f166a7\">\n",
              "    <div class=\"colab-df-container\">\n",
              "      <div>\n",
              "<style scoped>\n",
              "    .dataframe tbody tr th:only-of-type {\n",
              "        vertical-align: middle;\n",
              "    }\n",
              "\n",
              "    .dataframe tbody tr th {\n",
              "        vertical-align: top;\n",
              "    }\n",
              "\n",
              "    .dataframe thead th {\n",
              "        text-align: right;\n",
              "    }\n",
              "</style>\n",
              "<table border=\"1\" class=\"dataframe\">\n",
              "  <thead>\n",
              "    <tr style=\"text-align: right;\">\n",
              "      <th></th>\n",
              "      <th>Real</th>\n",
              "      <th>Prediccion</th>\n",
              "    </tr>\n",
              "  </thead>\n",
              "  <tbody>\n",
              "    <tr>\n",
              "      <th>0</th>\n",
              "      <td>39.4</td>\n",
              "      <td>39.549374</td>\n",
              "    </tr>\n",
              "    <tr>\n",
              "      <th>1</th>\n",
              "      <td>24.2</td>\n",
              "      <td>28.053933</td>\n",
              "    </tr>\n",
              "    <tr>\n",
              "      <th>2</th>\n",
              "      <td>32.5</td>\n",
              "      <td>37.602445</td>\n",
              "    </tr>\n",
              "    <tr>\n",
              "      <th>3</th>\n",
              "      <td>29.9</td>\n",
              "      <td>28.201986</td>\n",
              "    </tr>\n",
              "    <tr>\n",
              "      <th>4</th>\n",
              "      <td>34.8</td>\n",
              "      <td>35.591230</td>\n",
              "    </tr>\n",
              "    <tr>\n",
              "      <th>...</th>\n",
              "      <td>...</td>\n",
              "      <td>...</td>\n",
              "    </tr>\n",
              "    <tr>\n",
              "      <th>149</th>\n",
              "      <td>31.2</td>\n",
              "      <td>26.700145</td>\n",
              "    </tr>\n",
              "    <tr>\n",
              "      <th>150</th>\n",
              "      <td>38.1</td>\n",
              "      <td>33.757728</td>\n",
              "    </tr>\n",
              "    <tr>\n",
              "      <th>151</th>\n",
              "      <td>36.6</td>\n",
              "      <td>34.735007</td>\n",
              "    </tr>\n",
              "    <tr>\n",
              "      <th>152</th>\n",
              "      <td>39.9</td>\n",
              "      <td>32.968769</td>\n",
              "    </tr>\n",
              "    <tr>\n",
              "      <th>153</th>\n",
              "      <td>32.8</td>\n",
              "      <td>32.858674</td>\n",
              "    </tr>\n",
              "  </tbody>\n",
              "</table>\n",
              "<p>154 rows × 2 columns</p>\n",
              "</div>\n",
              "      <button class=\"colab-df-convert\" onclick=\"convertToInteractive('df-2a7a4033-4822-4e12-b85a-5312a6f166a7')\"\n",
              "              title=\"Convert this dataframe to an interactive table.\"\n",
              "              style=\"display:none;\">\n",
              "        \n",
              "  <svg xmlns=\"http://www.w3.org/2000/svg\" height=\"24px\"viewBox=\"0 0 24 24\"\n",
              "       width=\"24px\">\n",
              "    <path d=\"M0 0h24v24H0V0z\" fill=\"none\"/>\n",
              "    <path d=\"M18.56 5.44l.94 2.06.94-2.06 2.06-.94-2.06-.94-.94-2.06-.94 2.06-2.06.94zm-11 1L8.5 8.5l.94-2.06 2.06-.94-2.06-.94L8.5 2.5l-.94 2.06-2.06.94zm10 10l.94 2.06.94-2.06 2.06-.94-2.06-.94-.94-2.06-.94 2.06-2.06.94z\"/><path d=\"M17.41 7.96l-1.37-1.37c-.4-.4-.92-.59-1.43-.59-.52 0-1.04.2-1.43.59L10.3 9.45l-7.72 7.72c-.78.78-.78 2.05 0 2.83L4 21.41c.39.39.9.59 1.41.59.51 0 1.02-.2 1.41-.59l7.78-7.78 2.81-2.81c.8-.78.8-2.07 0-2.86zM5.41 20L4 18.59l7.72-7.72 1.47 1.35L5.41 20z\"/>\n",
              "  </svg>\n",
              "      </button>\n",
              "      \n",
              "  <style>\n",
              "    .colab-df-container {\n",
              "      display:flex;\n",
              "      flex-wrap:wrap;\n",
              "      gap: 12px;\n",
              "    }\n",
              "\n",
              "    .colab-df-convert {\n",
              "      background-color: #E8F0FE;\n",
              "      border: none;\n",
              "      border-radius: 50%;\n",
              "      cursor: pointer;\n",
              "      display: none;\n",
              "      fill: #1967D2;\n",
              "      height: 32px;\n",
              "      padding: 0 0 0 0;\n",
              "      width: 32px;\n",
              "    }\n",
              "\n",
              "    .colab-df-convert:hover {\n",
              "      background-color: #E2EBFA;\n",
              "      box-shadow: 0px 1px 2px rgba(60, 64, 67, 0.3), 0px 1px 3px 1px rgba(60, 64, 67, 0.15);\n",
              "      fill: #174EA6;\n",
              "    }\n",
              "\n",
              "    [theme=dark] .colab-df-convert {\n",
              "      background-color: #3B4455;\n",
              "      fill: #D2E3FC;\n",
              "    }\n",
              "\n",
              "    [theme=dark] .colab-df-convert:hover {\n",
              "      background-color: #434B5C;\n",
              "      box-shadow: 0px 1px 3px 1px rgba(0, 0, 0, 0.15);\n",
              "      filter: drop-shadow(0px 1px 2px rgba(0, 0, 0, 0.3));\n",
              "      fill: #FFFFFF;\n",
              "    }\n",
              "  </style>\n",
              "\n",
              "      <script>\n",
              "        const buttonEl =\n",
              "          document.querySelector('#df-2a7a4033-4822-4e12-b85a-5312a6f166a7 button.colab-df-convert');\n",
              "        buttonEl.style.display =\n",
              "          google.colab.kernel.accessAllowed ? 'block' : 'none';\n",
              "\n",
              "        async function convertToInteractive(key) {\n",
              "          const element = document.querySelector('#df-2a7a4033-4822-4e12-b85a-5312a6f166a7');\n",
              "          const dataTable =\n",
              "            await google.colab.kernel.invokeFunction('convertToInteractive',\n",
              "                                                     [key], {});\n",
              "          if (!dataTable) return;\n",
              "\n",
              "          const docLinkHtml = 'Like what you see? Visit the ' +\n",
              "            '<a target=\"_blank\" href=https://colab.research.google.com/notebooks/data_table.ipynb>data table notebook</a>'\n",
              "            + ' to learn more about interactive tables.';\n",
              "          element.innerHTML = '';\n",
              "          dataTable['output_type'] = 'display_data';\n",
              "          await google.colab.output.renderOutput(dataTable, element);\n",
              "          const docLink = document.createElement('div');\n",
              "          docLink.innerHTML = docLinkHtml;\n",
              "          element.appendChild(docLink);\n",
              "        }\n",
              "      </script>\n",
              "    </div>\n",
              "  </div>\n",
              "  "
            ]
          },
          "metadata": {},
          "execution_count": 58
        }
      ]
    },
    {
      "cell_type": "markdown",
      "source": [
        "Realiza una seleccion de 25 registros y realiza el grafo, tomando como referencia el df recien visto"
      ],
      "metadata": {
        "id": "BSx4IXQeg4sD"
      }
    },
    {
      "cell_type": "code",
      "source": [
        "grafo = dfinfo.head(25)\n",
        "grafo.plot(kind='barh',figsize=(10,8))\n",
        "plt.grid(which='major', linestyle='-', linewidth='0.1', color='green')\n",
        "plt.grid(which='minor', linestyle=':', linewidth='0.5', color='black')\n",
        "plt.show()"
      ],
      "metadata": {
        "colab": {
          "base_uri": "https://localhost:8080/",
          "height": 483
        },
        "id": "PsrR-PKMxwqU",
        "outputId": "48705cbe-4485-4b86-b5cc-4bbd194e4555"
      },
      "execution_count": 59,
      "outputs": [
        {
          "output_type": "display_data",
          "data": {
            "text/plain": [
              "<Figure size 720x576 with 1 Axes>"
            ],
            "image/png": "[encoded data removed]"
          },
          "metadata": {
            "needs_background": "light"
          }
        }
      ]
    },
    {
      "cell_type": "markdown",
      "source": [
        "Codigo para obtener el R cuadrado (R^2), despues de realizado el ajuste sobre los datos de entrenamiento"
      ],
      "metadata": {
        "id": "ALYke4fXQ8hi"
      }
    },
    {
      "cell_type": "code",
      "source": [
        "train_score = reg.score(X_train_processed, y_train)\n",
        "print(train_score)"
      ],
      "metadata": {
        "id": "WDu0ApaEQxQB",
        "outputId": "121f3a16-14ab-4634-93b1-8e9e38c7bb02",
        "colab": {
          "base_uri": "https://localhost:8080/"
        }
      },
      "execution_count": 60,
      "outputs": [
        {
          "output_type": "stream",
          "name": "stdout",
          "text": [
            "0.28044114778973706\n"
          ]
        }
      ]
    },
    {
      "cell_type": "markdown",
      "source": [
        "Codigo para obtener el R cuadrado (R^2), despues de realizado el ajuste sobre los datos de prueba"
      ],
      "metadata": {
        "id": "NxuhntFgSdMr"
      }
    },
    {
      "cell_type": "code",
      "source": [
        "test_score = reg.score(X_test_processed,y_test) # Este valor sale negativo no esta claro el porque\n",
        "print(test_score)"
      ],
      "metadata": {
        "id": "c64Sq6iSQ_Rs",
        "outputId": "50707e58-59d4-4071-c04c-648146027466",
        "colab": {
          "base_uri": "https://localhost:8080/"
        }
      },
      "execution_count": 61,
      "outputs": [
        {
          "output_type": "stream",
          "name": "stdout",
          "text": [
            "0.20392286525339332\n"
          ]
        }
      ]
    },
    {
      "cell_type": "markdown",
      "source": [
        "Codigo para obtener las predicciones de los datos de Entrenamiento y prueba"
      ],
      "metadata": {
        "id": "lDnnH68Rt7lF"
      }
    },
    {
      "cell_type": "code",
      "source": [
        "# Obtengan las predicciones del conjunto de entrenamiento\n",
        "train_preds = reg.predict(X_train_processed)\n",
        "# Obtengan las predicciones del conjunto de prueba\n",
        "test_preds = reg.predict(X_test_processed)"
      ],
      "metadata": {
        "id": "ZA8HfRJsofUI"
      },
      "execution_count": 62,
      "outputs": []
    },
    {
      "cell_type": "markdown",
      "source": [
        "Error absoluto medio (MAE)"
      ],
      "metadata": {
        "id": "fFeYzWMaTtfn"
      }
    },
    {
      "cell_type": "code",
      "source": [
        "mae_train = mean_absolute_error(y_train, train_preds) # Como se interpretan estos valores?\n",
        "mae_test = mean_absolute_error(y_test, test_preds)    # Como se interpretan estos valores?\n",
        "print(mae_train)\n",
        "print(mae_test)\n",
        "print('\\n')\n",
        "print('Esto quiere decir que el promedio de ERROR entre valores reales y de prediccion ronda el 5%')"
      ],
      "metadata": {
        "id": "45xeVlVwTv3v",
        "outputId": "34a8e8e5-d9a9-41d8-f0e6-f848a84ea250",
        "colab": {
          "base_uri": "https://localhost:8080/"
        }
      },
      "execution_count": 63,
      "outputs": [
        {
          "output_type": "stream",
          "name": "stdout",
          "text": [
            "5.039015455602508\n",
            "4.8654774314374585\n",
            "\n",
            "\n",
            "Esto quiere decir que el promedio de ERROR entre valores reales y de prediccion ronda el 5%\n"
          ]
        }
      ]
    },
    {
      "cell_type": "markdown",
      "source": [
        "Error cuadratico medio (MSE)"
      ],
      "metadata": {
        "id": "vFBFK5xiUKIi"
      }
    },
    {
      "cell_type": "code",
      "source": [
        "mse_train = mean_squared_error(y_train, train_preds) # Como se interpretan estos valores?\n",
        "mse_test = mean_squared_error(y_test, test_preds)    # Como se interpretan estos valores?\n",
        "print(mse_train)\n",
        "print(mse_test)\n",
        "print('\\n')\n",
        "print('Midiendo el error cuadrado promedio.\\n', \n",
        "      'Por cada punto, calcula la diferencia entre las predicciones y el objetivo, luego promedia esos valores y los retorna.\\n',\n",
        "      'Cuanto mayor sea este valor, peor es el modelo')"
      ],
      "metadata": {
        "id": "Mg68nPoZT9bT",
        "outputId": "2cd65cc1-639a-4aab-fda9-f910d94ecf84",
        "colab": {
          "base_uri": "https://localhost:8080/"
        }
      },
      "execution_count": 64,
      "outputs": [
        {
          "output_type": "stream",
          "name": "stdout",
          "text": [
            "45.837287878153134\n",
            "44.151039415320994\n",
            "\n",
            "\n",
            "Midiendo el error cuadrado promedio.\n",
            " Por cada punto, calcula la diferencia entre las predicciones y el objetivo, luego promedia esos valores y los retorna.\n",
            " Cuanto mayor sea este valor, peor es el modelo\n"
          ]
        }
      ]
    },
    {
      "cell_type": "markdown",
      "source": [
        "Raiz del error cuadratico medio (RECM)"
      ],
      "metadata": {
        "id": "Tr2ON8q3uOyE"
      }
    },
    {
      "cell_type": "code",
      "source": [
        "rmse_train = np.sqrt(mean_squared_error(y_train, train_preds)) # Como se interpretan estos valores?\n",
        "rmse_test = np.sqrt(mean_squared_error(y_test, test_preds))    # Como se interpretan estos valores?\n",
        "print(rmse_train)\n",
        "print(rmse_test)\n",
        "print('\\n')\n",
        "print('Midiendo el error cuadrado promedio.\\n', \n",
        "      'Por cada punto, calcula la diferencia entre las predicciones y el objetivo, luego promedia esos valores y los retorna.\\n',\n",
        "      'Cuanto mayor sea este valor, peor es el modelo')"
      ],
      "metadata": {
        "id": "X-6ebLzRUSwH",
        "outputId": "ad178bd0-ad3d-4432-865c-d1b4e9d16f0d",
        "colab": {
          "base_uri": "https://localhost:8080/"
        }
      },
      "execution_count": 65,
      "outputs": [
        {
          "output_type": "stream",
          "name": "stdout",
          "text": [
            "6.770324060054521\n",
            "6.644624851360759\n",
            "\n",
            "\n",
            "Midiendo el error cuadrado promedio.\n",
            " Por cada punto, calcula la diferencia entre las predicciones y el objetivo, luego promedia esos valores y los retorna.\n",
            " Cuanto mayor sea este valor, peor es el modelo\n"
          ]
        }
      ]
    },
    {
      "cell_type": "markdown",
      "source": [
        "**Arbol de Decision**"
      ],
      "metadata": {
        "id": "r5MF4_vMmqzs"
      }
    },
    {
      "cell_type": "code",
      "source": [
        "# Crear Arbol de decision con profundidad = 4\n",
        "tree_reg = DecisionTreeRegressor(max_depth=3)\n",
        "tree_reg.fit(X_train_processed, y_train)\n",
        "\n",
        "x1 = X_train_processed\n",
        "y_pred = tree_reg.predict(x1)\n",
        "plt.axis([0, 1, -0.2, 1])\n",
        "plt.xlabel(\"$x_1$\", fontsize=18)\n",
        "plt.ylabel(\"$hat{y}$\", fontsize=18, rotation=0)\n",
        "plt.plot(X, y, \"b.\")\n",
        "plt.plot(x1, y_pred,\"r-\", linewidth=2, label=r\"$hat{y}$\")\n",
        "plt.legend(loc=\"upper center\", fontsize=18)\n",
        "plt.show()\n",
        "print('el porcentaje de error de la prediccion total es:',tree_reg.score(X_train_processed, y_train))"
      ],
      "metadata": {
        "id": "Lx6YK5C4mukn",
        "outputId": "dbf32125-d0ee-43d7-c904-a12f01ebd4d1",
        "colab": {
          "base_uri": "https://localhost:8080/",
          "height": 314
        }
      },
      "execution_count": 75,
      "outputs": [
        {
          "output_type": "display_data",
          "data": {
            "text/plain": [
              "<Figure size 432x288 with 1 Axes>"
            ],
            "image/png": "[encoded data removed]"
          },
          "metadata": {
            "needs_background": "light"
          }
        },
        {
          "output_type": "stream",
          "name": "stdout",
          "text": [
            "el porcentaje de error de la prediccion total es: 0.3890269610372462\n"
          ]
        }
      ]
    },
    {
      "cell_type": "code",
      "source": [
        "X_train_processed"
      ],
      "metadata": {
        "id": "LCr16n8ZtCvP",
        "outputId": "04c5dd3d-4d14-4efb-9760-e57ed2ae6464",
        "colab": {
          "base_uri": "https://localhost:8080/"
        }
      },
      "execution_count": 73,
      "outputs": [
        {
          "output_type": "execute_result",
          "data": {
            "text/plain": [
              "array([[-1.13467373,  0.62853336,  0.75648286, ..., -0.1326752 ,\n",
              "        -0.9574644 , -0.74196028],\n",
              "       [ 1.78768227,  1.84908602,  0.05545584, ..., -0.83980505,\n",
              "         0.32054243, -0.74196028],\n",
              "       [-0.84243813, -0.23870143, -0.1448376 , ..., -0.56969965,\n",
              "        -1.04266486, -0.74196028],\n",
              "       ...,\n",
              "       [-0.84243813, -1.07381641,  0.45604271, ..., -0.33904786,\n",
              "        -0.36106121, -0.74196028],\n",
              "       [ 0.03426867, -1.0095768 , -3.44967928, ...,  0.40450069,\n",
              "        -0.1906603 , -0.74196028],\n",
              "       [-1.13467373,  0.53217394, -0.44527775, ...,  0.1738489 ,\n",
              "        -1.04266486,  1.34778105]])"
            ]
          },
          "metadata": {},
          "execution_count": 73
        }
      ]
    }
  ]
}